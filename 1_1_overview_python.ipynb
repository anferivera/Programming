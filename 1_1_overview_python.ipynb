{
  "cells": [
    {
      "cell_type": "markdown",
      "metadata": {
        "id": "view-in-github",
        "colab_type": "text"
      },
      "source": [
        "<a href=\"https://colab.research.google.com/github/anferivera/Programming/blob/main/1_1_overview_python.ipynb\" target=\"_parent\"><img src=\"https://colab.research.google.com/assets/colab-badge.svg\" alt=\"Open In Colab\"/></a>"
      ]
    },
    {
      "cell_type": "markdown",
      "source": [
        " Based in Diego Restrepo y Sebastian Bustamante notebooks. https://github.com/restrepo/ComputationalMethods"
      ],
      "metadata": {
        "id": "FgCwbFTFLhFd"
      }
    },
    {
      "cell_type": "markdown",
      "metadata": {
        "id": "z1SIn1JPn-F3"
      },
      "source": [
        "<div style=\"float: right;\" markdown=\"1\">\n",
        "    <img src=\"https://www.python.org/static/community_logos/python-logo-master-v3-TM.png\">\n",
        "</div>\n",
        "\n",
        "PYTHON\n",
        "==\n",
        "\n",
        "Python is an interpreted programming language oriented to easy-readable coding, unlike compiled languages like C/C++ and Fortran, where the syntax usually does not favor the readability. This feature makes Python very interesting when we want to focus on something different than the program structure itself, e.g. on Computational Methods, thereby allowing to optimize our time, to debug syntax errors easily, etc.\n",
        "\n",
        "\n",
        "[Official page](https://www.python.org/)\n",
        "\n",
        "[Wikipedia](http://en.wikipedia.org/wiki/Python_(programming_language))\n",
        "\n",
        "\n",
        "Python Philosophy\n",
        "--\n",
        "1. Beautiful is better than ugly.\n",
        "2. Explicit is better than implicit.\n",
        "3. Simple is better than complex.\n",
        "4. Complex is better than complicated.\n",
        "5. Flat is better than nested.\n",
        "6. Sparse is better than dense.\n",
        "7. Readability counts.\n",
        "8. Special cases aren't special enough to break the rules. (Although practicality beats purity)\n",
        "9. Errors should never pass silently. (Unless explicitly silenced)\n",
        "10. In the face of ambiguity, refuse the temptation to guess.\n",
        "11. There should be one-- and preferably only one --obvious way to do it. (Although that way may not be obvious at first unless you're Dutch)\n",
        "12. Now is better than never. (Although never is often better than right now)\n",
        "13. If the implementation is hard to explain, it's a bad idea.\n",
        "14. If the implementation is easy to explain, it may be a good idea.\n",
        "15. NameSpaces are one honking great idea -- let's do more of those!"
      ]
    },
    {
      "cell_type": "markdown",
      "metadata": {
        "id": "_c6Isy69n-F6"
      },
      "source": [
        "- - -"
      ]
    },
    {
      "cell_type": "markdown",
      "metadata": {
        "id": "1Vd7O2nFn-F7"
      },
      "source": [
        "- [Hello World!](#Hello-World!)\n",
        "- [Arithmetics](#Arithmetics)\n",
        "- [Lists, Tuples and Dictionaries](#Lists,-Tuples-and-Dictionaries)\n",
        "- [Bucles and Conditionals](#Bucles-and-Conditionals)\n",
        "- [Functions](#Functions)"
      ]
    },
    {
      "cell_type": "markdown",
      "metadata": {
        "id": "b1l1x3sgn-F7"
      },
      "source": [
        "- - -"
      ]
    },
    {
      "cell_type": "markdown",
      "metadata": {
        "id": "w6YegMwSn-F7"
      },
      "source": [
        "# Hello World!"
      ]
    },
    {
      "cell_type": "code",
      "execution_count": null,
      "metadata": {
        "id": "nkIq6Xbkn-F8",
        "outputId": "fd627471-6668-46b8-8942-c703eb40daa7",
        "colab": {
          "base_uri": "https://localhost:8080/"
        }
      },
      "outputs": [
        {
          "output_type": "stream",
          "name": "stdout",
          "text": [
            "Hello World!\n"
          ]
        }
      ],
      "source": [
        "print('Hello World!')"
      ]
    },
    {
      "cell_type": "markdown",
      "metadata": {
        "id": "rA1Z3sNXn-F9"
      },
      "source": [
        "And also allows scripting: *(This code should be copied on a file 'hello.py')*"
      ]
    },
    {
      "cell_type": "code",
      "execution_count": null,
      "metadata": {
        "id": "LnQsAmDYn-F-",
        "outputId": "84588230-b805-4074-84fe-849d8f7e738c"
      },
      "outputs": [
        {
          "name": "stdout",
          "output_type": "stream",
          "text": [
            "Hello World!\n"
          ]
        }
      ],
      "source": [
        "#! /usr/bin/python\n",
        "\n",
        "#This is a comment\n",
        "print('Hello World!')"
      ]
    },
    {
      "cell_type": "markdown",
      "metadata": {
        "id": "b1crZ4Azn-F-"
      },
      "source": [
        "# Arithmetics"
      ]
    },
    {
      "cell_type": "markdown",
      "metadata": {
        "id": "04P6eeoen-F-"
      },
      "source": [
        "## Sum"
      ]
    },
    {
      "cell_type": "code",
      "execution_count": null,
      "metadata": {
        "colab": {
          "base_uri": "https://localhost:8080/"
        },
        "id": "PpHvipZDn-F-",
        "outputId": "760d8133-77d0-4594-b6ca-039c22c85cdb"
      },
      "outputs": [
        {
          "output_type": "execute_result",
          "data": {
            "text/plain": [
              "12.78"
            ]
          },
          "metadata": {},
          "execution_count": 3
        }
      ],
      "source": [
        "5.89+4.89+2"
      ]
    },
    {
      "cell_type": "markdown",
      "metadata": {
        "id": "ohxYBlMEn-F_"
      },
      "source": [
        "## Multiplication"
      ]
    },
    {
      "cell_type": "code",
      "execution_count": null,
      "metadata": {
        "colab": {
          "base_uri": "https://localhost:8080/"
        },
        "id": "54iXy69Hn-F_",
        "outputId": "7545d121-f810-4b90-a504-d724fcbb20a8"
      },
      "outputs": [
        {
          "output_type": "execute_result",
          "data": {
            "text/plain": [
              "540.0"
            ]
          },
          "metadata": {},
          "execution_count": 4
        }
      ],
      "source": [
        "120*4.5"
      ]
    },
    {
      "cell_type": "markdown",
      "metadata": {
        "id": "kqErkCHjn-F_"
      },
      "source": [
        "## **Division**"
      ]
    },
    {
      "cell_type": "code",
      "execution_count": null,
      "metadata": {
        "colab": {
          "base_uri": "https://localhost:8080/"
        },
        "id": "PRX3t9hin-F_",
        "outputId": "f70e6c7a-925b-4f82-89a1-04e24d6d4255"
      },
      "outputs": [
        {
          "output_type": "execute_result",
          "data": {
            "text/plain": [
              "33.333333333333336"
            ]
          },
          "metadata": {},
          "execution_count": 6
        }
      ],
      "source": [
        "100/3"
      ]
    },
    {
      "cell_type": "code",
      "execution_count": null,
      "metadata": {
        "colab": {
          "base_uri": "https://localhost:8080/"
        },
        "id": "F7XT8TE4n-GA",
        "outputId": "a15f2a1f-709b-4fcf-baea-996d818a7f69"
      },
      "outputs": [
        {
          "output_type": "execute_result",
          "data": {
            "text/plain": [
              "33.333333333333336"
            ]
          },
          "metadata": {},
          "execution_count": 7
        }
      ],
      "source": [
        "100/3."
      ]
    },
    {
      "cell_type": "markdown",
      "metadata": {
        "id": "3a_ziIUin-GA"
      },
      "source": [
        "## **Power**"
      ]
    },
    {
      "cell_type": "code",
      "execution_count": null,
      "metadata": {
        "colab": {
          "base_uri": "https://localhost:8080/"
        },
        "id": "M0Rla0VSn-GA",
        "outputId": "7c769703-9f28-431c-dc75-062a3e3bdd4b"
      },
      "outputs": [
        {
          "output_type": "execute_result",
          "data": {
            "text/plain": [
              "8"
            ]
          },
          "metadata": {},
          "execution_count": 8
        }
      ],
      "source": [
        "2**3"
      ]
    },
    {
      "cell_type": "markdown",
      "metadata": {
        "id": "4O-YetpSn-GA"
      },
      "source": [
        "## **Module**"
      ]
    },
    {
      "cell_type": "code",
      "execution_count": null,
      "metadata": {
        "colab": {
          "base_uri": "https://localhost:8080/"
        },
        "id": "57Rnxcudn-GA",
        "outputId": "f5d539f2-6c6a-4385-f8f7-10c340a63b1c"
      },
      "outputs": [
        {
          "output_type": "execute_result",
          "data": {
            "text/plain": [
              "0"
            ]
          },
          "metadata": {},
          "execution_count": 9
        }
      ],
      "source": [
        "10%2"
      ]
    },
    {
      "cell_type": "code",
      "execution_count": null,
      "metadata": {
        "colab": {
          "base_uri": "https://localhost:8080/"
        },
        "id": "1CgLRjfin-GB",
        "outputId": "0628b004-09b8-411d-c275-0ea9439d1cee"
      },
      "outputs": [
        {
          "output_type": "execute_result",
          "data": {
            "text/plain": [
              "2"
            ]
          },
          "metadata": {},
          "execution_count": 13
        }
      ],
      "source": [
        "20%3"
      ]
    },
    {
      "cell_type": "markdown",
      "metadata": {
        "id": "zInLnQXNn-GB"
      },
      "source": [
        "## **Scientific notation**"
      ]
    },
    {
      "cell_type": "code",
      "execution_count": null,
      "metadata": {
        "colab": {
          "base_uri": "https://localhost:8080/"
        },
        "id": "R8yqGdgBn-GB",
        "outputId": "ea69394e-63cc-449a-db88-d1e6b8952b69"
      },
      "outputs": [
        {
          "output_type": "execute_result",
          "data": {
            "text/plain": [
              "6.233333333333333e+25"
            ]
          },
          "metadata": {},
          "execution_count": 14
        }
      ],
      "source": [
        "(1.0e24/3. + 2.9e23)/1e-2"
      ]
    },
    {
      "cell_type": "code",
      "source": [
        "2.1e-5"
      ],
      "metadata": {
        "colab": {
          "base_uri": "https://localhost:8080/"
        },
        "id": "RJ1l9-HQoXNm",
        "outputId": "8252ab17-19ae-453a-b2ee-3bdcd1f52716"
      },
      "execution_count": null,
      "outputs": [
        {
          "output_type": "execute_result",
          "data": {
            "text/plain": [
              "2.1e-05"
            ]
          },
          "metadata": {},
          "execution_count": 15
        }
      ]
    },
    {
      "cell_type": "markdown",
      "metadata": {
        "id": "vJU1o4Tan-GB"
      },
      "source": [
        "# Lists, Tuples and Dictionaries"
      ]
    },
    {
      "cell_type": "markdown",
      "metadata": {
        "id": "Y-g6BhqMn-GC"
      },
      "source": [
        "## Lists"
      ]
    },
    {
      "cell_type": "markdown",
      "metadata": {
        "id": "0CaZXOntn-GC"
      },
      "source": [
        "Lists are useful when you want to store and manipulate a set of elements (even of different types)."
      ]
    },
    {
      "cell_type": "code",
      "execution_count": null,
      "metadata": {
        "colab": {
          "base_uri": "https://localhost:8080/"
        },
        "id": "1BXG8tLPn-GC",
        "outputId": "0eabf88f-27a5-4bb2-93ec-795278612d70"
      },
      "outputs": [
        {
          "output_type": "stream",
          "name": "stdout",
          "text": [
            "['abc', 42, 3.1415]\n"
          ]
        }
      ],
      "source": [
        "#A list is declared using [] and may content different type of objects\n",
        "lista = [\"abc\", 42, 3.1415]\n",
        "print(lista)"
      ]
    },
    {
      "cell_type": "code",
      "execution_count": null,
      "metadata": {
        "colab": {
          "base_uri": "https://localhost:8080/"
        },
        "id": "UQVPR2HVn-GC",
        "outputId": "bfa0c413-3866-46ba-d446-813f6fae1cd1"
      },
      "outputs": [
        {
          "output_type": "execute_result",
          "data": {
            "text/plain": [
              "3.1415"
            ]
          },
          "metadata": {},
          "execution_count": 23
        }
      ],
      "source": [
        "#First element of the list\n",
        "lista[2]"
      ]
    },
    {
      "cell_type": "code",
      "execution_count": null,
      "metadata": {
        "colab": {
          "base_uri": "https://localhost:8080/"
        },
        "id": "QFyXnUq8n-GC",
        "outputId": "bf187a75-2992-4474-dfde-cdaced83fd31"
      },
      "outputs": [
        {
          "output_type": "execute_result",
          "data": {
            "text/plain": [
              "3.1415"
            ]
          },
          "metadata": {},
          "execution_count": 24
        }
      ],
      "source": [
        "#Last element of the list\n",
        "lista[-1]"
      ]
    },
    {
      "cell_type": "code",
      "execution_count": null,
      "metadata": {
        "colab": {
          "base_uri": "https://localhost:8080/"
        },
        "id": "hjv7215Rn-GC",
        "outputId": "7cab80ee-0bcc-4969-ab71-cf5f82accdec"
      },
      "outputs": [
        {
          "output_type": "stream",
          "name": "stdout",
          "text": [
            "['abc', 42, 3.1415, 'otro']\n"
          ]
        }
      ],
      "source": [
        "#Adding a new element (boolean element)\n",
        "lista.append('otro')\n",
        "print(lista)"
      ]
    },
    {
      "cell_type": "code",
      "execution_count": null,
      "metadata": {
        "colab": {
          "base_uri": "https://localhost:8080/"
        },
        "id": "JZPEB5FWn-GD",
        "outputId": "655fb6aa-7d37-4dd7-8da4-fee77a05d3a0"
      },
      "outputs": [
        {
          "output_type": "stream",
          "name": "stdout",
          "text": [
            "['abc', 'I am second', 42, 3.1415, 'otro']\n"
          ]
        }
      ],
      "source": [
        "#Inserting a new second element\n",
        "lista.insert(1, \"I am second\")\n",
        "print(lista)"
      ]
    },
    {
      "cell_type": "code",
      "execution_count": null,
      "metadata": {
        "id": "VGpotzQSn-GD",
        "colab": {
          "base_uri": "https://localhost:8080/"
        },
        "outputId": "9b519653-fc87-497d-ab0f-529d706dea4f"
      },
      "outputs": [
        {
          "output_type": "stream",
          "name": "stdout",
          "text": [
            "['abc', 'I am second', 42, 'otro']\n"
          ]
        }
      ],
      "source": [
        "#Deleting the third element of the list\n",
        "del lista[3]\n",
        "print(lista)"
      ]
    },
    {
      "cell_type": "code",
      "execution_count": null,
      "metadata": {
        "id": "fj1FKnxen-GD",
        "colab": {
          "base_uri": "https://localhost:8080/"
        },
        "outputId": "6abeb2cd-c948-481f-cc29-b6545dad3078"
      },
      "outputs": [
        {
          "output_type": "stream",
          "name": "stdout",
          "text": [
            "['xyz', 'I am second', 42, 'otro']\n"
          ]
        }
      ],
      "source": [
        "#Reassign the first element of the list\n",
        "lista[0] = \"xyz\"\n",
        "print(lista)"
      ]
    },
    {
      "cell_type": "code",
      "execution_count": null,
      "metadata": {
        "id": "OhKT7WdMn-GE",
        "colab": {
          "base_uri": "https://localhost:8080/"
        },
        "outputId": "bf044c6f-5d71-4406-8941-cc3bb7501d16"
      },
      "outputs": [
        {
          "output_type": "execute_result",
          "data": {
            "text/plain": [
              "['xyz', 'I am second', 42]"
            ]
          },
          "metadata": {},
          "execution_count": 30
        }
      ],
      "source": [
        "#Showing the elements from 0 to 2\n",
        "lista[0:3]"
      ]
    },
    {
      "cell_type": "code",
      "execution_count": null,
      "metadata": {
        "id": "vZF6u1Qin-GE",
        "colab": {
          "base_uri": "https://localhost:8080/"
        },
        "outputId": "bb78db63-037d-487f-e8ea-19dcffe7a4a0"
      },
      "outputs": [
        {
          "output_type": "execute_result",
          "data": {
            "text/plain": [
              "['xyz', 42]"
            ]
          },
          "metadata": {},
          "execution_count": 31
        }
      ],
      "source": [
        "#Showing elements two by two\n",
        "lista[::2]"
      ]
    },
    {
      "cell_type": "code",
      "execution_count": null,
      "metadata": {
        "id": "NcbjIywIn-GE",
        "colab": {
          "base_uri": "https://localhost:8080/"
        },
        "outputId": "1e5a158c-7c1c-4036-b1c2-8de4e476926e"
      },
      "outputs": [
        {
          "output_type": "stream",
          "name": "stdout",
          "text": [
            "[['xyz', 'I am second', 42, 'otro'], [True, 43]]\n"
          ]
        }
      ],
      "source": [
        "#It is possible to embed a list\n",
        "embedded_list = [lista, [True, 43]]\n",
        "print(embedded_list)"
      ]
    },
    {
      "cell_type": "code",
      "execution_count": null,
      "metadata": {
        "id": "R0dJPDson-GE",
        "colab": {
          "base_uri": "https://localhost:8080/",
          "height": 35
        },
        "outputId": "60fe4a0d-d2f7-444d-b776-03b8a4f4cea3"
      },
      "outputs": [
        {
          "output_type": "execute_result",
          "data": {
            "text/plain": [
              "'I am second'"
            ],
            "application/vnd.google.colaboratory.intrinsic+json": {
              "type": "string"
            }
          },
          "metadata": {},
          "execution_count": 35
        }
      ],
      "source": [
        "#Second element of the first list\n",
        "embedded_list[0][1]"
      ]
    },
    {
      "cell_type": "code",
      "execution_count": null,
      "metadata": {
        "id": "dDPAStf-n-GE",
        "colab": {
          "base_uri": "https://localhost:8080/"
        },
        "outputId": "8a7c9817-94ba-4ba5-f57c-c186714f8734"
      },
      "outputs": [
        {
          "output_type": "stream",
          "name": "stdout",
          "text": [
            "[[1, 2], [3, 4]]\n"
          ]
        }
      ],
      "source": [
        "#A matrix as a list of embedded lists\n",
        "A = [ [1,2], [3,4] ]\n",
        "print(A)"
      ]
    },
    {
      "cell_type": "code",
      "execution_count": null,
      "metadata": {
        "id": "L8q1tz6Nn-GF",
        "colab": {
          "base_uri": "https://localhost:8080/"
        },
        "outputId": "98709d8c-62ef-4378-da97-383721d380a5"
      },
      "outputs": [
        {
          "output_type": "execute_result",
          "data": {
            "text/plain": [
              "[1, 2, 'ab', True, [1, 2], 3.1415, 'Pi', 'circle']"
            ]
          },
          "metadata": {},
          "execution_count": 38
        }
      ],
      "source": [
        "#(sum list) When two list are added, the result is a new concatenated list\n",
        "[1,2,\"ab\",True,[1,2]] + [3.1415,\"Pi\",\"circle\"]"
      ]
    },
    {
      "cell_type": "markdown",
      "metadata": {
        "id": "DRJA4A9Nn-GR"
      },
      "source": [
        "## Tuples"
      ]
    },
    {
      "cell_type": "markdown",
      "metadata": {
        "id": "MYkH-_F2n-GR"
      },
      "source": [
        "A tuple is almost equal to a list, except that once declared its elements, it is not possible to modify them. Therefore, tuples are useful when you only want to store some elements but not modify them."
      ]
    },
    {
      "cell_type": "code",
      "execution_count": null,
      "metadata": {
        "id": "8tlgiUE9n-GR",
        "colab": {
          "base_uri": "https://localhost:8080/"
        },
        "outputId": "1443935a-1fd5-492b-abe9-d02157ed0537"
      },
      "outputs": [
        {
          "output_type": "stream",
          "name": "stdout",
          "text": [
            "('abc', 42, 3.1415)\n"
          ]
        }
      ],
      "source": [
        "#A tuple is declared using ()\n",
        "tupla = (\"abc\", 42, 3.1415)\n",
        "print(tupla)"
      ]
    },
    {
      "cell_type": "code",
      "source": [
        "#Second\n",
        "tupla[1]"
      ],
      "metadata": {
        "colab": {
          "base_uri": "https://localhost:8080/"
        },
        "id": "Kyk1o-TLe57j",
        "outputId": "28ad0abe-6535-43d0-bf22-8dbc93ef31b4"
      },
      "execution_count": null,
      "outputs": [
        {
          "output_type": "execute_result",
          "data": {
            "text/plain": [
              "42"
            ]
          },
          "metadata": {},
          "execution_count": 45
        }
      ]
    },
    {
      "cell_type": "code",
      "execution_count": null,
      "metadata": {
        "id": "V1c7IKAxn-GR",
        "colab": {
          "base_uri": "https://localhost:8080/",
          "height": 159
        },
        "outputId": "13a10b5c-27b9-4793-8da4-13a069f0e7af"
      },
      "outputs": [
        {
          "output_type": "error",
          "ename": "AttributeError",
          "evalue": "'tuple' object has no attribute 'append'",
          "traceback": [
            "\u001b[0;31m---------------------------------------------------------------------------\u001b[0m",
            "\u001b[0;31mAttributeError\u001b[0m                            Traceback (most recent call last)",
            "\u001b[0;32m/tmp/ipython-input-286303356.py\u001b[0m in \u001b[0;36m<cell line: 0>\u001b[0;34m()\u001b[0m\n\u001b[1;32m      1\u001b[0m \u001b[0;31m#It is not possible to add more elements\u001b[0m\u001b[0;34m\u001b[0m\u001b[0;34m\u001b[0m\u001b[0m\n\u001b[0;32m----> 2\u001b[0;31m \u001b[0mtupla\u001b[0m\u001b[0;34m.\u001b[0m\u001b[0mappend\u001b[0m\u001b[0;34m(\u001b[0m\u001b[0;34m\"xy\"\u001b[0m\u001b[0;34m)\u001b[0m\u001b[0;34m\u001b[0m\u001b[0;34m\u001b[0m\u001b[0m\n\u001b[0m",
            "\u001b[0;31mAttributeError\u001b[0m: 'tuple' object has no attribute 'append'"
          ]
        }
      ],
      "source": [
        "#It is not possible to add more elements\n",
        "tupla.append(\"xy\")"
      ]
    },
    {
      "cell_type": "code",
      "execution_count": null,
      "metadata": {
        "id": "QP9FE4Ovn-GS",
        "colab": {
          "base_uri": "https://localhost:8080/",
          "height": 159
        },
        "outputId": "c4993ce9-753c-42eb-e58e-19a4f91a9711"
      },
      "outputs": [
        {
          "output_type": "error",
          "ename": "TypeError",
          "evalue": "'tuple' object doesn't support item deletion",
          "traceback": [
            "\u001b[0;31m---------------------------------------------------------------------------\u001b[0m",
            "\u001b[0;31mTypeError\u001b[0m                                 Traceback (most recent call last)",
            "\u001b[0;32m/tmp/ipython-input-1479439502.py\u001b[0m in \u001b[0;36m<cell line: 0>\u001b[0;34m()\u001b[0m\n\u001b[1;32m      1\u001b[0m \u001b[0;31m#It is not possible to delete an element\u001b[0m\u001b[0;34m\u001b[0m\u001b[0;34m\u001b[0m\u001b[0m\n\u001b[0;32m----> 2\u001b[0;31m \u001b[0;32mdel\u001b[0m \u001b[0mtupla\u001b[0m\u001b[0;34m[\u001b[0m\u001b[0;36m0\u001b[0m\u001b[0;34m]\u001b[0m\u001b[0;34m\u001b[0m\u001b[0;34m\u001b[0m\u001b[0m\n\u001b[0m",
            "\u001b[0;31mTypeError\u001b[0m: 'tuple' object doesn't support item deletion"
          ]
        }
      ],
      "source": [
        "#It is not possible to delete an element\n",
        "del tupla[0]"
      ]
    },
    {
      "cell_type": "code",
      "execution_count": null,
      "metadata": {
        "id": "DhhVqguNn-GS",
        "colab": {
          "base_uri": "https://localhost:8080/",
          "height": 159
        },
        "outputId": "dd33b51e-1d71-4c6d-ca0b-e9fac8f5fe2f"
      },
      "outputs": [
        {
          "output_type": "error",
          "ename": "TypeError",
          "evalue": "'tuple' object does not support item assignment",
          "traceback": [
            "\u001b[0;31m---------------------------------------------------------------------------\u001b[0m",
            "\u001b[0;31mTypeError\u001b[0m                                 Traceback (most recent call last)",
            "\u001b[0;32m/tmp/ipython-input-3319647711.py\u001b[0m in \u001b[0;36m<cell line: 0>\u001b[0;34m()\u001b[0m\n\u001b[1;32m      1\u001b[0m \u001b[0;31m#It is not possible to modify an existing element\u001b[0m\u001b[0;34m\u001b[0m\u001b[0;34m\u001b[0m\u001b[0m\n\u001b[0;32m----> 2\u001b[0;31m \u001b[0mtupla\u001b[0m\u001b[0;34m[\u001b[0m\u001b[0;36m0\u001b[0m\u001b[0;34m]\u001b[0m \u001b[0;34m=\u001b[0m \u001b[0;34m\"xy\"\u001b[0m\u001b[0;34m\u001b[0m\u001b[0;34m\u001b[0m\u001b[0m\n\u001b[0m",
            "\u001b[0;31mTypeError\u001b[0m: 'tuple' object does not support item assignment"
          ]
        }
      ],
      "source": [
        "#It is not possible to modify an existing element\n",
        "tupla[0] = \"xy\""
      ]
    },
    {
      "cell_type": "markdown",
      "metadata": {
        "id": "4AkHZam0n-GS"
      },
      "source": [
        "## Dictionaries"
      ]
    },
    {
      "cell_type": "markdown",
      "metadata": {
        "id": "dktHsKRcn-GS"
      },
      "source": [
        "Dictionaries are extremely useful when manipulating complex data."
      ]
    },
    {
      "cell_type": "code",
      "execution_count": null,
      "metadata": {
        "colab": {
          "base_uri": "https://localhost:8080/"
        },
        "id": "MpC1q-h8n-GS",
        "outputId": "bbd039c0-9b98-4a31-b421-94f6092c1a62"
      },
      "outputs": [
        {
          "output_type": "stream",
          "name": "stdout",
          "text": [
            "{'Colombia': 'Bogota', 'Argentina': 'Buenos Aires', 'Bolivia': 'La Paz', 'Francia': 'París', 'Alemania': 'Berlin'}\n"
          ]
        }
      ],
      "source": [
        "#A dictionary is declared using {}, and specifying the name of the component, then the character : followed by the element to store.\n",
        "\n",
        "dictionary = { \"Colombia\":\"Bogota\", \"Argentina\":\"Buenos Aires\", \"Bolivia\":\"La Paz\", \"Francia\":\"París\", \"Alemania\":\"Berlin\" }\n",
        "#\n",
        "print(dictionary)\n",
        "#Note the order in a dictionary does not matter as one identifies a single element through a string, not a number"
      ]
    },
    {
      "cell_type": "code",
      "execution_count": null,
      "metadata": {
        "colab": {
          "base_uri": "https://localhost:8080/"
        },
        "id": "oEGvuTkdn-GT",
        "outputId": "b7acc999-1ea2-4ec8-ec71-e55761a21a80"
      },
      "outputs": [
        {
          "output_type": "stream",
          "name": "stdout",
          "text": [
            "Bogota\n",
            "Berlin\n"
          ]
        }
      ],
      "source": [
        "#Instead of a number, an element of a dictionary is accessed with the name of the component\n",
        "print(dictionary[\"Colombia\"])\n",
        "print(dictionary[\"Alemania\"])"
      ]
    },
    {
      "cell_type": "code",
      "execution_count": null,
      "metadata": {
        "id": "yoGQ-TEAn-GT",
        "colab": {
          "base_uri": "https://localhost:8080/"
        },
        "outputId": "66a05fe7-1d17-4af8-fe51-36ef31690c95"
      },
      "outputs": [
        {
          "output_type": "stream",
          "name": "stdout",
          "text": [
            "Azul\n"
          ]
        }
      ],
      "source": [
        "#The elements of the dictionary may be of any type\n",
        "dictionary2 = { \"Enteros\":[1,2,3,4,5], \"Ciudad\":\"Medellin\", \"Cedula\":1128400433, \"Colores\":[\"Amarillo\", \"Azul\", \"Rojo\"] }\n",
        "print(dictionary2[\"Colores\"][1])"
      ]
    },
    {
      "cell_type": "code",
      "execution_count": null,
      "metadata": {
        "id": "mNGR_ZhJn-GT",
        "colab": {
          "base_uri": "https://localhost:8080/"
        },
        "outputId": "ee0e3d25-9630-494e-ee41-83aeec51133e"
      },
      "outputs": [
        {
          "output_type": "stream",
          "name": "stdout",
          "text": [
            "{'Enteros': [1, 2, 3, 4, 5], 'Ciudad': 'Bogota', 'Cedula': 1128400433, 'Colores': ['Amarillo', 'Azul', 'Rojo']}\n"
          ]
        }
      ],
      "source": [
        "#The elements of the dictionary can be modified only by changing directly such an element\n",
        "dictionary2[\"Ciudad\"] = \"Bogota\"\n",
        "print(dictionary2)"
      ]
    },
    {
      "cell_type": "code",
      "execution_count": null,
      "metadata": {
        "id": "7KnlEOV6n-GT",
        "colab": {
          "base_uri": "https://localhost:8080/"
        },
        "outputId": "04450fa6-f36a-4157-a4b4-68c8ec85e732"
      },
      "outputs": [
        {
          "output_type": "stream",
          "name": "stdout",
          "text": [
            "{'Enteros': [1, 2, 3, 4, 5], 'Ciudad': 'Bogota', 'Cedula': 1128400433, 'Colores': ['Amarillo', 'Azul', 'Rojo'], 'Pais': 'Colombia'}\n"
          ]
        }
      ],
      "source": [
        "#Adding a new element is possible by only defining the new component\n",
        "dictionary2[\"Pais\"] = \"Colombia\"\n",
        "print(dictionary2)"
      ]
    },
    {
      "cell_type": "code",
      "execution_count": null,
      "metadata": {
        "id": "c_aL32dan-GT",
        "colab": {
          "base_uri": "https://localhost:8080/"
        },
        "outputId": "7a5e4c4b-f7fa-40ee-e925-298bd9aa9a8e"
      },
      "outputs": [
        {
          "output_type": "stream",
          "name": "stdout",
          "text": [
            "{'Enteros': [1, 2, 3, 4, 5], 'Ciudad': 'Bogota', 'Cedula': 1128400433, 'Pais': 'Colombia'}\n"
          ]
        }
      ],
      "source": [
        "#The command del can be also used for deleting an element, as a list\n",
        "del dictionary2[\"Colores\"]\n",
        "print(dictionary2)"
      ]
    },
    {
      "cell_type": "markdown",
      "metadata": {
        "id": "5CJdJl-Gn-GU"
      },
      "source": [
        "# Bucles and Conditionals"
      ]
    },
    {
      "cell_type": "markdown",
      "metadata": {
        "id": "KLjhYnV5n-GU"
      },
      "source": [
        "## if"
      ]
    },
    {
      "cell_type": "markdown",
      "metadata": {
        "id": "t53f46bOn-GU"
      },
      "source": [
        "Conditionals are useful when we want to check some condition.\n",
        "The statements `elif` and `else` can be used when more than one condition is possible or when there is something to do when condition is not fulfilled."
      ]
    },
    {
      "cell_type": "code",
      "execution_count": null,
      "metadata": {
        "id": "zDv8E2fZn-GU",
        "outputId": "a444950d-508c-49d8-8c00-f5a35f15beab",
        "colab": {
          "base_uri": "https://localhost:8080/"
        }
      },
      "outputs": [
        {
          "output_type": "stream",
          "name": "stdout",
          "text": [
            "True\n"
          ]
        }
      ],
      "source": [
        "x = 10\n",
        "y = 2\n",
        "if x > 5 and y==2:\n",
        "    print(\"True\")"
      ]
    },
    {
      "cell_type": "code",
      "execution_count": null,
      "metadata": {
        "id": "nShQwIgwn-GU",
        "outputId": "a8e7f084-5884-417a-9e27-ad317f15095f",
        "colab": {
          "base_uri": "https://localhost:8080/"
        }
      },
      "outputs": [
        {
          "output_type": "stream",
          "name": "stdout",
          "text": [
            "False\n"
          ]
        }
      ],
      "source": [
        "x = 5\n",
        "y = 3\n",
        "if x>5 or y<2:\n",
        "    print(\"True 1\")\n",
        "elif x==4:\n",
        "    print(\"True 2\")\n",
        "else:\n",
        "    print(\"False\")"
      ]
    },
    {
      "cell_type": "markdown",
      "metadata": {
        "id": "3UeqYyGGn-GV"
      },
      "source": [
        "## for"
      ]
    },
    {
      "cell_type": "markdown",
      "metadata": {
        "id": "nqAohrd6n-GV"
      },
      "source": [
        "`For` cycles are specially useful when we want to sweep a set of elements with a known size."
      ]
    },
    {
      "cell_type": "code",
      "source": [
        "lista = [1,3,4,5,7]\n",
        "\n",
        "for i in lista:\n",
        "  print(i)"
      ],
      "metadata": {
        "colab": {
          "base_uri": "https://localhost:8080/"
        },
        "id": "yyjEyk-voypn",
        "outputId": "b7645c32-e466-4e1d-9ce7-bacfdf4c7dbd"
      },
      "execution_count": null,
      "outputs": [
        {
          "output_type": "stream",
          "name": "stdout",
          "text": [
            "1\n",
            "3\n",
            "4\n",
            "5\n",
            "7\n"
          ]
        }
      ]
    },
    {
      "cell_type": "code",
      "source": [
        "for j in range(0,5):\n",
        "  print(j)"
      ],
      "metadata": {
        "colab": {
          "base_uri": "https://localhost:8080/"
        },
        "id": "tu0Dl1m5ok5S",
        "outputId": "8da3d4ea-98b4-45e9-b02d-f64dcdb60353"
      },
      "execution_count": null,
      "outputs": [
        {
          "output_type": "stream",
          "name": "stdout",
          "text": [
            "0\n",
            "1\n",
            "2\n",
            "3\n",
            "4\n"
          ]
        }
      ]
    },
    {
      "cell_type": "code",
      "execution_count": null,
      "metadata": {
        "id": "uIlvV2Ynn-GV",
        "outputId": "ab6ad86c-1f53-487e-bdda-a6e23549b199",
        "colab": {
          "base_uri": "https://localhost:8080/"
        }
      },
      "outputs": [
        {
          "output_type": "stream",
          "name": "stdout",
          "text": [
            "0 0\n",
            "2 4\n",
            "4 16\n",
            "6 36\n"
          ]
        }
      ],
      "source": [
        "#Change size oof the step\n",
        "for i in range(0,7,2):\n",
        "    print(i, i**2)"
      ]
    },
    {
      "cell_type": "code",
      "execution_count": null,
      "metadata": {
        "id": "26rNbyk0n-GV",
        "outputId": "a5d6bd63-92d1-4eaf-ad7f-4a0e419f9463",
        "colab": {
          "base_uri": "https://localhost:8080/"
        }
      },
      "outputs": [
        {
          "output_type": "stream",
          "name": "stdout",
          "text": [
            "The result is 285\n",
            "The result is 285\n"
          ]
        }
      ],
      "source": [
        "suma = 0\n",
        "for i in range(0,10):\n",
        "    suma += i**2\n",
        "print(\"The result is %d\" %suma)\n",
        "print(\"The result is\",suma)"
      ]
    },
    {
      "cell_type": "code",
      "execution_count": null,
      "metadata": {
        "id": "hqLhMOI9n-GV",
        "outputId": "11cc3fd9-2fc9-46c1-a383-1f70987a2680",
        "colab": {
          "base_uri": "https://localhost:8080/"
        }
      },
      "outputs": [
        {
          "output_type": "stream",
          "name": "stdout",
          "text": [
            "Python\n",
            "C\n",
            "C++\n",
            "Ruby\n",
            "Java\n"
          ]
        }
      ],
      "source": [
        "for language in ['Python', 'C', 'C++', 'Ruby', 'Java']:\n",
        "    print(language)"
      ]
    },
    {
      "cell_type": "code",
      "execution_count": null,
      "metadata": {
        "id": "MI5P-iC4n-GW",
        "outputId": "01b4a7cd-2b2b-442d-c986-38abf9272de4",
        "colab": {
          "base_uri": "https://localhost:8080/"
        }
      },
      "outputs": [
        {
          "output_type": "stream",
          "name": "stdout",
          "text": [
            "[1, 4, 9, 16, 25, 36, 49, 64, 81]\n"
          ]
        }
      ],
      "source": [
        "serie = [ i**2 for i in range(1,10) ]\n",
        "print( serie )"
      ]
    },
    {
      "cell_type": "markdown",
      "metadata": {
        "id": "NaAcQzJyn-GW"
      },
      "source": [
        "## while"
      ]
    },
    {
      "cell_type": "markdown",
      "metadata": {
        "id": "n1XBvtptn-GW"
      },
      "source": [
        "`While` cycles are specially useful when we want to sweep a set of elements with an  unknown size."
      ]
    },
    {
      "cell_type": "code",
      "execution_count": null,
      "metadata": {
        "id": "Dj3iiKaUn-GW",
        "outputId": "ea2f5bd1-688c-48b9-dc1e-cde24bd02ef2",
        "colab": {
          "base_uri": "https://localhost:8080/"
        }
      },
      "outputs": [
        {
          "output_type": "stream",
          "name": "stdout",
          "text": [
            "Write a positive number: -3\n",
            "You wrote a negative number. Do it again\n",
            "Write a positive number: -5\n",
            "You wrote a negative number. Do it again\n",
            "Write a positive number: 0\n",
            "Thank you!\n"
          ]
        }
      ],
      "source": [
        "#! /usr/bin/python\n",
        "\n",
        "numero = int(input(\"Write a positive number: \"))\n",
        "while numero < 0:\n",
        "    print(\"You wrote a negative number. Do it again\")\n",
        "    numero = int(input(\"Write a positive number: \"))\n",
        "print(\"Thank you!\")"
      ]
    },
    {
      "cell_type": "code",
      "execution_count": null,
      "metadata": {
        "id": "pGEFyMR0n-GW",
        "outputId": "d6a0e037-b49b-47ff-c13e-6b8afcfc8fa1",
        "colab": {
          "base_uri": "https://localhost:8080/"
        }
      },
      "outputs": [
        {
          "output_type": "stream",
          "name": "stdout",
          "text": [
            "0.6618597400439469\n",
            "0.24701906386499617\n",
            "0.13796137473702197\n",
            "0.11567886616789402\n",
            "0.7943054892338046\n",
            "The selected number was 0.7943054892338046\n"
          ]
        }
      ],
      "source": [
        "from numpy.random import random\n",
        "x = 0\n",
        "while x<0.7:\n",
        "    x = random()\n",
        "    print(x)\n",
        "print(\"The selected number was\", x)"
      ]
    },
    {
      "cell_type": "markdown",
      "metadata": {
        "id": "PE19P_Esn-GX"
      },
      "source": [
        "# Functions"
      ]
    },
    {
      "cell_type": "markdown",
      "metadata": {
        "id": "AVLtGUdBn-GX"
      },
      "source": [
        "## **Explicit functions**"
      ]
    },
    {
      "cell_type": "code",
      "source": [
        "#Defino nombre\n",
        "def xcuadrado(x):\n",
        "  #el x lo eleva al cuadrado\n",
        "  f = x**2\n",
        "  #retorno cuadrado\n",
        "  return f"
      ],
      "metadata": {
        "id": "ing0yhbfpaqV"
      },
      "execution_count": null,
      "outputs": []
    },
    {
      "cell_type": "code",
      "source": [
        "xcuadrado(3)"
      ],
      "metadata": {
        "colab": {
          "base_uri": "https://localhost:8080/"
        },
        "id": "fi3dztMDpafA",
        "outputId": "bfa6194d-49d8-42cb-ba3a-d30f1f1b9c0d"
      },
      "execution_count": null,
      "outputs": [
        {
          "output_type": "execute_result",
          "data": {
            "text/plain": [
              "9"
            ]
          },
          "metadata": {},
          "execution_count": 85
        }
      ]
    },
    {
      "cell_type": "code",
      "execution_count": null,
      "metadata": {
        "id": "EiwV3XRWn-GX",
        "outputId": "67b7fbbd-75cb-4caf-c6c3-30bb958c93f4",
        "colab": {
          "base_uri": "https://localhost:8080/"
        }
      },
      "outputs": [
        {
          "output_type": "execute_result",
          "data": {
            "text/plain": [
              "6"
            ]
          },
          "metadata": {},
          "execution_count": 87
        }
      ],
      "source": [
        "def f(x,y):\n",
        "    return x*y\n",
        "\n",
        "f(3,2)"
      ]
    },
    {
      "cell_type": "code",
      "execution_count": null,
      "metadata": {
        "id": "xrWAAYTfn-GX",
        "outputId": "75d3d346-0a55-49b4-a229-e5604bfa1365",
        "colab": {
          "base_uri": "https://localhost:8080/"
        }
      },
      "outputs": [
        {
          "output_type": "stream",
          "name": "stdout",
          "text": [
            "20\n"
          ]
        },
        {
          "output_type": "execute_result",
          "data": {
            "text/plain": [
              "6"
            ]
          },
          "metadata": {},
          "execution_count": 90
        }
      ],
      "source": [
        "#It is possible to assign default arguments\n",
        "def f(x,y=2):\n",
        "    return x*y\n",
        "\n",
        "print(f(2,10))\n",
        "\n",
        "#When evaluating, we can omit the default argument\n",
        "f(3)"
      ]
    },
    {
      "cell_type": "code",
      "execution_count": null,
      "metadata": {
        "id": "sMIX7yUxn-GX",
        "outputId": "874429dd-4e83-4779-ba96-6b8a6d289cf1",
        "colab": {
          "base_uri": "https://localhost:8080/"
        }
      },
      "outputs": [
        {
          "output_type": "stream",
          "name": "stdout",
          "text": [
            "f(1,2)= 1\n",
            "f(2,1)= 2\n"
          ]
        }
      ],
      "source": [
        "#It is possible to specify explicitly the order of the arguments\n",
        "def f(x,y):\n",
        "    return x**y\n",
        "\n",
        "print('f(1,2)=',f(1,2))\n",
        "print('f(2,1)=',f(y=1,x=2))"
      ]
    },
    {
      "cell_type": "markdown",
      "metadata": {
        "id": "C3q-Qg8Gn-GY"
      },
      "source": [
        "## Implicit functions"
      ]
    },
    {
      "cell_type": "markdown",
      "metadata": {
        "id": "x7JfSqE2n-GY"
      },
      "source": [
        "Implicit functions are useful when we want to use a function once."
      ]
    },
    {
      "cell_type": "code",
      "execution_count": null,
      "metadata": {
        "id": "vrq9MnDHn-GY",
        "outputId": "c3e2285a-4c98-43df-ee89-744ee77f2ef3",
        "colab": {
          "base_uri": "https://localhost:8080/"
        }
      },
      "outputs": [
        {
          "output_type": "execute_result",
          "data": {
            "text/plain": [
              "8"
            ]
          },
          "metadata": {},
          "execution_count": 103
        }
      ],
      "source": [
        "f = lambda x,y: x**y\n",
        "f(2,3)"
      ]
    },
    {
      "cell_type": "code",
      "execution_count": null,
      "metadata": {
        "id": "shFT5eCVn-GY",
        "outputId": "4a2450a0-1132-43cc-aef9-5341e8fa5969",
        "colab": {
          "base_uri": "https://localhost:8080/"
        }
      },
      "outputs": [
        {
          "output_type": "stream",
          "name": "stdout",
          "text": [
            "Explicit: f(2)^2 = 16\n",
            "Implicit: f(2)^2 = 16\n"
          ]
        }
      ],
      "source": [
        "#It is possible to pass functions as arguments of other function\n",
        "def f2( f, x ):\n",
        "    return f(x)**2\n",
        "\n",
        "#We can define a new function explicitly\n",
        "def f(x):\n",
        "    return x+2\n",
        "print(\"Explicit: f(2)^2 =\", f2(f,2))\n",
        "\n",
        "#Or define the function implicitly\n",
        "print(\"Implicit: f(2)^2 =\", f2(lambda x:x+2,2))"
      ]
    },
    {
      "cell_type": "markdown",
      "source": [
        "Let's practice a lot! ..."
      ],
      "metadata": {
        "id": "0onu0wIymsYS"
      }
    },
    {
      "cell_type": "code",
      "source": [],
      "metadata": {
        "id": "NSLYCvfZsMYq"
      },
      "execution_count": null,
      "outputs": []
    }
  ],
  "metadata": {
    "kernelspec": {
      "display_name": "Python 3",
      "language": "python",
      "name": "python3"
    },
    "language_info": {
      "codemirror_mode": {
        "name": "ipython",
        "version": 3
      },
      "file_extension": ".py",
      "mimetype": "text/x-python",
      "name": "python",
      "nbconvert_exporter": "python",
      "pygments_lexer": "ipython3",
      "version": "3.4.2"
    },
    "toc": {
      "colors": {
        "hover_highlight": "#DAA520",
        "running_highlight": "#FF0000",
        "selected_highlight": "#FFD700"
      },
      "moveMenuLeft": true,
      "nav_menu": {
        "height": "390px",
        "width": "252px"
      },
      "navigate_menu": true,
      "number_sections": true,
      "sideBar": true,
      "threshold": 4,
      "toc_cell": false,
      "toc_section_display": "block",
      "toc_window_display": false
    },
    "colab": {
      "provenance": [],
      "include_colab_link": true
    }
  },
  "nbformat": 4,
  "nbformat_minor": 0
}