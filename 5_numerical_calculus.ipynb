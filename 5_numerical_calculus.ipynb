{
  "cells": [
    {
      "cell_type": "markdown",
      "metadata": {
        "id": "view-in-github",
        "colab_type": "text"
      },
      "source": [
        "<a href=\"https://colab.research.google.com/github/anferivera/Programming/blob/main/5_numerical_calculus.ipynb\" target=\"_parent\"><img src=\"https://colab.research.google.com/assets/colab-badge.svg\" alt=\"Open In Colab\"/></a>"
      ]
    },
    {
      "cell_type": "markdown",
      "metadata": {
        "id": "jqmz42XR00WK"
      },
      "source": [
        "# Numerical Calculus\n",
        "\n",
        "based in Diego Restrepo notebooks. https://github.com/restrepo/ComputationalMethods"
      ]
    },
    {
      "cell_type": "markdown",
      "metadata": {
        "id": "bGm_ZnDY00WO"
      },
      "source": [
        "Throughout this section and the next ones, we shall cover the topic of numerical calculus. Calculus has been identified since ancient times as a powerful toolkit for analysing and handling geometrical problems. Since differential calculus was developed by Newton and Leibniz (in its actual notation), many different applications have been found, at the point that most of the current science is founded on it (e.g. differential and integral equations). Due to the ever increasing complexity of analytical expressions used in physics and astronomy, their usage becomes more and more impractical, and numerical approaches are more than necessary when one wants to go deeper. This issue has been identified since long ago and many numerical techniques have been developed. We shall cover only the most basic schemes, but also providing a basis for more formal approaches."
      ]
    },
    {
      "cell_type": "markdown",
      "metadata": {
        "id": "yWKNJ1Fn00WO"
      },
      "source": [
        "- - -\n",
        "- [Numerical Differentiation](#Numerical-Differentiation)\n",
        "    - [Example 1](#Example-1)\n",
        "    - [(n+1)-point formula](#n+1-point-formula)\n",
        "    - [Endpoint formulas](#Endpoint-formulas)\n",
        "    - [Midpoint formulas](#Midpoint-formulas)\n",
        "- [Numerical Integration](#Numerical-Integration)\n",
        "    - [Numerical quadrature](#Numerical-quadrature)\n",
        "    - [Trapezoidal rule](#Trapezoidal-rule)\n",
        "    - [Simpson's rule](#Simpson's-rule)\n",
        "- [Composite Numerical Integration](#Composite-Numerical-Integration)\n",
        "    - [Composite trapezoidal rule](#Composite-trapezoidal-rule)\n",
        "    - [Composite Simpson's rule](#Composite-Simpson's-rule)\n",
        "- [Adaptive Quadrature Methods](#Adaptive-Quadrature-Methods)\n",
        "    - [Simpson's adaptive quadrature](#Simpson's-adaptive-quadrature)\n",
        "    - [Steps Simpson's adaptive quadrature](#Steps-Simpson's-adaptive-quadrature)\n",
        "- [Improper Integrals](#Improper-Integrals)\n",
        "    - [Left endpoint singularity](#Left-endpoint-singularity)\n",
        "    - [Right endpoint singularity](#Right-endpoint-singularity)\n",
        "    - [Infinite singularity](#Infinite-singularity)\n",
        "    \n",
        "- - -"
      ]
    },
    {
      "cell_type": "code",
      "execution_count": 2,
      "metadata": {
        "colab": {
          "base_uri": "https://localhost:8080/"
        },
        "id": "tHkLVA-F00WP",
        "outputId": "2e28e3c7-d064-4d6d-a331-03a9b0064998"
      },
      "outputs": [
        {
          "output_type": "stream",
          "name": "stdout",
          "text": [
            "Populating the interactive namespace from numpy and matplotlib\n"
          ]
        },
        {
          "output_type": "stream",
          "name": "stderr",
          "text": [
            "/usr/local/lib/python3.11/dist-packages/IPython/core/magics/pylab.py:159: UserWarning: pylab import has clobbered these variables: ['interp']\n",
            "`%matplotlib` prevents importing * from pylab and numpy\n",
            "  warn(\"pylab import has clobbered these variables: %s\"  % clobbered +\n"
          ]
        }
      ],
      "source": [
        "import numpy as np\n",
        "%pylab inline\n",
        "import matplotlib.pyplot as plt\n",
        "from matplotlib import animation\n",
        "#Interpolation add-on\n",
        "import scipy.interpolate as interp"
      ]
    },
    {
      "cell_type": "markdown",
      "metadata": {
        "id": "l-c7_Bjr00WR"
      },
      "source": [
        "- - -"
      ]
    },
    {
      "cell_type": "markdown",
      "metadata": {
        "id": "pGkU7-3P00WR"
      },
      "source": [
        "# Numerical Differentiation"
      ]
    },
    {
      "cell_type": "markdown",
      "metadata": {
        "id": "ttDXfd_100WS"
      },
      "source": [
        "According to the formal definition of differentiation, given a function $f(x)$ such that $f(x)\\in C^1[a,b]$, the first order derivative is given by\n",
        "\n",
        "$$\\frac{d}{dx}f(x) = f'(x) = \\lim_{h\\rightarrow 0} \\frac{f(x+h)-f(x)}{h}$$\n",
        "\n",
        "However, when $f(x)$ exhibits a complex form or is a numerical function (only a discrete set of points are known), this expression becomes unfeasible. In spite of this, this formula gives us a very first rough way to calculate numerical derivatives by taking a finite interval $h$, i.e.\n",
        "\n",
        "$$f'(x) \\approx \\frac{f(x+h)-f(x)}{h}$$\n",
        "\n",
        "where the function must be known at least in $x_0$ and $x_1 = x_0+h$, and $h$ should be small enough."
      ]
    },
    {
      "cell_type": "markdown",
      "metadata": {
        "id": "DbZ6XaC-00WS"
      },
      "source": [
        "## Example 1"
      ]
    },
    {
      "cell_type": "markdown",
      "metadata": {
        "id": "KxhKSk3r00WS"
      },
      "source": [
        "Evaluate the first derivative of the next function using the previous numerical scheme at the point $x_0=2.0$ and using $h=0.5,\\ 0.1,\\  0.05$\n",
        "\n",
        "$f(x) = \\sqrt{1+\\cos^2(x)}$\n",
        "\n",
        "Compare with the real function and plot the tangent line using the found values of the slope."
      ]
    },
    {
      "cell_type": "code",
      "source": [
        "#Function to evaluate\n",
        "def function(x):\n",
        "    return np.sqrt( 1+np.cos(x)**2 )\n",
        "\n",
        "#X value\n",
        "x0 = 2\n",
        "xmin = 1.8\n",
        "xmax = 2.2\n",
        "#h step\n",
        "hs = [0.5,0.1,0.05]\n",
        "\n",
        "#Calculating derivatives\n",
        "dfs = []\n",
        "for h in hs:\n",
        "    dfs.append( (function(x0+h)-function(x0))/h )\n",
        "\n",
        "#Plotting\n",
        "plt.figure( figsize=(7,5) )\n",
        "#X array\n",
        "X = np.linspace( xmin, xmax, 100 )\n",
        "Y = function(X)\n",
        "plt.plot( X, Y, color=\"black\", label=\"function\", linewidth=3, zorder=10 )\n",
        "#Slopes\n",
        "Xslp = [1,x0,3]\n",
        "Yslp = [0,0,0]\n",
        "for df, h in zip(dfs, hs):\n",
        "    #First point\n",
        "    Yslp[0] = function(x0)+df*(Xslp[0]-Xslp[1])\n",
        "    #Second point\n",
        "    Yslp[1] = function(x0)\n",
        "    #Third point\n",
        "    Yslp[2] = function(x0)+df*(Xslp[2]-Xslp[1])\n",
        "    #Plotting this slope\n",
        "    plt.plot( Xslp, Yslp, linewidth = 2, label=\"slope$=%1.2f$ for $h=%1.2f$\"%(df,h) )\n",
        "\n",
        "#Format\n",
        "plt.grid()\n",
        "plt.xlabel(\"x\")\n",
        "plt.ylabel(\"y\")\n",
        "plt.xlim( xmin, xmax )\n",
        "plt.ylim( 1, 1.15 )\n",
        "plt.legend( loc = \"lower right\" )\n",
        "plt.show()"
      ],
      "metadata": {
        "colab": {
          "base_uri": "https://localhost:8080/",
          "height": 465
        },
        "id": "iSUtnf9u1G_S",
        "outputId": "5ec0ef60-3faa-452f-ed81-88f44210b2cd"
      },
      "execution_count": null,
      "outputs": [
        {
          "output_type": "display_data",
          "data": {
            "text/plain": [
              "<Figure size 700x500 with 1 Axes>"
            ],
            "image/png": "[encoded data removed]"
          },
          "metadata": {}
        }
      ]
    },
    {
      "cell_type": "markdown",
      "metadata": {
        "id": "iSscdx-m00WT"
      },
      "source": [
        "## n+1-point formula"
      ]
    },
    {
      "cell_type": "markdown",
      "metadata": {
        "id": "Rb_Grd2r00WT"
      },
      "source": [
        "A generalization of the previous formula is given by the (n+1)-point formula, where first-order derivatives are calculated using more than one point, what makes it a much better approximation for many problems.\n",
        "\n",
        "**Theorem**\n",
        "\n",
        "For a function $f(x)$ such that $f(x)\\in C^{n+1}[a,b]$, the next expression is always satisfied\n",
        "\n",
        "$$f(x) = P(x) + \\frac{f^{(n+1)}(\\xi(x))}{(n+1)!}(x-x_0)(x-x_1)\\cdots(x-x_n)$$\n",
        "\n",
        "where $\\{x_i\\}_i$ is a set of point where the function is mapped, $\\xi(x)$ is some function of $x$ such that $\\xi\\in[a,b]$, and $P(x)$ is the associated Lagrange interpolant polynomial.\n",
        "\n",
        "As $n$ becomes higher, the approximation should be better as the error term becomes neglectable."
      ]
    },
    {
      "cell_type": "markdown",
      "metadata": {
        "id": "v-cB31d500WT"
      },
      "source": [
        "- - -"
      ]
    },
    {
      "cell_type": "markdown",
      "metadata": {
        "id": "sG35P-hh00WU"
      },
      "source": [
        "Taking the previous expression, and differenciating, we obtain\n",
        "\n",
        "$$f(x) = \\sum_{k=0}^n f(x_k)L_{n,k}(x) + \\frac{(x-x_0)(x-x_1)\\cdots(x-x_n)}{(n+1)!}f^{(n+1)}(\\xi(x))$$\n",
        "\n",
        "$$f'(x_j) = \\sum_{k=0}^n f(x_k)L'_{n,k}(x_j) + \\frac{f^{(n+1)}(\\xi(x_j))}{(n+1)!} \\prod_{k=0,k\\neq j}^{n}(x_j-x_k)$$\n",
        "\n",
        "where $L_{n,k}$ is the $k$-th Lagrange basis functions for $n$ points, $L'_{n,k}$ is its first derivative.\n",
        "\n",
        "Note that the last expressions is evaluated in $x_j$ rather than a general $x$ value, the cause of this is because this expression is not longer valid for another value not within the set $\\{x_i\\}_i$, however this is not an inconvenient when handling real applications.\n",
        "\n",
        "This formula constitutes the **(n+1)-point approximation** and it comprises a generalization of almost all the existing schemes to differentiate numerically. Next, we shall derive some very used formulas.\n",
        "\n",
        "For example, the form that takes this derivative polynomial for 3 points $(x_i,y_i)$ is the following\n",
        "\n",
        "$$f'(x_j) = f(x_0)\\left[ \\frac{2x_j-x_1-x_2}{(x_0-x_1)(x_0-x_2)}\\right] +\n",
        "f(x_1)\\left[ \\frac{2x_j-x_0-x_2}{(x_1-x_0)(x_1-x_2)}\\right] +\n",
        "f(x_2)\\left[ \\frac{2x_j-x_0-x_1}{(x_2-x_0)(x_2-x_1)}\\right] $$\n",
        "$$\\hspace{2cm} + \\frac{1}{6} f^{(3)}(\\epsilon_j) \\prod_{k=0,k\\neq j}^{n}(x_j-x_k)$$"
      ]
    },
    {
      "cell_type": "markdown",
      "metadata": {
        "id": "dPg9eARH00WU"
      },
      "source": [
        "## Endpoint formulas"
      ]
    },
    {
      "cell_type": "markdown",
      "metadata": {
        "id": "vJOCdvk100WU"
      },
      "source": [
        "Endpoint formulas are based on evaluating the derivative at the first of a set of points, i.e., if we want to evaluate $f'(x)$ at $x_i$, we then need $(x_i$, $x_{i+1}=x_i+h$, $x_{i+2}=x_i+2h$, $\\cdots)$. For the sake of simplicity, it is usually assumed that the set $\\{x_i\\}_i$ is equally spaced such that $x_k = x_0+k\\cdot h$.\n",
        "\n",
        "**Three-point Endpoint Formula**\n",
        "\n",
        "$$f'(x_i) = \\frac{1}{2h}[-3f(x_i)+4f(x_i+h)-f(x_i+2h)] + \\frac{h^2}{3}f^{(3)}(\\xi)$$\n",
        "\n",
        "with $\\xi\\in[x_i,x_i+2h]$\n",
        "\n",
        "**Five-point Endpoint Formula**\n",
        "\n",
        "$$f'(x_i) = \\frac{1}{12h}[-25f(x_i)+48f(x_i+h)-36f(x_i+2h)+16f(x_i+3h)-3f(x_i+4h)] + \\frac{h^4}{5}f^{(5)}(\\xi)$$\n",
        "\n",
        "with $\\xi\\in[x_i,x_i+4h]$\n",
        "\n",
        "\n",
        "Endpoint formulas are especially useful near to the end of a set of points, where no further points exist."
      ]
    },
    {
      "cell_type": "code",
      "source": [
        "#Derivative three end point (right variable determine the left or right)\n",
        "\n",
        "def TEP( Yn,i, h=0.01,right=0 ):\n",
        "    suma = -3*Yn[i]+4*Yn[i+(-1)**right*1]-Yn[i+(-1)**right*2]\n",
        "    return suma/(2*h*(-1)**right)"
      ],
      "metadata": {
        "id": "BzqhKo6-PeNO"
      },
      "execution_count": 7,
      "outputs": []
    },
    {
      "cell_type": "markdown",
      "metadata": {
        "id": "8NVH8YA200WU"
      },
      "source": [
        "## Midpoint formulas"
      ]
    },
    {
      "cell_type": "markdown",
      "metadata": {
        "id": "YUv6tc1S00WU"
      },
      "source": [
        "On the other hand, Midpoint formulas are based on evaluating the derivative at the middle of a set of points, i.e., if we want to evaluate $f'(x)$ at $x_i$, we then need $(\\cdots$, $x_{i-2} = x_i - 2h$, $x_{i-1} = x_i - h$, $x_i$, $x_{i+1}=x_i+h$, $x_{i+2}=x_i+2h$, $\\cdots)$.\n",
        "\n",
        "**Three-point Midpoint Formula**\n",
        "\n",
        "$$f'(x_i) = \\frac{1}{2h}[f(x_i+h)-f(x_i-h)] + \\frac{h^2}{6}f^{(3)}(\\xi)$$\n",
        "\n",
        "with $\\xi\\in[x_i-h,x_i+h]$ Notice that it is the known expresion.\n",
        "\n",
        "**Five-point Midpoint Formula**\n",
        "\n",
        "$$f'(x_i) = \\frac{1}{12h}[f(x_i-2h)-8f(x_i-h)+8f(x_i+h)-f(x_i+2h)] + \\frac{h^4}{30}f^{(5)}(\\xi)$$\n",
        "\n",
        "with $\\xi\\in[x_i-2h,x_i+2h]$\n",
        "\n",
        "\n",
        "As Midpoint formulas required one iteration less than Endpoint ones, they are more often used for numerical applications. Furthermore, the round-off error is smaller as well. However, near to the end of a set of points, they are no longer useful as no further points exists, and Endpoint formulas are preferable."
      ]
    },
    {
      "cell_type": "code",
      "execution_count": 39,
      "metadata": {
        "id": "6Dcrnzu200WU"
      },
      "outputs": [],
      "source": [
        "#Derivative three end point\n",
        "\n",
        "def TEP( Yn,i, h, right=0 ):\n",
        "    suma = -3*Yn[i]+4*Yn[i+(-1)**right*1]-Yn[i+(-1)**right*2]\n",
        "    return suma/(2*h*(-1)**right)\n",
        "\n",
        "#Derivative mid point\n",
        "def TMP( Ynh,Ynmh, h ):\n",
        "    return (Ynh-Ynmh)/(2*h)"
      ]
    },
    {
      "cell_type": "markdown",
      "metadata": {
        "id": "4_epReI700WV"
      },
      "source": [
        "### Example: Heat transfer in a 1D bar"
      ]
    },
    {
      "cell_type": "markdown",
      "source": [
        "https://es.wikipedia.org/wiki/Conducci%C3%B3n_de_calor"
      ],
      "metadata": {
        "id": "V9TECN733uH-"
      }
    },
    {
      "cell_type": "markdown",
      "metadata": {
        "id": "AGqv9efu00WV"
      },
      "source": [
        "Fourier's Law of thermal conduction describes the diffusion of heat. Situations in which there are gradients of heat, a flux that tends to homogenise the temperature arises as a consequence of collisions of particles within a body. The Fourier's Law is giving by\n",
        "\n",
        "$$ q = -k\\nabla T = -k\\left( \\frac{dT}{dx}\\hat{i} + \\frac{dT}{dy}\\hat{j} + \\frac{dT}{dz}\\hat{k}\\right)$$\n",
        "\n",
        "where T is the temperature, $\\nabla T$ its gradient and k is the material's conductivity. In the next example it is shown the magnitud of the heat flux in a 1D bar(wire)."
      ]
    },
    {
      "cell_type": "code",
      "source": [
        "#Example: Temperature profile\n",
        "def Temp(x):\n",
        "    return x**3 + 3*x-1\n",
        "\n",
        "def dTemp(x):\n",
        "    return 3*x**2 + 3"
      ],
      "metadata": {
        "id": "5yLKObx0Tufr"
      },
      "execution_count": 9,
      "outputs": []
    },
    {
      "cell_type": "code",
      "source": [
        "# Points where function is known\n",
        "nps = 50\n",
        "xmax = 10\n",
        "xmin = 0\n",
        "h=(xmax-xmin)/nps\n",
        "\n",
        "Xn = np.linspace(xmin,xmax,nps)\n",
        "Tn = Temp(Xn)\n",
        "#Magnitude of heat flux array\n",
        "Q = np.zeros(len(Xn))\n",
        "#Left end derivative\n",
        "Q[0] = TEP(Tn,0,h)\n",
        "\n",
        "#Mid point derivatives\n",
        "index = len(Xn)-1\n",
        "for i in range( 1,index ):\n",
        "    Q[i] =  TMP( Tn[i+1],Tn[i-1],h )\n",
        "\n",
        "#Right end derivative\n",
        "Q[-1] = TEP( Tn,index,h,right=1 )\n",
        "\n",
        "#Plotting\n",
        "plt.figure( figsize=(6,4) )\n",
        "plt.plot(Xn,Q,'r.',label='Numerical derivative')\n",
        "#analytical derivative\n",
        "plt.plot(Xn,dTemp(Xn),'b-',label='Analytical derivative')\n",
        "\n",
        "plt.xlabel( \"x\",fontsize =15 )\n",
        "plt.ylabel( \"$\\\\frac{dT}{dx}$\",fontsize =20 )\n",
        "plt.title( \" ~ Magnitud heat flux transfer in 1D bar\" )\n",
        "plt.legend()\n",
        "plt.show()"
      ],
      "metadata": {
        "colab": {
          "base_uri": "https://localhost:8080/",
          "height": 416
        },
        "id": "D2_aeBihW0lZ",
        "outputId": "8d0db397-0efd-4339-b9e6-8467045a0b14"
      },
      "execution_count": 44,
      "outputs": [
        {
          "output_type": "display_data",
          "data": {
            "text/plain": [
              "<Figure size 600x400 with 1 Axes>"
            ],
            "image/png": "[encoded data removed]"
          },
          "metadata": {}
        }
      ]
    },
    {
      "cell_type": "markdown",
      "metadata": {
        "id": "H7Z1G2ho00WV"
      },
      "source": [
        "## <font color='red'>     **Activity** </font>"
      ]
    },
    {
      "cell_type": "markdown",
      "metadata": {
        "id": "jF2IfkLh00WV"
      },
      "source": [
        "Construct a density map of the magnitud of the heat flux of a 2D bar. Consider the temperature profile as\n",
        "$$ T(x,y) = x^3 + 3x-1+y^2  $$"
      ]
    },
    {
      "cell_type": "markdown",
      "metadata": {
        "id": "AY-T_1Zv00WV"
      },
      "source": [
        "## <font color='red'>     **Activity** </font>"
      ]
    },
    {
      "cell_type": "markdown",
      "metadata": {
        "id": "EJUrSE9B00WV"
      },
      "source": [
        "<font color='red'>    \n",
        "The Poisson's equation relates the matter content of a body with the gravitational potential through the next equation\n",
        "</font>"
      ]
    },
    {
      "cell_type": "markdown",
      "metadata": {
        "id": "U0CxnHQM00WV"
      },
      "source": [
        "<font color='red'>    \n",
        "$$\\nabla^2 \\phi = 4\\pi G \\rho$$\n",
        "</font>"
      ]
    },
    {
      "cell_type": "markdown",
      "metadata": {
        "id": "eDD8nef400WW"
      },
      "source": [
        "<font color='red'>    \n",
        "$$\\frac{1}{r^2}\\frac{d}{dr}\\left(r^2\\frac{d\\phi}{dr}\\right)= 4\\pi G \\rho$$\n",
        "</font>"
      ]
    },
    {
      "cell_type": "markdown",
      "metadata": {
        "id": "vOziDPV100WW"
      },
      "source": [
        "<font color='red'>    \n",
        "where $\\phi$ is the potential, $\\rho$ the density and $G$ the gravitational constant.\n",
        "</font>"
      ]
    },
    {
      "cell_type": "markdown",
      "metadata": {
        "id": "JBDnSsK100WW"
      },
      "source": [
        "<font color='red'>    \n",
        "Taking [these data](https://raw.githubusercontent.com/sbustamante/ComputationalMethods/master/data/M1.00-STRUC.dat) and using the three-point Midpoint formula, find the density field from the potential (seventh column in the file) and plot it against the radial coordinate. (**Tip:** Use $G=1$)\n",
        "\n",
        "</font>"
      ]
    },
    {
      "cell_type": "markdown",
      "metadata": {
        "id": "0P9GVf2P00WW"
      },
      "source": [
        "## <font color='red'>     **Activity** </font>"
      ]
    },
    {
      "cell_type": "markdown",
      "metadata": {
        "id": "ledX8OAR00WW"
      },
      "source": [
        "The radar stations A and B, separated by the distance a = 500 m, track the plane\n",
        "C by recording the angles $\\alpha$ and $\\beta$ at 1-second intervals. The successive readings are\n",
        "\n",
        "<img src=\"./figures/table.png\">\n"
      ]
    },
    {
      "cell_type": "markdown",
      "metadata": {
        "id": "UNyJAEmi00WW"
      },
      "source": [
        "calculate the speed v using the 3 point approximantion at t = 10 ,12 and 14 s. Calculate the x component of the acceleration of the plane at = 12 s. The coordinates of the plane can be shown to be\n",
        "\n",
        "\\begin{equation}\n",
        "x = a\\frac{\\tan \\beta}{\\tan \\beta- \\tan \\alpha}\\\\\n",
        "y = a\\frac{\\tan \\alpha\\tan \\beta}{\\tan \\beta- \\tan \\alpha}\n",
        "\\end{equation}\n",
        "\n",
        "<img src=\"./figures/radar.png\">\n"
      ]
    },
    {
      "cell_type": "markdown",
      "metadata": {
        "id": "WHA543XI00WW"
      },
      "source": [
        "- - -"
      ]
    },
    {
      "cell_type": "markdown",
      "metadata": {
        "id": "XXLWK-d400WW"
      },
      "source": [
        "# Numerical Integration"
      ]
    },
    {
      "cell_type": "markdown",
      "metadata": {
        "id": "V7jlOwRW00WW"
      },
      "source": [
        "Integration is the second fundamental concept of calculus (along with differentiation). Numerical approaches are generally more useful here than in differentiation as the antiderivative procedure (analytically) is often much more complex, or even not possible. In this section we will cover some basic schemes, including numerical quadratures.\n",
        "\n",
        "Geometrically, integration can be understood as the area below a funtion within a given interval. Formally, given a function $f(x)$ such that $f\\in C^{1}[a,b]$, the antiderivative is defined as\n",
        "\n",
        "$$F(x) = \\int f(x) dx$$\n",
        "\n",
        "valid for all $x$ in $[a,b]$. However, a more useful expression is a definite integral, where the antiderivative is evaluated within some interval, i.e.\n",
        "\n",
        "$$F(x_1) - F(x_0) = \\int_{x_0}^{x_1} f(x) dx$$\n",
        "\n",
        "This procedure can be formally thought as a generalization of discrete weighted summation. This idea will be exploited below and will lead us to some first approximations to integration."
      ]
    },
    {
      "cell_type": "markdown",
      "metadata": {
        "id": "vfQ10zCk00WX"
      },
      "source": [
        "## Numerical quadrature"
      ]
    },
    {
      "cell_type": "markdown",
      "metadata": {
        "id": "kSM9a0JQ00WX"
      },
      "source": [
        "Given a well-behaved function $f(x)$, a previous theorem guarantees that\n",
        "\n",
        "$$f(x) = \\sum_{k=0}^n f(x_k)L_{n,k}(x) + \\frac{(x-x_0)(x-x_1)\\cdots(x-x_n)}{(n+1)!}f^{(n+1)}(\\xi(x))$$\n",
        "\n",
        "with $L_{n,k}(x)$ the lagrange basis functions. Integrating $f(x)$ over $[a,b]$, we obtain the next expression:\n",
        "\n",
        "$$\\int_a^b f(x)dx = \\int_a^b\\sum_{k=0}^n f(x_k)L_{n,k}(x)dx + \\int_a^b\\frac{(x-x_0)(x-x_1)\\cdots(x-x_n)}{(n+1)!}f^{(n+1)}(\\xi(x))dx$$\n",
        "\n",
        "It is worth mentioning this expression is a number, unlike differentiation where we obtained a function.\n",
        "\n",
        "We can readily convert this expression in a weighted summation as\n",
        "\n",
        "$$\\int_a^b f(x)dx = \\sum_{k=0}^n a_if(x_k) + \\frac{1}{(n+1)!}\\int_a^bf^{(n+1)}(\\xi(x)) \\prod_{k=0}^{n}(x-x_k)dx$$\n",
        "\n",
        "where each coefficient is defined as:\n",
        "\n",
        "$$a_i = \\int_a^b L_{n,k}(x) dx = \\int_a^b\\prod_{j=0,\\ j\\neq k}^{n}\\frac{(x-x_j)}{(x_k-x_j)}dx$$\n",
        "\n",
        "Finally, the quadrature formula or **Newton-Cotes formula** is given by the next expression:\n",
        "\n",
        "$$\\int_a^b f(x) dx = \\sum a_i f(x_i) + E[f]$$\n",
        "\n",
        "where the estimated error is\n",
        "\n",
        "$$E[f] = \\frac{1}{(n+1)!}\\int_a^bf^{(n+1)}(\\xi(x)) \\prod_{k=0}^{n}(x-x_k)dx $$\n",
        "\n",
        "Asumming besides intervals equally spaced such that $x_i = x_0 + i\\times h$, the error formula becomes:\n",
        "\n",
        "$$E[f] = \\frac{h^{n+3}f^{n+2}(\\xi)}{(n+1)!}\\int_0^nt^2(t-1)\\cdots(t-n) $$\n",
        "\n",
        "if $n$ is even and\n",
        "\n",
        "$$E[f] = \\frac{h^{n+2}f^{n+1}(\\xi)}{(n+1)!}\\int_0^nt(t-1)\\cdots(t-n) $$\n",
        "\n",
        "if $n$ is odd."
      ]
    },
    {
      "cell_type": "code",
      "execution_count": null,
      "metadata": {
        "id": "P8DrDqoF00WX"
      },
      "outputs": [],
      "source": [
        "#Quadrature method\n",
        "def Quadrature( f, X, xmin, xmax, ymin=0, ymax=1, fig=None, leg=True ):\n",
        "    #f(x_i) values\n",
        "    Y = f( X )\n",
        "\n",
        "    #X array\n",
        "    Xarray = np.linspace( xmin, xmax, 1000 )\n",
        "    #X area\n",
        "    Xarea = np.linspace( X[0], X[-1], 1000 )\n",
        "    #F array\n",
        "    Yarray = f( Xarray )\n",
        "\n",
        "    #Lagrange polynomial\n",
        "    Ln = interp.lagrange( X, Y )\n",
        "    #Interpolated array\n",
        "    Parray = Ln( Xarray )\n",
        "    #Interpolated array for area\n",
        "    Parea = Ln( Xarea )\n",
        "\n",
        "    #Plotting\n",
        "    if fig==None:\n",
        "        fig = plt.figure( figsize = (8,8) )\n",
        "    ax = fig.add_subplot(111)\n",
        "    #Function\n",
        "    ax.plot( Xarray, Yarray, linewidth = 3, color = \"blue\", label=\"$f(x)$\" )\n",
        "    #Points\n",
        "    ax.plot( X, Y, \"o\", color=\"red\", label=\"points\", zorder = 10 )\n",
        "    #Interpolator\n",
        "    ax.plot( Xarray, Parray, linewidth = 2, color = \"black\", label=\"$P_{%d}(x)$\"%(len(X)-1) )\n",
        "    #Area\n",
        "    ax.fill_between( Xarea, Parea, color=\"green\", alpha=0.5 )\n",
        "\n",
        "    #Format\n",
        "    ax.set_title( \"%d-point Quadrature\"%(len(X)), fontsize=16 )\n",
        "    ax.set_xlim( (xmin, xmax) )\n",
        "    ax.set_ylim( (0, 4) )\n",
        "    ax.set_xlabel( \"$x$\" )\n",
        "    ax.set_ylabel( \"$y$\" )\n",
        "    if leg:\n",
        "        ax.legend( loc=\"upper left\", fontsize=16 )\n",
        "    ax.grid(1)\n",
        "\n",
        "    return ax"
      ]
    },
    {
      "cell_type": "markdown",
      "metadata": {
        "id": "GroMHSwg00Wb"
      },
      "source": [
        "## Trapezoidal rule"
      ]
    },
    {
      "cell_type": "markdown",
      "metadata": {
        "id": "o7h82YeS00Wb"
      },
      "source": [
        "Using the previous formula, it is easily to derivate a set of low-order approximations for integration. Asumming a function $f(x)$ and an interval $[x_0,x_1]$, the associated quadrature formula is that obtained from a first-order Lagrange polynomial $P_1(x)$ given by:\n",
        "\n",
        "$$P_1(x) = \\frac{(x-x_1)}{x_0-x_1}f(x_0) + \\frac{(x-x_0)}{(x_1-x_0)}f(x_1)$$\n",
        "\n",
        "Using this, it is readible to obtain the integrate:\n",
        "\n",
        "$$\\int_{x_0}^{x_1}f(x)dx = \\frac{h}{2}[ f(x_0) + f(x_1) ]-\\frac{h^3}{12}f^{''}(\\xi)$$\n",
        "\n",
        "with $\\xi \\in [x_0, x_1]$ and $h = x_1-x_0$."
      ]
    },
    {
      "cell_type": "code",
      "execution_count": null,
      "metadata": {
        "id": "vQEIvYeq00Wb",
        "outputId": "c9271038-6538-49d6-ad2c-5c82a34a9fff"
      },
      "outputs": [
        {
          "data": {
            "text/plain": [
              "<matplotlib.axes.AxesSubplot at 0x7f7dfa4b3f50>"
            ]
          },
          "execution_count": 15,
          "metadata": {},
          "output_type": "execute_result"
        },
        {
          "data": {
            "image/png": "[encoded data removed]",
            "text/plain": [
              "<matplotlib.figure.Figure at 0x7f7dfa4b3dd0>"
            ]
          },
          "metadata": {},
          "output_type": "display_data"
        }
      ],
      "source": [
        "#Function\n",
        "def f(x):\n",
        "    return 1+np.cos(x)**2+x\n",
        "\n",
        "#Quadrature with 2 points (Trapezoidal rule)\n",
        "X = np.array([-0.5,1.5])\n",
        "Quadrature( f, X, xmin=-1, xmax=2, ymin=0, ymax=4 )"
      ]
    },
    {
      "cell_type": "markdown",
      "metadata": {
        "id": "hTEn18YL00Wc"
      },
      "source": [
        "## Simpson's rule"
      ]
    },
    {
      "cell_type": "markdown",
      "metadata": {
        "id": "tNCcnT_Q00Wc"
      },
      "source": [
        "A slightly better approximation to integration is the Simpson's rule. For this, assume a function $f(x)$ and an interval $[x_0,x_2]$, with a intermediate point $x_1$. The associate second-order Lagrange polynomial is given by:\n",
        "\n",
        "$$P_2(x) = \\frac{(x-x_1)(x-x_2)}{(x_0-x_1)(x_0-x_2)}f(x_0) + \\frac{(x-x_0)(x-x_2)}{(x_1-x_0)(x_1-x_2)}f(x_1) + \\frac{(x-x_0)(x-x_1)}{(x_2-x_0)(x_2-x_1)}f(x_2)$$\n",
        "\n",
        "The final expression is then:\n",
        "\n",
        "$$\\int_{x_0}^{x_2} f(x)dx = \\frac{h}{3}[ f(x_0)+4f(x_1)+f(x_2) ]-\\frac{h^5}{90}f^{(4)}(\\xi)$$"
      ]
    },
    {
      "cell_type": "code",
      "execution_count": null,
      "metadata": {
        "id": "WkS7s-bu00Wc",
        "outputId": "a9f6a95f-53f0-4d6a-9a12-d44b3ff06fcf"
      },
      "outputs": [
        {
          "data": {
            "text/plain": [
              "<matplotlib.axes.AxesSubplot at 0x7fbb60617210>"
            ]
          },
          "execution_count": 184,
          "metadata": {},
          "output_type": "execute_result"
        },
        {
          "data": {
            "image/png": "[encoded data removed]",
            "text/plain": [
              "<matplotlib.figure.Figure at 0x7fbb60617dd0>"
            ]
          },
          "metadata": {},
          "output_type": "display_data"
        }
      ],
      "source": [
        "#Function\n",
        "def f(x):\n",
        "    return 1+np.cos(x)**2+x\n",
        "\n",
        "#Quadrature with 3 points (Simpson's rule)\n",
        "X = np.array([-0.5,0.5,1.5])\n",
        "Quadrature( f, X, xmin=-1, xmax=2, ymin=0, ymax=4 )"
      ]
    },
    {
      "cell_type": "markdown",
      "metadata": {
        "id": "0BeUbMCp00Wc"
      },
      "source": [
        "## <font color='red'>     **Activity** </font>"
      ]
    },
    {
      "cell_type": "markdown",
      "metadata": {
        "id": "nPhBnXtT00Wc"
      },
      "source": [
        "<font color='red'>   \n",
        "- Using the trapezoidal and the Simpson's rules, determine the value of the integral (4.24565)\n",
        "\n",
        "$$ \\int_{-0.5}^{1.5}(1+\\cos^2x + x)dx $$\n",
        "\n",
        "- Take the previous routine Quadrature and the above function and explore high-order quadratures. What happends when you increase  the number of points?"
      ]
    },
    {
      "cell_type": "markdown",
      "metadata": {
        "id": "rDV9CvII00Wc"
      },
      "source": [
        "## <font color='red'>     **Activity** </font>"
      ]
    },
    {
      "cell_type": "markdown",
      "metadata": {
        "id": "BszqgN5x00Wc"
      },
      "source": [
        "<font color='red'>  \n",
        "\n",
        "Approximate the following integrals using formulas Trapezoidal and Simpson rules. Are the accuracies of\n",
        "the approximations consistent with the error formulas?\n",
        "\n",
        "\\begin{eqnarray*}\n",
        "&\\int_{0}^{0.1}&\\sqrt{1+ x}dx \\\\\n",
        "&\\int_{0}^{\\pi/2}&(\\sin x)^2dx\\\\\n",
        "&\\int_{1.1}^{1.5}&e^xdx\n",
        "\\end{eqnarray*}"
      ]
    },
    {
      "cell_type": "markdown",
      "metadata": {
        "id": "2j0F3Jud00Wd"
      },
      "source": [
        "# Composite Numerical Integration"
      ]
    },
    {
      "cell_type": "markdown",
      "metadata": {
        "id": "7L0kWY4Z00Wd"
      },
      "source": [
        "Although above-described methods are good enough when we want to integrate along small intervals, larger intervals would require more sampling points, where the resulting Lagrange interpolant will be a high-order polynomial. These interpolant polynomials exihibit usually an oscillatory behaviour (best known as [Runge's phenomenon](http://en.wikipedia.org/wiki/Runge%27s_phenomenon)), being more inaccurate as we increase $n$.\n",
        "\n",
        "An elegant and computationally inexpensive solution to this problem is a *piecewise* approach, where low-order Newton-Cotes formula (like trapezoidal and Simpson's rules) are applied over subdivided intervals."
      ]
    },
    {
      "cell_type": "code",
      "execution_count": null,
      "metadata": {
        "id": "uPQZ92O400Wd"
      },
      "outputs": [],
      "source": [
        "#Composite Quadrature method\n",
        "def CompositeQuadrature( f, a, b, N, n, xmin, xmax, ymin=0, ymax=1 ):\n",
        "    #X array\n",
        "    X = np.linspace( a, b, N )\n",
        "\n",
        "    #Plotting\n",
        "    fig = plt.figure( figsize = (8,8) )\n",
        "    for i in xrange(0,N-n,n):\n",
        "        Xi = X[i:i+n+1]\n",
        "        ax = Quadrature( f, Xi, X[i], X[i+n], fig=fig, leg=False )\n",
        "\n",
        "    #X array\n",
        "    Xarray = np.linspace( xmin, xmax, 1000 )\n",
        "    #F array\n",
        "    Yarray = f( Xarray )\n",
        "    #Function\n",
        "    ax.plot( Xarray, Yarray, linewidth = 3, color = \"blue\", label=\"$f(x)$\", zorder=0 )\n",
        "\n",
        "    #Format\n",
        "    plt.xlim( (xmin, xmax) )\n",
        "    plt.ylim( (ymin, ymax) )\n",
        "\n",
        "    return None"
      ]
    },
    {
      "cell_type": "markdown",
      "metadata": {
        "id": "rAqWCIhz00Wd"
      },
      "source": [
        "## Composite trapezoidal rule"
      ]
    },
    {
      "cell_type": "markdown",
      "metadata": {
        "id": "NYSnj3S400Wd"
      },
      "source": [
        "This formula is obtained when we subdivide the integration interval $[a,b]$ within sets of two points, such that we can apply the previous Trapezoidal rule to each one.\n",
        "\n",
        "Let $f(x)$ be a well behaved function ($f\\in C^2[a,b]$), defining the interval space as $h = (b-a)/N$, where N is the number of intervals we take, the **Composite Trapezoidal rule** is given by:\n",
        "\n",
        "$$ \\int_a^b f(x) dx = \\frac{h}{2}\\left[ f(a) + 2\\sum_{j=1}^{N-1}f(x_j) + f(b) \\right] - \\frac{b-a}{12}h^2 f^{''}(\\mu)$$\n",
        "\n",
        "for some value $\\mu$ in $(a,b)$."
      ]
    },
    {
      "cell_type": "code",
      "execution_count": null,
      "metadata": {
        "id": "wc-sj3BR00Wd",
        "outputId": "95cc60ff-49be-4d45-bc53-13d0bd18a1f9"
      },
      "outputs": [
        {
          "data": {
            "image/png": "[encoded data removed]",
            "text/plain": [
              "<matplotlib.figure.Figure at 0x7f7dfa441e90>"
            ]
          },
          "metadata": {},
          "output_type": "display_data"
        }
      ],
      "source": [
        "#Function\n",
        "def f(x):\n",
        "    return 1+np.cos(x)**2+x\n",
        "\n",
        "#Quadrature with 3 points (Simpson's rule)\n",
        "CompositeQuadrature( f, a=-0.5, b=1.5, N=5, n=1, xmin=-1, xmax=2, ymin=0, ymax=4 )"
      ]
    },
    {
      "cell_type": "markdown",
      "metadata": {
        "id": "6x66bkxt00We"
      },
      "source": [
        "## Composite Simpson's rule"
      ]
    },
    {
      "cell_type": "markdown",
      "metadata": {
        "id": "hcHWET8n00We"
      },
      "source": [
        "Now, if we instead divide the integration interval in sets of three points, we can apply Simpson's rule to each one, obtaining:\n",
        "\n",
        "$$ \\int_a^bf(x)dx = \\frac{h}{3}\\left[ f(a) +2 \\sum_{j=1}^{(n/2)-1}f(x_{2j})+4\\sum_{j=1}^{n/2}f(x_{2j-1})+f(b) \\right] - \\frac{b-a}{180}h^4f^{(4)}(\\mu)$$\n",
        "\n",
        "for some value $\\mu$ in $(a,b)$."
      ]
    },
    {
      "cell_type": "code",
      "execution_count": null,
      "metadata": {
        "id": "gn8wGLcE00We",
        "outputId": "51c79e0c-ad8c-41dd-c026-96a1b88175aa"
      },
      "outputs": [
        {
          "data": {
            "image/png": "[encoded data removed]",
            "text/plain": [
              "<matplotlib.figure.Figure at 0x7fbb609f9a10>"
            ]
          },
          "metadata": {},
          "output_type": "display_data"
        }
      ],
      "source": [
        "#Function\n",
        "def f(x):\n",
        "    return 1+np.cos(x)**2+x\n",
        "\n",
        "#Quadrature with 3 points (Simpson's rule)\n",
        "CompositeQuadrature( f, a=-0.5, b=1.5, N=5, n=2, xmin=-1, xmax=2, ymin=0, ymax=4 )"
      ]
    },
    {
      "cell_type": "markdown",
      "metadata": {
        "id": "-8HktuG900We"
      },
      "source": [
        "## <font color='red'>     **Activity** </font>"
      ]
    },
    {
      "cell_type": "markdown",
      "metadata": {
        "id": "YdLvYV5R00We"
      },
      "source": [
        "<font color='red'>   \n",
        "- Using the Composite trapezoidal and Simpson's rules, determine the value of the integral (4.24565)\n",
        "\n",
        "$$ \\int_{-0.5}^{1.5}(1+\\cos^2x + x)dx $$\n",
        "\n",
        "- Take the previous routine CompositeQuadrature and the above function and explore high-order composites quadratures. What happens when you increase the number of points?\n",
        "</font>"
      ]
    },
    {
      "cell_type": "markdown",
      "metadata": {
        "id": "EMKuwXh000We"
      },
      "source": [
        "## <font color='red'>     **Activity** </font>"
      ]
    },
    {
      "cell_type": "markdown",
      "metadata": {
        "id": "up_ZQq5Z00We"
      },
      "source": [
        "<font color='red'>    \n",
        "\n",
        "An experiment has measured $dN(t)/dt$, the number of particles entering a counter, per unit time, as a function of time. Your problem is to integrate this spectrum to obtain the number of particles $N(1)$ that entered the counter\n",
        "in the first second\n",
        "\n",
        "$$ N(1) = \\int_0^1 \\frac{dN}{dt} dt$$\n",
        "\n",
        "For the problem it is assumed exponential decay so that there actually is an analytic answer.\n",
        "\n",
        "$$ \\frac{dN}{dt} = e^{-t} $$\n",
        "\n",
        "Compare the relative error for the composite trapezoid and Simpson rules. Try different values of N. Make a logarithmic plot of N vs Error."
      ]
    },
    {
      "cell_type": "markdown",
      "metadata": {
        "id": "MdwTLJIS00Wf"
      },
      "source": [
        "- - -"
      ]
    },
    {
      "cell_type": "markdown",
      "metadata": {
        "id": "CmlLg4wh00Wf"
      },
      "source": [
        "# Adaptive Quadrature Methods"
      ]
    },
    {
      "cell_type": "markdown",
      "metadata": {
        "id": "hB2N257Q00Wf"
      },
      "source": [
        "Calculating the integrate of the function $f(x) = e^{-3x}\\sin(4x)$ within the interval $[0,4]$, we obtain:"
      ]
    },
    {
      "cell_type": "code",
      "execution_count": null,
      "metadata": {
        "id": "YkKokBBw00Wf",
        "outputId": "5e1018b1-fbb6-4ccb-9eb8-dc58ac68fe78"
      },
      "outputs": [
        {
          "data": {
            "image/png": "[encoded data removed]",
            "text/plain": [
              "<matplotlib.figure.Figure at 0x7f7dfe96f3d0>"
            ]
          },
          "metadata": {},
          "output_type": "display_data"
        }
      ],
      "source": [
        "#Function\n",
        "def f(x):\n",
        "    return np.exp(-3*x)*np.sin(4*x)\n",
        "\n",
        "#Plotting\n",
        "X = np.linspace( 0, 4, 200 )\n",
        "Y = f(X)\n",
        "plt.figure( figsize=(14,7) )\n",
        "plt.plot( X, Y, color=\"blue\", lw=3 )\n",
        "plt.fill_between( X, Y, color=\"blue\", alpha=0.5 )\n",
        "plt.xlim( 0,4 )\n",
        "plt.grid()"
      ]
    },
    {
      "cell_type": "markdown",
      "metadata": {
        "id": "477CLG-500Wf"
      },
      "source": [
        "Using composite numerical integration is not completely adequate for this problem as the function exhibits different behaviours for differente intervals. For the interval $[0,2]$ the function varies noticeably, requiring a rather small integration interval $h$. However, for the interval $[2,4]$ variations are not considerable and low-order composite integration is enough. This lays a pathological situation where simple composite methods are not efficient. In order to remedy this, we introduce an adaptive quadrature methods, where the integration step $h$ can vary according to the interval. The main advantage of this is a controlable precision of the result."
      ]
    },
    {
      "cell_type": "markdown",
      "metadata": {
        "id": "FUSXCrzg00Wf"
      },
      "source": [
        "## Simpson's adaptive quadrature"
      ]
    },
    {
      "cell_type": "markdown",
      "metadata": {
        "id": "8iZC3BLL00Wf"
      },
      "source": [
        "Although adaptive quadrature can be readily applied to any quadrature method, we shall cover only the Simpson's adaptive quadrature as it is more than enough for most problems.\n",
        "\n",
        "Let's assume a function $f(x)$. We want to compute the integral within the interval $[a,b]$. Using a simple Simpson's quadrature, we obtain:\n",
        "\n",
        "$$\\int_a^bf(x)dx = S(a,b) - \\frac{h^5}{90}f^{(4)}(\\xi)$$\n",
        "\n",
        "where we introduce the notation:\n",
        "\n",
        "$$S(a,b) = \\frac{h}{3}\\left[ f(a) + 4f(a+h) + f(b) \\right]$$\n",
        "\n",
        "and $h$ is simply $h = (b-a)/2$.\n",
        "\n",
        "![](https://raw.githubusercontent.com/sbustamante/ComputationalMethods/bb0f137366b3d2bbfdd33425ad78be4003716703/material/figures/adaptive_quadrature.png)\n",
        "\n",
        "Now, instead of using an unique Simpson's quadrature, we implement two, yielding:\n",
        "\n",
        "$$\\int_a^bf(x)dx = S\\left(a,\\frac{a+b}{2}\\right) + S\\left(\\frac{a+b}{2},b\\right) - \\frac{1}{16}\\left(\\frac{h^5}{90}\\right)f^{(4)}(\\xi)$$\n",
        "\n",
        "For this expression, we reasonably assume an equal fourth-order derivative $f^{(4)}(\\xi) = f^{(4)}(\\xi_1) = f^{(4)}(\\xi_2) $, where $\\xi_1$ is the estimative for the first subtinterval (i.e. $\\xi_1\\in[a,(a+b)/2]$), and $\\xi_2$ for the second one (i.e. $\\xi_1\\in[(a+b)/2, b]$).\n",
        "\n",
        "As both expressions can approximate the real value of the integrate, we can equal them, obtaining:\n",
        "\n",
        "$$\\int_a^bf(x)dx = S(a,b) - \\frac{h^5}{90}f^{(4)}(\\xi) = S\\left(a,\\frac{a+b}{2}\\right) + S\\left(\\frac{a+b}{2},b\\right) - \\frac{1}{16}\\left(\\frac{h^5}{90}\\right)f^{(4)}(\\xi)$$\n",
        "\n",
        "which leads us to a simple way to estimate the error without knowing the fourth-order derivative, i.e.\n",
        "\n",
        "$$\\frac{h^5}{90}f^{(4)}(\\xi) = \\frac{16}{15}\\left| S(a,b) - S\\left(a,\\frac{a+b}{2}\\right) - S\\left(\\frac{a+b}{2},b\\right) \\right|$$\n",
        "\n",
        "If we fix a precision $\\epsilon$, such that the obtained error for the second iteration is smaller\n",
        "\n",
        "$$\\frac{1}{16}\\frac{h^5}{90}f^{(4)}(\\xi) < \\epsilon $$\n",
        "\n",
        "it implies:\n",
        "\n",
        "$$\\left| S(a,b) - S\\left(a,\\frac{a+b}{2}\\right) - S\\left(\\frac{a+b}{2},b\\right) \\right|< 15 \\epsilon$$\n",
        "\n",
        "and\n",
        "\n",
        "$$\\left| \\int_a^bf(x) dx- S\\left(a,\\frac{a+b}{2}\\right) - S\\left(\\frac{a+b}{2},b\\right) \\right|< \\epsilon$$\n",
        "\n",
        "The second iteration is then $15$ times more precise than the first one."
      ]
    },
    {
      "cell_type": "markdown",
      "metadata": {
        "id": "Ez9hQeaV00Wg"
      },
      "source": [
        "## Steps Simpson's adaptive quadrature"
      ]
    },
    {
      "cell_type": "markdown",
      "metadata": {
        "id": "Ixjs_uew00Wg"
      },
      "source": [
        "**1.** Give the function $f(x)$ to be integrated, the inverval $[a,b]$ and set a desired precision $\\epsilon$.\n",
        "\n",
        "**2.** Compute the next Simpsons's quadratures:\n",
        "\n",
        "$$ S(a,b),\\ S\\left(a,\\frac{a+b}{2}\\right),\\ S\\left(\\frac{a+b}{2},b\\right) $$\n",
        "\n",
        "**3.** If\n",
        "\n",
        "$$\\frac{1}{15}\\left| S(a,b) - S\\left(a,\\frac{a+b}{2}\\right) - S\\left(\\frac{a+b}{2},b\\right) \\right|<\\epsilon$$\n",
        "\n",
        "then the integration is ready and is given by:\n",
        "\n",
        "$$\\int_a^bf(x) dx \\approx S\\left(a,\\frac{a+b}{2}\\right) + S\\left(\\frac{a+b}{2},b\\right) $$\n",
        "\n",
        "within the given precision.\n",
        "\n",
        "**4.** If the previous step is not fulfilled, repeat from step **2** using as new intervals $[a,(a+b)/2]$ and $[(a+b)/2,b]$ and a new precision $\\epsilon_1 = \\epsilon/2$. Repeating until step 3 is fulfilled for all the subintervals."
      ]
    },
    {
      "cell_type": "markdown",
      "metadata": {
        "id": "eDZvz64b00Wg"
      },
      "source": [
        "## <font color='red'>     **Activity** </font>"
      ]
    },
    {
      "cell_type": "markdown",
      "metadata": {
        "id": "JBEaJxbR00Wg"
      },
      "source": [
        "###Models of Universe\n",
        "\n",
        "From the Friedmann equations can be found the dynamics of the Universe, i.e., the evolution of the expansion with time that depends on the content of matter and energy of the Universe. Before introducing the general expression, there are several quatities that need to be defined.\n",
        "\n",
        "It is convenient to express the density in terms of a critical density $\\rho_c$ given by\n",
        "\n",
        "\\begin{equation}\n",
        "\\rho_c = 3H_0^2/8\\pi G\n",
        "\\end{equation}\n",
        "\n",
        "where $H_o$ is the Hubble constant. The critical density is the density needed in order the Universe to be flat. To obtained it, it is neccesary to make the curvature of the universe $\\kappa = 0$. The critical density is one value per\n",
        "time and the geometry of the universe depends on this value, or equally on $\\kappa$. For a universe with $\\kappa<0$ it would ocurre a big crunch(closed universe) and for a $\\kappa>0$ there would be an open universe.    \n",
        "\n",
        "Now, it can also be defined a density parameter, $\\Omega$, a normalized density\n",
        "\n",
        "\\begin{equation}\n",
        "\\Omega_{i,0} = \\rho_{i,0}/\\rho_{crit}\n",
        "\\end{equation}\n",
        "\n",
        "where $\\rho_{i,0}$ is the actual density($z=0$) for the component $i$. Then, it can be found the next expression\n",
        "\n",
        "\\begin{equation}\n",
        "\\frac{H^2(t)}{H_{0}^{2}} = (1-\\Omega_0)(1+z)^2 + \\Omega_{m,0}(1+z^3)+ \\Omega_{r,0}(1+z)^4 + \\Omega_{\\Lambda,0}\n",
        "\\end{equation}\n",
        "\n",
        "where $\\Omega_{m,0}$, $\\Omega_{r,0}$ and  $\\Omega_{\\Lambda,0}$ are the matter, radiation and vacuum density parameters. And $\\Omega_0$ is the total density including the vacuum energy.\n",
        "\n",
        "This expression can also be written in terms of the expansion or scale factor($a$) rather than the redshift($z$) due to the expression $1+z = 1/a$ and it can be simplified in several ways.\n",
        "\n",
        "For the next universe models, plot time($H_{0}^{-1}$ units) vs the scale factor:\n",
        "\n",
        "-Einstein-de Sitter Universe: Flat space, null vacuum energy and dominated by matter\n",
        "\n",
        "\\begin{equation}\n",
        "t = H_0^{-1} \\int_0^{a'} a^{1/2}da\n",
        "\\end{equation}\n",
        "\n",
        "-Radiation dominated universe: All other components are not contributing\n",
        "\n",
        "$$\n",
        "t = H_0^{-1} \\int_0^{a'} \\frac{a}{[\\Omega_{r,0}+a^2(1-\\Omega_{r,0})]^{1/2}}da\n",
        "$$\n",
        "\n",
        "-WMAP9 Universe\n",
        "\n",
        "\\begin{equation}\n",
        "t = H_0^{-1} \\int_0^{a'} \\left[(1-\\Omega_{0})+ \\Omega_{m,0}a^{-1} + \\Omega_{r,0}a^{-2} +\\Omega_{\\Lambda,0}a^2\\right]^{-1/2} da\n",
        "\\end{equation}\n",
        "\n",
        "\n",
        "You can take the cosmological parameters  from the link\n",
        "\n",
        "http://lambda.gsfc.nasa.gov/product/map/dr5/params/lcdm_wmap9.cfm or use these ones: $\\Omega_M$ = 0.266,\n",
        "$\\Omega_R = 8.24e-5$ and $\\Omega_L = 0.734$.\n",
        "\n",
        "Use composite simpson rule to integrate and compare it with the analitical expression in case you can get it.\n",
        "The superior limit in the integral corresponds to the actual redshift $z=0$. What is happening to our universe?\n",
        "\n"
      ]
    },
    {
      "cell_type": "markdown",
      "metadata": {
        "id": "7ZjzZBf200Wg"
      },
      "source": [
        "## <font color='red'>     **Activity** </font>"
      ]
    },
    {
      "cell_type": "markdown",
      "metadata": {
        "id": "qDT4231m00Wg"
      },
      "source": [
        "<font color='red'>   \n",
        "- Using the Simpson's adaptive quadrature determine the value of the next integral with a precision of float32.\n",
        "\n",
        "$$\\int_0^4 e^{-3x}\\sin(4x)dx$$\n"
      ]
    },
    {
      "cell_type": "markdown",
      "metadata": {
        "id": "QDDQIEJG00Wg"
      },
      "source": [
        "## <font color='red'>     **Activity** </font>"
      ]
    },
    {
      "cell_type": "markdown",
      "metadata": {
        "id": "a1aA3-jK00Wh"
      },
      "source": [
        "<font color='red'>   \n",
        "Fresnel integrals are commonly used in the study of light difraction at a rectangular aperture, they are given by:\n",
        "\n",
        "$$c(t) = \\int_0^t\\cos\\left(\\frac{\\pi}{2}\\omega^2\\right)d\\omega$$\n",
        "\n",
        "$$s(t) = \\int_0^t\\sin\\left(\\frac{\\pi}{2}\\omega^2\\right)d\\omega$$\n",
        "\n",
        "These integrals cannot be solved using analitical methods. Using the previous routine for adaptive quadrature, compute the integrals with a precision of $\\epsilon=10^{-4}$ for values of $t=0.1,0.2,0.3,\\cdots 1.0$. Create two arrays with those values and then make a plot of $c(t)$ vs $s(t)$. The resulting figure is called Euler spiral, that is a member of a family of curves called [Clothoid loops](http://en.wikipedia.org/wiki/Vertical_loop).\n"
      ]
    },
    {
      "cell_type": "markdown",
      "metadata": {
        "id": "M9ChvcAV00Wh"
      },
      "source": [
        "- - -"
      ]
    },
    {
      "cell_type": "markdown",
      "metadata": {
        "id": "Kl7fyU_E00Wh"
      },
      "source": [
        "# Improper Integrals"
      ]
    },
    {
      "cell_type": "markdown",
      "metadata": {
        "id": "xvsHWWqU00Wh"
      },
      "source": [
        "Although the previous integration methods can be applied in almost every situation, improper integrals pose a challenger to numerical methods as they involve indeterminations and infinite intervals. Next, we shall cover some tricks to rewrite improper integrals in terms of simple ones."
      ]
    },
    {
      "cell_type": "markdown",
      "metadata": {
        "id": "UjyQpEi600Wh"
      },
      "source": [
        "## Left endpoint singularity"
      ]
    },
    {
      "cell_type": "markdown",
      "metadata": {
        "id": "mzMQ-LyX00Wh"
      },
      "source": [
        "Assuming a function $f(x)$ such that it can be rewritten as\n",
        "\n",
        "$$ f(x) = \\frac{g(x)}{(x-a)^p} $$\n",
        "\n",
        "the integral over an interval $[a,b]$ converges only and only if $0<p<1$.\n",
        "\n",
        "Using Simpson's composite rule, it is possible to compute the fourth-order Taylor polynomial of the function $g(x)$ at the point $a$, obtaining\n",
        "\n",
        "$$ P_4(x) = g(a) + g^{'}(a)(x-a)+\\frac{g^{''}(a)}{2!}(x-a)^2 +\\frac{g^{''}(a)}{3!}(x-a)^3+ \\frac{g^{(4)}(a)}{4!}(x-a)^4$$\n",
        "\n",
        "The integral can be then calculated as\n",
        "\n",
        "$$\\int_a^b f(x)dx = \\int_a^b\\frac{g(x)-P_4(x)}{(x-a)^p}dx + \\int_a^b\\frac{P_4(x)}{(x-a)^p}dx$$\n",
        "\n",
        "The second term is an integral of a polynimal, which can be easily integrated using analytical methods.\n",
        "\n",
        "The first term is no longer pathologic as there is not any indetermination, and it can be determined using composite Simpson's rule"
      ]
    },
    {
      "cell_type": "markdown",
      "metadata": {
        "id": "IBOumJ9M00Wh"
      },
      "source": [
        "## Right endpoint singularity"
      ]
    },
    {
      "cell_type": "markdown",
      "metadata": {
        "id": "2EsooA3Y00Wh"
      },
      "source": [
        "This is the contrary case, where the indetermination is present in the extreme $b$ of the integration interval $[a,b]$. For this problem is enough to make a variable substitution\n",
        "\n",
        "$$ z=-x \\  \\ \\ \\ \\ \\  dz=-dx$$\n",
        "\n",
        "With this, the right endpoint singularity becomes a left endpoint singularity and the previous method can be directly applied."
      ]
    },
    {
      "cell_type": "markdown",
      "metadata": {
        "id": "Y0JOHREk00Wi"
      },
      "source": [
        "## Infinite singularity"
      ]
    },
    {
      "cell_type": "markdown",
      "metadata": {
        "id": "Jm7GQPwY00Wi"
      },
      "source": [
        "Finally, infinite singularities are those where the integration domain is infinite, i.e.\n",
        "\n",
        "$$\\int_a^\\infty f(x)dx$$\n",
        "\n",
        "this type of integrals can be easily turned into a left endpoint singularity jus making the next variable substitution\n",
        "\n",
        "$$t = x^{-1}\\ \\ \\ \\ \\ dt = -x^{-2}dx$$\n",
        "\n",
        "yielding\n",
        "\n",
        "$$ \\int_a^\\infty f(x)dx = \\int_0^{1/a}t^{-2}f\\left(\\frac{1}{t}\\right)dt $$"
      ]
    },
    {
      "cell_type": "markdown",
      "metadata": {
        "id": "zRMCKzIf00Wi"
      },
      "source": [
        "## <font color='red'>     **Activity** </font>"
      ]
    },
    {
      "cell_type": "markdown",
      "metadata": {
        "id": "ZCMIqrRF00Wi"
      },
      "source": [
        "<font color='red'>   \n",
        "Error function is a special and non-elementary function that is widely used in probability, statistics and diffussion processes.\n",
        "It is defined through the integral:\n",
        "\n",
        "$$\\mbox{erf}(x) = \\frac{2}{\\sqrt{\\pi}}\\int_0^x e^{-t^2}dt$$\n",
        "\n",
        "Using the substitution $u=t^2$ it is possible to use the previous methods for impropers integrals in order to evaluate the error function. Create a routine called `ErrorFunction` that, given a value of $x$, return the respective value of the integral.\n"
      ]
    },
    {
      "cell_type": "markdown",
      "metadata": {
        "id": "xUDa5wd_00Wi"
      },
      "source": [
        "- - -"
      ]
    }
  ],
  "metadata": {
    "kernelspec": {
      "display_name": "Python 2",
      "language": "python",
      "name": "python2"
    },
    "language_info": {
      "codemirror_mode": {
        "name": "ipython",
        "version": 2
      },
      "file_extension": ".py",
      "mimetype": "text/x-python",
      "name": "python",
      "nbconvert_exporter": "python",
      "pygments_lexer": "ipython2",
      "version": "2.7.10"
    },
    "colab": {
      "provenance": [],
      "include_colab_link": true
    }
  },
  "nbformat": 4,
  "nbformat_minor": 0
}