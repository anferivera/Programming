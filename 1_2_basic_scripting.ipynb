{
  "nbformat": 4,
  "nbformat_minor": 0,
  "cells": [
    {
      "cell_type": "markdown",
      "metadata": {
        "id": "view-in-github",
        "colab_type": "text"
      },
      "source": [
        "<a href=\"https://colab.research.google.com/github/anferivera/Programming/blob/main/1_2_basic_scripting.ipynb\" target=\"_parent\"><img src=\"https://colab.research.google.com/assets/colab-badge.svg\" alt=\"Open In Colab\"/></a>"
      ]
    },
    {
      "cell_type": "markdown",
      "source": [
        "Based in Sebastian Bustamante notebook https://github.com/sbustamante/ComputationalMethods/tree/master"
      ],
      "metadata": {
        "id": "Q2H_d2hL2GCP"
      }
    },
    {
      "cell_type": "markdown",
      "source": [
        "#Basic Scripting with Python"
      ],
      "metadata": {
        "id": "3Pbe55-E1_NE"
      }
    },
    {
      "cell_type": "markdown",
      "source": [
        "\"Regular coding\", as some compiled languages like C and Fortran, is also possible in Python, where everything is made explicitly.\n",
        "Although regular coding is less abstract and more clear, in most cases it is also less efficient. Fortunately, features of Python like operators overloading, easy import of auxiliar libraries and the OOP (Object-Oriented Programming) paradigm make Python very efficient and saving when coding.\n",
        "\n",
        "\n",
        "The goal of this session is to learn several tools offered by Python and auxiliar libraries for basic tasks like data manipulation, evaluating functions, argument passing, search methods, etc."
      ],
      "metadata": {
        "id": "8WT1oV5l1_NI"
      }
    },
    {
      "cell_type": "markdown",
      "source": [
        "- - -\n",
        "**For the proposed activities:**\n",
        "\n",
        "- **Do not hesitate to take your first guess when writing your own codes! (by now)**\n",
        "- **Do not try other ways more complex or less natural for YOU yet!**\n",
        "- **It is also important that you work alone, so you can contrast later YOUR way with the alternative offered by Python!**\n",
        "\n",
        "- - -"
      ],
      "metadata": {
        "id": "Cr6L_40G1_NK"
      }
    },
    {
      "cell_type": "markdown",
      "source": [
        "- [Example 1](#Example-1)\n",
        "- [Example 2](#Example-2)\n",
        "- [Miscellanea](#Miscellanea)"
      ],
      "metadata": {
        "id": "T8SbseFa1_NM"
      }
    },
    {
      "cell_type": "markdown",
      "source": [
        "- - -"
      ],
      "metadata": {
        "id": "aN7IqplP1_NN"
      }
    },
    {
      "cell_type": "markdown",
      "source": [
        "###Example 1"
      ],
      "metadata": {
        "id": "slOpiGWO1_NN"
      }
    },
    {
      "cell_type": "markdown",
      "source": [
        "Write a program that calculates the sum of N numbers"
      ],
      "metadata": {
        "id": "u4arzkkI1_NO"
      }
    },
    {
      "cell_type": "code",
      "source": [
        "#! /usr/bin/python\n",
        "#====================================================================\n",
        "#REGULAR\n",
        "#====================================================================\n",
        "N = 5\n",
        "numbers = [1,5,2,3,2]\n",
        "suma = 0\n",
        "for i in range(0,N,1):\n",
        "    suma += numbers[i]\n",
        "print(\"The result is %d\"%(suma))\n",
        "\n",
        "#====================================================================\n",
        "#PYTHON\n",
        "#====================================================================\n",
        "numbers = [1,5,2,3,2]\n",
        "suma = 0\n",
        "for i in numbers:\n",
        "    suma += i\n",
        "print(\"The result is %d\"%(suma))\n",
        "#====================================================================\n",
        "#PYTHON\n",
        "#====================================================================\n",
        "numbers = [1,5,2,3,2]\n",
        "print(\"The result is %d\"%(sum(numbers)))"
      ],
      "outputs": [
        {
          "output_type": "stream",
          "name": "stdout",
          "text": [
            "The result is 13\n",
            "The result is 13\n",
            "The result is 13\n"
          ]
        }
      ],
      "metadata": {
        "colab": {
          "base_uri": "https://localhost:8080/"
        },
        "id": "tpVTqPwa1_NP",
        "outputId": "4a24cc90-27be-44de-a1ba-0c43b7a86d25"
      },
      "execution_count": 4
    },
    {
      "cell_type": "markdown",
      "source": [
        "Put the script in a file and execute in the console"
      ],
      "metadata": {
        "id": "95yE6WOM30L7"
      }
    },
    {
      "cell_type": "markdown",
      "source": [
        "###Example 2"
      ],
      "metadata": {
        "id": "FELGKmNP1_NS"
      }
    },
    {
      "cell_type": "markdown",
      "source": [
        "Write a program that generates a grid for the function:\n",
        "\n",
        "$$f(x) = x \\sqrt{1+x^2}$$\n",
        "\n",
        "in the range $1\\leq x < 5\\ \\ \\ $ with a step of $0.5$."
      ],
      "metadata": {
        "id": "tqV-Cqg31_NT"
      }
    },
    {
      "cell_type": "code",
      "source": [
        "#! /usr/bin/python\n",
        "#====================================================================\n",
        "#REGULAR\n",
        "#====================================================================\n",
        "dx = 0.5\n",
        "xmin = 1\n",
        "xmax = 5\n",
        "N = int((xmax-xmin)/dx)\n",
        "#Function\n",
        "def f(x):\n",
        "    return x*(1+x**2)**0.5\n",
        "#Array x and y=f(x)\n",
        "X = []\n",
        "Y = []\n",
        "for i in range(0,N,1):\n",
        "    X.append(xmin + i*dx)\n",
        "    Y.append(f(X[i]))\n",
        "    print(\"Plain: f(%1.1f)=%1.1f\"%( X[i], Y[i] ))\n",
        "\n",
        "#====================================================================\n",
        "#PYTHON\n",
        "#====================================================================\n",
        "import numpy as np\n",
        "dx = 0.5\n",
        "xmin = 1\n",
        "xmax = 5\n",
        "X = np.arange(xmin,xmax,dx)\n",
        "f = lambda x: x*(1+x**2)**0.5\n",
        "Y = f(X)\n",
        "for x,y in zip(X,Y):\n",
        "    print(\"Python: f(%1.1f)=%1.1f\"%( x, y ))"
      ],
      "outputs": [
        {
          "output_type": "stream",
          "name": "stdout",
          "text": [
            "Plain: f(1.0)=1.4\n",
            "Plain: f(1.5)=2.7\n",
            "Plain: f(2.0)=4.5\n",
            "Plain: f(2.5)=6.7\n",
            "Plain: f(3.0)=9.5\n",
            "Plain: f(3.5)=12.7\n",
            "Plain: f(4.0)=16.5\n",
            "Plain: f(4.5)=20.7\n",
            "Python: f(1.0)=1.4\n",
            "Python: f(1.5)=2.7\n",
            "Python: f(2.0)=4.5\n",
            "Python: f(2.5)=6.7\n",
            "Python: f(3.0)=9.5\n",
            "Python: f(3.5)=12.7\n",
            "Python: f(4.0)=16.5\n",
            "Python: f(4.5)=20.7\n"
          ]
        }
      ],
      "metadata": {
        "colab": {
          "base_uri": "https://localhost:8080/"
        },
        "id": "tQyz6_jN1_NU",
        "outputId": "94ff1708-3b0b-4278-c91a-66565691ed86"
      },
      "execution_count": 5
    },
    {
      "cell_type": "markdown",
      "source": [
        "#Miscellanea"
      ],
      "metadata": {
        "id": "FewnL1BC1_NW"
      }
    },
    {
      "cell_type": "markdown",
      "source": [
        "Solve the next exercises:"
      ],
      "metadata": {
        "id": "oPvBCll-1_NZ"
      }
    },
    {
      "cell_type": "markdown",
      "source": [
        "**1.** Write a program that sort a list of N numbers."
      ],
      "metadata": {
        "id": "nX3Rmxd_1_NZ"
      }
    },
    {
      "cell_type": "code",
      "source": [
        "#! /usr/bin/python\n",
        "import numpy as np\n",
        "\n",
        "N = 5\n",
        "#The set is generated randomly\n",
        "X = np.random.random(N)\n",
        "print(\"Original set:\", X)\n",
        "print(\"Sorted set:\", np.sort(X))"
      ],
      "outputs": [
        {
          "output_type": "stream",
          "name": "stdout",
          "text": [
            "Original set: [0.75056109 0.60920112 0.91337396 0.02106599 0.66331115]\n",
            "Sorted set: [0.02106599 0.60920112 0.66331115 0.75056109 0.91337396]\n"
          ]
        }
      ],
      "metadata": {
        "colab": {
          "base_uri": "https://localhost:8080/"
        },
        "id": "TtZJRigr1_NZ",
        "outputId": "6ea7b811-c1cf-4324-8156-60b1c507ad8c"
      },
      "execution_count": 10
    },
    {
      "cell_type": "markdown",
      "source": [
        "**2.** Find all the elements of a list of N numbers that are greater than the mean value of them. Then, create a new list with those numbers."
      ],
      "metadata": {
        "id": "H315cNKE1_Na"
      }
    },
    {
      "cell_type": "code",
      "source": [
        "#! /usr/bin/python\n",
        "import numpy as np\n",
        "\n",
        "N = 10\n",
        "#The set is generated randomly\n",
        "X = 100*np.random.random(N)\n",
        "Y = X[ X>=X.mean() ]\n",
        "print(\"Original set\", X)\n",
        "print(\"Numbers greater than %1.2f:\"%(X.mean()), Y)"
      ],
      "outputs": [
        {
          "output_type": "stream",
          "name": "stdout",
          "text": [
            "Original set [85.02009548 28.9329657  84.10171559 52.02473595 37.31333393 34.07056031\n",
            " 53.45797761 51.22184493 10.13979542 84.53025471]\n",
            "Numbers greater than 52.08: [85.02009548 84.10171559 53.45797761 84.53025471]\n"
          ]
        }
      ],
      "metadata": {
        "colab": {
          "base_uri": "https://localhost:8080/"
        },
        "id": "pZEyNqJW1_Na",
        "outputId": "acf23f5a-c4c5-4aa1-efa7-420ca00ac1aa"
      },
      "execution_count": 11
    },
    {
      "cell_type": "markdown",
      "source": [
        "**3.** Write a program that gives the name of students who passed a course (grade$\\geq 3.0\\ \\ $ over $5.0\\ \\ $)."
      ],
      "metadata": {
        "id": "uERTTu_21_Nb"
      }
    },
    {
      "cell_type": "code",
      "source": [
        "#! /usr/bin/python\n",
        "import numpy as np\n",
        "\n",
        "#All students\n",
        "grades = {\"Juanito\":2.5, \"Pepito\":4.8, \"Carlitos\":3.0, \"Maria\":3.9, \"Pepita\":4.6, \"Anita\":1.9, \"Bertulfo\":0.9}\n",
        "\n",
        "passed = []\n",
        "for key, value in grades.items():\n",
        "    if value >= 3.0:\n",
        "        passed.append(key)\n",
        "print(passed)"
      ],
      "metadata": {
        "colab": {
          "base_uri": "https://localhost:8080/"
        },
        "id": "_zhmdfbPBvFf",
        "outputId": "81a3dd8d-8def-477a-a769-4ac3c676df9f"
      },
      "execution_count": 19,
      "outputs": [
        {
          "output_type": "stream",
          "name": "stdout",
          "text": [
            "['Pepito', 'Carlitos', 'Maria', 'Pepita']\n"
          ]
        }
      ]
    },
    {
      "cell_type": "markdown",
      "source": [
        "**4.** Write a program that evaluates the next expression for given values of $x$, $a$ and $b$:\n",
        "\n",
        "$$\\frac{\\sin(x) + \\cos(x)}{2}(a+b)$$\n",
        "\n",
        "you may find useful the library `math` for the functions $\\sin(x)\\ \\ $ and $\\cos(x)$. Import it as `import math`"
      ],
      "metadata": {
        "id": "L4bk-OYi1_Nc"
      }
    },
    {
      "cell_type": "markdown",
      "source": [
        "**5.** Find all the prime numbers between 1 and 100."
      ],
      "metadata": {
        "id": "4OE_rDeX1_Nc"
      }
    },
    {
      "cell_type": "code",
      "source": [
        "#! /usr/bin/python\n",
        "import numpy, math\n",
        "\n",
        "#Prime Checker\n",
        "def primes(upto):\n",
        "    primes = numpy.arange(3,upto+1,2)\n",
        "    isprime = numpy.ones((upto-1)/2,dtype=bool)\n",
        "    for factor in primes[:int(math.sqrt(upto))]:\n",
        "        if isprime[(factor-2)/2]: isprime[(factor*3-2)/2::factor]=0\n",
        "    return numpy.insert(primes[isprime],0,2)\n",
        "\n",
        "print(\"The prime numbers between 1 and 100 are:\", primes(100))"
      ],
      "outputs": [
        {
          "output_type": "error",
          "ename": "TypeError",
          "evalue": "expected a sequence of integers or a single integer, got '49.5'",
          "traceback": [
            "\u001b[0;31m---------------------------------------------------------------------------\u001b[0m",
            "\u001b[0;31mTypeError\u001b[0m                                 Traceback (most recent call last)",
            "\u001b[0;32m/tmp/ipython-input-3161366014.py\u001b[0m in \u001b[0;36m<cell line: 0>\u001b[0;34m()\u001b[0m\n\u001b[1;32m     10\u001b[0m     \u001b[0;32mreturn\u001b[0m \u001b[0mnumpy\u001b[0m\u001b[0;34m.\u001b[0m\u001b[0minsert\u001b[0m\u001b[0;34m(\u001b[0m\u001b[0mprimes\u001b[0m\u001b[0;34m[\u001b[0m\u001b[0misprime\u001b[0m\u001b[0;34m]\u001b[0m\u001b[0;34m,\u001b[0m\u001b[0;36m0\u001b[0m\u001b[0;34m,\u001b[0m\u001b[0;36m2\u001b[0m\u001b[0;34m)\u001b[0m\u001b[0;34m\u001b[0m\u001b[0;34m\u001b[0m\u001b[0m\n\u001b[1;32m     11\u001b[0m \u001b[0;34m\u001b[0m\u001b[0m\n\u001b[0;32m---> 12\u001b[0;31m \u001b[0mprint\u001b[0m\u001b[0;34m(\u001b[0m\u001b[0;34m\"The prime numbers between 1 and 100 are:\"\u001b[0m\u001b[0;34m,\u001b[0m \u001b[0mprimes\u001b[0m\u001b[0;34m(\u001b[0m\u001b[0;36m100\u001b[0m\u001b[0;34m)\u001b[0m\u001b[0;34m)\u001b[0m\u001b[0;34m\u001b[0m\u001b[0;34m\u001b[0m\u001b[0m\n\u001b[0m",
            "\u001b[0;32m/tmp/ipython-input-3161366014.py\u001b[0m in \u001b[0;36mprimes\u001b[0;34m(upto)\u001b[0m\n\u001b[1;32m      5\u001b[0m \u001b[0;32mdef\u001b[0m \u001b[0mprimes\u001b[0m\u001b[0;34m(\u001b[0m\u001b[0mupto\u001b[0m\u001b[0;34m)\u001b[0m\u001b[0;34m:\u001b[0m\u001b[0;34m\u001b[0m\u001b[0;34m\u001b[0m\u001b[0m\n\u001b[1;32m      6\u001b[0m     \u001b[0mprimes\u001b[0m \u001b[0;34m=\u001b[0m \u001b[0mnumpy\u001b[0m\u001b[0;34m.\u001b[0m\u001b[0marange\u001b[0m\u001b[0;34m(\u001b[0m\u001b[0;36m3\u001b[0m\u001b[0;34m,\u001b[0m\u001b[0mupto\u001b[0m\u001b[0;34m+\u001b[0m\u001b[0;36m1\u001b[0m\u001b[0;34m,\u001b[0m\u001b[0;36m2\u001b[0m\u001b[0;34m)\u001b[0m\u001b[0;34m\u001b[0m\u001b[0;34m\u001b[0m\u001b[0m\n\u001b[0;32m----> 7\u001b[0;31m     \u001b[0misprime\u001b[0m \u001b[0;34m=\u001b[0m \u001b[0mnumpy\u001b[0m\u001b[0;34m.\u001b[0m\u001b[0mones\u001b[0m\u001b[0;34m(\u001b[0m\u001b[0;34m(\u001b[0m\u001b[0mupto\u001b[0m\u001b[0;34m-\u001b[0m\u001b[0;36m1\u001b[0m\u001b[0;34m)\u001b[0m\u001b[0;34m/\u001b[0m\u001b[0;36m2\u001b[0m\u001b[0;34m,\u001b[0m\u001b[0mdtype\u001b[0m\u001b[0;34m=\u001b[0m\u001b[0mbool\u001b[0m\u001b[0;34m)\u001b[0m\u001b[0;34m\u001b[0m\u001b[0;34m\u001b[0m\u001b[0m\n\u001b[0m\u001b[1;32m      8\u001b[0m     \u001b[0;32mfor\u001b[0m \u001b[0mfactor\u001b[0m \u001b[0;32min\u001b[0m \u001b[0mprimes\u001b[0m\u001b[0;34m[\u001b[0m\u001b[0;34m:\u001b[0m\u001b[0mint\u001b[0m\u001b[0;34m(\u001b[0m\u001b[0mmath\u001b[0m\u001b[0;34m.\u001b[0m\u001b[0msqrt\u001b[0m\u001b[0;34m(\u001b[0m\u001b[0mupto\u001b[0m\u001b[0;34m)\u001b[0m\u001b[0;34m)\u001b[0m\u001b[0;34m]\u001b[0m\u001b[0;34m:\u001b[0m\u001b[0;34m\u001b[0m\u001b[0;34m\u001b[0m\u001b[0m\n\u001b[1;32m      9\u001b[0m         \u001b[0;32mif\u001b[0m \u001b[0misprime\u001b[0m\u001b[0;34m[\u001b[0m\u001b[0;34m(\u001b[0m\u001b[0mfactor\u001b[0m\u001b[0;34m-\u001b[0m\u001b[0;36m2\u001b[0m\u001b[0;34m)\u001b[0m\u001b[0;34m/\u001b[0m\u001b[0;36m2\u001b[0m\u001b[0;34m]\u001b[0m\u001b[0;34m:\u001b[0m \u001b[0misprime\u001b[0m\u001b[0;34m[\u001b[0m\u001b[0;34m(\u001b[0m\u001b[0mfactor\u001b[0m\u001b[0;34m*\u001b[0m\u001b[0;36m3\u001b[0m\u001b[0;34m-\u001b[0m\u001b[0;36m2\u001b[0m\u001b[0;34m)\u001b[0m\u001b[0;34m/\u001b[0m\u001b[0;36m2\u001b[0m\u001b[0;34m:\u001b[0m\u001b[0;34m:\u001b[0m\u001b[0mfactor\u001b[0m\u001b[0;34m]\u001b[0m\u001b[0;34m=\u001b[0m\u001b[0;36m0\u001b[0m\u001b[0;34m\u001b[0m\u001b[0;34m\u001b[0m\u001b[0m\n",
            "\u001b[0;32m/usr/local/lib/python3.12/dist-packages/numpy/_core/numeric.py\u001b[0m in \u001b[0;36mones\u001b[0;34m(shape, dtype, order, device, like)\u001b[0m\n\u001b[1;32m    202\u001b[0m         )\n\u001b[1;32m    203\u001b[0m \u001b[0;34m\u001b[0m\u001b[0m\n\u001b[0;32m--> 204\u001b[0;31m     \u001b[0ma\u001b[0m \u001b[0;34m=\u001b[0m \u001b[0mempty\u001b[0m\u001b[0;34m(\u001b[0m\u001b[0mshape\u001b[0m\u001b[0;34m,\u001b[0m \u001b[0mdtype\u001b[0m\u001b[0;34m,\u001b[0m \u001b[0morder\u001b[0m\u001b[0;34m,\u001b[0m \u001b[0mdevice\u001b[0m\u001b[0;34m=\u001b[0m\u001b[0mdevice\u001b[0m\u001b[0;34m)\u001b[0m\u001b[0;34m\u001b[0m\u001b[0;34m\u001b[0m\u001b[0m\n\u001b[0m\u001b[1;32m    205\u001b[0m     \u001b[0mmultiarray\u001b[0m\u001b[0;34m.\u001b[0m\u001b[0mcopyto\u001b[0m\u001b[0;34m(\u001b[0m\u001b[0ma\u001b[0m\u001b[0;34m,\u001b[0m \u001b[0;36m1\u001b[0m\u001b[0;34m,\u001b[0m \u001b[0mcasting\u001b[0m\u001b[0;34m=\u001b[0m\u001b[0;34m'unsafe'\u001b[0m\u001b[0;34m)\u001b[0m\u001b[0;34m\u001b[0m\u001b[0;34m\u001b[0m\u001b[0m\n\u001b[1;32m    206\u001b[0m     \u001b[0;32mreturn\u001b[0m \u001b[0ma\u001b[0m\u001b[0;34m\u001b[0m\u001b[0;34m\u001b[0m\u001b[0m\n",
            "\u001b[0;31mTypeError\u001b[0m: expected a sequence of integers or a single integer, got '49.5'"
          ]
        }
      ],
      "metadata": {
        "colab": {
          "base_uri": "https://localhost:8080/",
          "height": 321
        },
        "id": "g7Grl0QM1_Nc",
        "outputId": "32da911a-0527-4c05-d91f-fdb98c859dd7"
      },
      "execution_count": 13
    },
    {
      "cell_type": "markdown",
      "source": [
        "**6.** Write a program that calculates the factorial of a given number."
      ],
      "metadata": {
        "id": "J7FgNzK21_Nd"
      }
    },
    {
      "cell_type": "code",
      "source": [
        "#! /usr/bin/python\n",
        "N = 5\n",
        "#Factorial function\n",
        "def factorial(N):\n",
        "    if N==1:\n",
        "        return 1\n",
        "    else:\n",
        "        return N*factorial(N-1)\n",
        "\n",
        "print(\"The factorial of %d is %d\"%(N, factorial(N)))"
      ],
      "outputs": [
        {
          "output_type": "stream",
          "name": "stdout",
          "text": [
            "The factorial of 5 is 120\n"
          ]
        }
      ],
      "metadata": {
        "colab": {
          "base_uri": "https://localhost:8080/"
        },
        "id": "2c9_Rimk1_Nd",
        "outputId": "61e4c8ac-ee80-43e8-963b-82cb3b8dbced"
      },
      "execution_count": 14
    },
    {
      "cell_type": "markdown",
      "source": [
        "**7.** Write a program that evaluates the $\\cos(x)\\ \\ $ function by using the Taylor expansion using $2$, $5$ and $10$ terms.\n",
        "\n",
        "$$\\cos(x) = \\sum_{n=0}^\\infty \\frac{(-1)^n}{(2n!)}x^{2n}\\ \\ \\ $$ for all $$x$$"
      ],
      "metadata": {
        "id": "GIC5HKT41_Ne"
      }
    },
    {
      "cell_type": "code",
      "source": [
        "#! /usr/bin/python\n",
        "from __future__ import division\n",
        "import math\n",
        "\n",
        "#Number of terms\n",
        "N = [2,5,10]\n",
        "x = 1.5\n",
        "\n",
        "#Taylor expansion of cos(x)\n",
        "def taylor_cos( x, N ):\n",
        "    term = lambda x,n: (-1)**n/(math.factorial(2*n))*x**(2*n)\n",
        "    return np.sum( [term(x,n) for n in range(0,N)] )\n",
        "\n",
        "for n in N:\n",
        "    print(\"Taylor expansion of cos(%1.2f) for %d terms: %1.6f\"%( x, n, taylor_cos(x,n) ))\n",
        "print( \"Exact value of cos(%1.2f): %1.6f\"%( x, math.cos(x) ))"
      ],
      "outputs": [
        {
          "output_type": "stream",
          "name": "stdout",
          "text": [
            "Taylor expansion of cos(1.50) for 2 terms: -0.125000\n",
            "Taylor expansion of cos(1.50) for 5 terms: 0.070753\n",
            "Taylor expansion of cos(1.50) for 10 terms: 0.070737\n",
            "Exact value of cos(1.50): 0.070737\n"
          ]
        }
      ],
      "metadata": {
        "colab": {
          "base_uri": "https://localhost:8080/"
        },
        "id": "tjkOyaTU1_Ne",
        "outputId": "72d0d1aa-41f1-44db-f41e-6bbdb04256da"
      },
      "execution_count": 15
    },
    {
      "cell_type": "markdown",
      "source": [
        "**8.** Write a program that calculates $\\pi$ by using the next approximations:\n",
        "\n",
        "$$\\frac{2}{\\pi} = \\frac{\\sqrt{2}}{2}\\times \\frac{\\sqrt{2+\\sqrt{2}}}{2}\\times \\frac{\\sqrt{2+\\sqrt{2+\\sqrt{2}}}}{2}\\times \\cdots $$\n",
        "\n",
        "and\n",
        "\n",
        "$$\\frac{\\pi}{4} = 1 - \\frac{1}{3} + \\frac{1}{5} - \\frac{1}{7} + \\frac{1}{9} - \\frac{1}{11} + \\cdots$$\n",
        "\n",
        "Which approximation takes less terms for achieving a good accuracy?"
      ],
      "metadata": {
        "id": "MN_3CybO1_Nf"
      }
    },
    {
      "cell_type": "markdown",
      "source": [
        "- - -"
      ],
      "metadata": {
        "id": "NVknKhvA1_Ng"
      }
    }
  ],
  "metadata": {
    "colab": {
      "provenance": [],
      "include_colab_link": true
    },
    "language_info": {
      "name": "python"
    },
    "kernelspec": {
      "name": "python3",
      "display_name": "Python 3"
    }
  }
}