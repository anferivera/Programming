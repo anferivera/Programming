{
  "cells": [
    {
      "cell_type": "markdown",
      "metadata": {
        "id": "view-in-github",
        "colab_type": "text"
      },
      "source": [
        "<a href=\"https://colab.research.google.com/github/anferivera/Programming/blob/main/2_1_computer_arithmetics_32_64_bits.ipynb\" target=\"_parent\"><img src=\"https://colab.research.google.com/assets/colab-badge.svg\" alt=\"Open In Colab\"/></a>"
      ]
    },
    {
      "cell_type": "markdown",
      "metadata": {
        "id": "XLCHqERF8y9C"
      },
      "source": [
        "# Computer Arithmetics and Round-off Methods\n",
        "\n",
        "Based in Diego Restrepo y Sebastian Bustamante notebooks. https://github.com/restrepo/ComputationalMethods"
      ]
    },
    {
      "cell_type": "markdown",
      "metadata": {
        "id": "HGo02T4w8y9I"
      },
      "source": [
        "In the ideal mathematical world, operations like $1+2=3$, $4\\times 3 = 12$, $(\\sqrt{2})^2 = 2$ are unambiguously defined, however, when one is representing numbers in a computer, this is no longer true. The main reason of this is the so-called *finite arithmetic*, what is the way in which a computer performs basic operations. Some features of *finite arithmetic* are stated below:\n",
        "\n",
        "- Only integer and rational numbers can be exactly represented.\n",
        "- The elements of the set in which arithmetic is performed is necessarily finite.\n",
        "- Any arithmetic operation between two or more numbers of this set should be another element of the set.\n",
        "- Non-representable numbers like irrational numbers are approximated to the closest rational number within the defined set.\n",
        "- **Extremely large numbers produce overflows and extremely small numbers produce underflows, which are taken as null.**\n",
        "- Operations over non-representable numbers are not exact.\n",
        "\n",
        "In spite of this, defining adequately the set of elements in which our computer will operate, round-off methods can be systematically neglected, yielding correct results within reasonable error margins. In some pathological cases, when massive iterations are required, these errors must be taken into account more seriously.\n",
        "\n"
      ]
    },
    {
      "cell_type": "markdown",
      "source": [
        "1. IA: La **precisión de una computadora** se refiere a la cantidad de dígitos con los que se efectúan las operaciones aritméticas, lo cual está determinado por la longitud de palabra del procesador. En otras palabras, indica cuántos **bits** se usan para representar un valor numérico. Cuantos más bits se utilicen, mayor será la precisión y, por lo tanto, la capacidad de representar números con mayor exactitud.\n",
        "\n",
        "2. **Precisión de punto flotante:**\n",
        "En la mayoría de las computadoras, la precisión se mide en términos de punto flotante, donde los números se representan con un signo, una mantisa (los dígitos significativos) y un exponente.\n",
        "\n",
        "3. **Tipos de precisión:** Se puede distinguir entre **precisión simple (32 bits)** y precisión **doble (64 bits)**. La precisión doble ofrece mayor precisión y rango, lo que la hace más adecuada para cálculos científicos y matemáticos complejos.\n",
        "\n",
        "4. **Precisión y errores de redondeo:**\n",
        "Debido a que las computadoras utilizan una representación finita de los números, algunos cálculos pueden generar errores de redondeo. Estos errores pueden acumularse a lo largo de cálculos más largos, lo que afecta la precisión final del resultado. Luego se verá en detalle..."
      ],
      "metadata": {
        "id": "kEqIl-064eU2"
      }
    },
    {
      "cell_type": "code",
      "execution_count": 35,
      "metadata": {
        "id": "qICjrMAk8y9I"
      },
      "outputs": [],
      "source": [
        "import numpy as np"
      ]
    },
    {
      "cell_type": "markdown",
      "metadata": {
        "id": "KGYb8w268y9K"
      },
      "source": [
        "# Binary machine numbers    "
      ]
    },
    {
      "cell_type": "markdown",
      "metadata": {
        "id": "tQfuGMkq8y9K"
      },
      "source": [
        "As everyone knows, the base of the modern computation is the binary numbers. The binary base or base-2 numeral system is the simplest one among the existing numeral bases. As every electronic devices are based on logic circuits (circuits operating with [logic gates](#LogicGates)), the implementation of a binary base is straightforward, besides, any other numeral system can be reduced to a binary representation.\n",
        "\n",
        "![LogicGates](http://www.ee.surrey.ac.uk/Projects/CAL/digital-logic/gatesfunc/graphics/symtab.gif)\n",
        "\n",
        "According to the standard [IEEE 754-2008](http://en.wikipedia.org/wiki/IEEE_floating_point), representation of real numbers can be done in several ways, [single-precision](http://en.wikipedia.org/wiki/Single-precision_floating-point_format) and [double precision](http://en.wikipedia.org/wiki/Double-precision_floating-point_format) are the most used ones."
      ]
    },
    {
      "cell_type": "markdown",
      "metadata": {
        "id": "NYAKm3oz8y9K"
      },
      "source": [
        "## Single-precision numbers"
      ]
    },
    {
      "cell_type": "markdown",
      "source": [
        "https://en.wikipedia.org/wiki/Single-precision_floating-point_format"
      ],
      "metadata": {
        "id": "eYFQw3W7WUHI"
      }
    },
    {
      "cell_type": "markdown",
      "metadata": {
        "id": "m5LoaElC8y9L"
      },
      "source": [
        "Single-precision numbers are used when one does not need very accurate results and/or need to save memory. These numbers are represented by a **32-bits** (Binary digit) lenght binary number, where the real number is stored following the next rules:\n",
        "\n",
        "![32-bits](http://upload.wikimedia.org/wikipedia/commons/thumb/d/d2/Float_example.svg/590px-Float_example.svg.png)\n",
        "\n",
        "1. The fist digit (called *s*) indicates the sign of the number (s=0 means a positive number, s=1 a negative one).\n",
        "2. The next 8 bits represent the exponent of the number.\n",
        "3. The last 23 bits represent the fractional part of the number.\n",
        "\n",
        "The formula for recovering the real number is then given by:\n",
        "\n",
        "$$r = (-1)^s\\times \\left( 1 + \\sum_{i=1}^{23}b_{23-i}2^{-i} \\right)\\times 2^{e-127}$$\n",
        "\n",
        "where $s$ is the sign, $b_{23-i}$ the fraction bits and $e$ is given by:\n",
        "\n",
        "$$e = \\sum_{i=0}^7 b_{23+i}2^i$$\n",
        "\n",
        "Next, it is shown a little routine for calculating the value of the represented 32-bits number"
      ]
    },
    {
      "cell_type": "code",
      "execution_count": 36,
      "metadata": {
        "id": "mYMoUjKz8y9L"
      },
      "outputs": [],
      "source": [
        "def number32( binary ):\n",
        "    #Inverting binary string\n",
        "    binary = binary[::-1]\n",
        "    #Decimal part\n",
        "    dec = 1\n",
        "    for i in range(1,24):\n",
        "        dec += int(binary[23-i])*2**-i\n",
        "    #Exponent part\n",
        "    exp = 0\n",
        "    for i in range(0,8):\n",
        "        exp += int(binary[23+i])*2**i\n",
        "    #Total number\n",
        "    number = (-1)**int(binary[31])*2**(exp-127)*dec\n",
        "    return number"
      ]
    },
    {
      "cell_type": "code",
      "execution_count": 40,
      "metadata": {
        "colab": {
          "base_uri": "https://localhost:8080/"
        },
        "id": "w4FfESvz8y9L",
        "outputId": "1a976fdb-4070-446a-c8bc-6cfc7f69091d"
      },
      "outputs": [
        {
          "output_type": "execute_result",
          "data": {
            "text/plain": [
              "0.15625"
            ]
          },
          "metadata": {},
          "execution_count": 40
        }
      ],
      "source": [
        "#Check\n",
        "number32( \"00111110001000000000000000000000\" )"
      ]
    },
    {
      "cell_type": "markdown",
      "source": [
        "Please, see examples in wiki. In particular, how to convert a decimal number to binary number in this IEEE 754 binary format."
      ],
      "metadata": {
        "id": "za3d6oDwWggX"
      }
    },
    {
      "cell_type": "code",
      "source": [
        "number32( \"01000001010001100000000000000000\")"
      ],
      "metadata": {
        "colab": {
          "base_uri": "https://localhost:8080/"
        },
        "id": "QKs6qOEQFpuq",
        "outputId": "4905db74-6125-4545-94ff-31e69290b9f5"
      },
      "execution_count": 41,
      "outputs": [
        {
          "output_type": "execute_result",
          "data": {
            "text/plain": [
              "12.375"
            ]
          },
          "metadata": {},
          "execution_count": 41
        }
      ]
    },
    {
      "cell_type": "code",
      "source": [
        "number32( \"00111111100000000000000000000000\" )"
      ],
      "metadata": {
        "colab": {
          "base_uri": "https://localhost:8080/"
        },
        "id": "amLIe_rDJPmO",
        "outputId": "dbbd7ead-5dd3-4bae-d745-9b763de68295"
      },
      "execution_count": 42,
      "outputs": [
        {
          "output_type": "execute_result",
          "data": {
            "text/plain": [
              "1.0"
            ]
          },
          "metadata": {},
          "execution_count": 42
        }
      ]
    },
    {
      "cell_type": "markdown",
      "source": [
        "## **Example:** Understand how it works. https://es.wikipedia.org/wiki/Sistema_binario\n",
        "\n",
        "Write 16 in this format:\n",
        "\n",
        "1. First, You have to learn how to write a binary number using the division by 2.\n",
        "2. Later, you have to do the next process:\n",
        "\n",
        "\\begin{equation}\n",
        "(16)_{10} = (10000)_2 = (1.0)_2\\times 2^4 = (1.0)_2\\times 2^{(131-127)}\n",
        "\\end{equation}\n",
        "\n",
        "In this case, $e=(131)_{10}=(10000011)_2$.\n",
        "\n",
        "Therefore the number is: 0-10000011-00000000000000000000000\n",
        "\n",
        "NOte: you write the conciente a later all the residuos"
      ],
      "metadata": {
        "id": "TKyR-nH4YzDS"
      }
    },
    {
      "cell_type": "code",
      "source": [
        "number32( \"01000001100000000000000000000000\" )"
      ],
      "metadata": {
        "colab": {
          "base_uri": "https://localhost:8080/"
        },
        "id": "LZt6KmfCGKms",
        "outputId": "9aac0248-a6c3-439d-961e-3f38f2b1261d"
      },
      "execution_count": 46,
      "outputs": [
        {
          "output_type": "execute_result",
          "data": {
            "text/plain": [
              "16.0"
            ]
          },
          "metadata": {},
          "execution_count": 46
        }
      ]
    },
    {
      "cell_type": "code",
      "source": [],
      "metadata": {
        "id": "fLIzv1JXlV0y"
      },
      "execution_count": null,
      "outputs": []
    },
    {
      "cell_type": "code",
      "source": [],
      "metadata": {
        "id": "itCduyoIlVhk"
      },
      "execution_count": null,
      "outputs": []
    },
    {
      "cell_type": "code",
      "source": [
        "number32( \"01000001100010000000000000000000\" )"
      ],
      "metadata": {
        "colab": {
          "base_uri": "https://localhost:8080/"
        },
        "id": "jsWpNZsUV0zW",
        "outputId": "e494352e-b275-4170-8d10-29dc24c35715"
      },
      "execution_count": null,
      "outputs": [
        {
          "output_type": "execute_result",
          "data": {
            "text/plain": [
              "17.0"
            ]
          },
          "metadata": {},
          "execution_count": 34
        }
      ]
    },
    {
      "cell_type": "code",
      "source": [
        "#Checck how to invert\n",
        "a = \"0011102\"\n",
        "b = [a]\n",
        "type(b)"
      ],
      "metadata": {
        "colab": {
          "base_uri": "https://localhost:8080/"
        },
        "id": "s3pH75b4CmfP",
        "outputId": "19707af5-69b3-4fad-867c-0f95aae2cd7c"
      },
      "execution_count": null,
      "outputs": [
        {
          "output_type": "execute_result",
          "data": {
            "text/plain": [
              "list"
            ]
          },
          "metadata": {},
          "execution_count": 17
        }
      ]
    },
    {
      "cell_type": "code",
      "source": [
        "a[::-1]"
      ],
      "metadata": {
        "colab": {
          "base_uri": "https://localhost:8080/",
          "height": 36
        },
        "id": "j5uSaJXIDVIZ",
        "outputId": "87026b1c-5f9e-4ca5-fc06-7b01f301c745"
      },
      "execution_count": null,
      "outputs": [
        {
          "output_type": "execute_result",
          "data": {
            "text/plain": [
              "'2011100'"
            ],
            "application/vnd.google.colaboratory.intrinsic+json": {
              "type": "string"
            }
          },
          "metadata": {},
          "execution_count": 18
        }
      ]
    },
    {
      "cell_type": "markdown",
      "source": [
        "https://codelearn.es/blog/que-es-el-sistema-binario/#:~:text=El%20sistema%20binario%2C%20popularmente%20conocido,el%200%20y%20el%201.\n"
      ],
      "metadata": {
        "id": "ZbMsR1sZIybD"
      }
    },
    {
      "cell_type": "markdown",
      "metadata": {
        "id": "uYAV1Znu8y9M"
      },
      "source": [
        "Single-precision system can represent real numbers within the interval $\\pm 10^{-38} \\cdots 10^{38}$, with **7- 8 decimal digits**."
      ]
    },
    {
      "cell_type": "code",
      "execution_count": 47,
      "metadata": {
        "colab": {
          "base_uri": "https://localhost:8080/"
        },
        "id": "bDtfskfa8y9M",
        "outputId": "53fff75a-9eda-4c63-bafb-4c76e804b775"
      },
      "outputs": [
        {
          "output_type": "stream",
          "name": "stdout",
          "text": [
            "\n",
            "\n",
            "Decimal digits contributions for single precision number\n",
            "1.1920928955078125e-07 3.0517578125e-05 0.03125 \n",
            "\n",
            "Largest and smallest exponent for single precision number\n",
            "3.402823669209385e+38 5.877471754111438e-39 \n",
            "\n"
          ]
        }
      ],
      "source": [
        "#Decimal digits\n",
        "print(\"\\n\")\n",
        "print(\"Decimal digits contributions for single precision number\")\n",
        "print(2**-23., 2**-15., 2**-5. , \"\\n\")\n",
        "\n",
        "#Largest and smallest exponent\n",
        "suma = 0\n",
        "for i in range(0,8):\n",
        "    suma += 2**i\n",
        "print(\"Largest and smallest exponent for single precision number\"    )\n",
        "print(2**(suma-127.), 2**(-127.),\"\\n\")"
      ]
    },
    {
      "cell_type": "code",
      "source": [
        "2/3"
      ],
      "metadata": {
        "colab": {
          "base_uri": "https://localhost:8080/"
        },
        "id": "9ME8H3hGNK7k",
        "outputId": "da2d9a01-6331-444c-d5a5-d0d634d8e20a"
      },
      "execution_count": 51,
      "outputs": [
        {
          "output_type": "execute_result",
          "data": {
            "text/plain": [
              "0.6666666666666666"
            ]
          },
          "metadata": {},
          "execution_count": 51
        }
      ]
    },
    {
      "cell_type": "markdown",
      "metadata": {
        "id": "9M75Io_p8y9M"
      },
      "source": [
        "## Double-precision numbers"
      ]
    },
    {
      "cell_type": "markdown",
      "metadata": {
        "id": "246hA_wE8y9M"
      },
      "source": [
        "Double-precision numbers are used when high accuracy is required. These numbers are represented by a **64-bits** (Binary digIT) lenght binary number, where the real number is stored following the next rules:\n",
        "\n",
        "![64-bits](http://upload.wikimedia.org/wikipedia/commons/thumb/a/a9/IEEE_754_Double_Floating_Point_Format.svg/618px-IEEE_754_Double_Floating_Point_Format.svg.png)\n",
        "\n",
        "1. The fist digit (called *s*) indicates the sign of the number (s=0 means a positive number, s=1 a negative one).\n",
        "2. The next 11 bits represent the exponent of the number.\n",
        "3. The last  bits represent the fractional part of the number.\n",
        "\n",
        "The formula for recovering the real number is then given by:\n",
        "\n",
        "$$r = (-1)^s\\times \\left( 1 + \\sum_{i=1}^{52}b_{52-i}2^{-i} \\right)\\times 2^{e-1023}$$\n",
        "\n",
        "where $s$ is the sign, $b_{23-i}$ the fraction bits and $e$ is given by:\n",
        "\n",
        "$$e = \\sum_{i=0}^{10} b_{52+i}2^i$$\n",
        "\n",
        "Double-precision system can represent real numbers within the interval $\\pm 10^{-308} \\cdots 10^{308}$, with **16-17 decimal digits**."
      ]
    },
    {
      "cell_type": "code",
      "source": [
        "2./3"
      ],
      "metadata": {
        "colab": {
          "base_uri": "https://localhost:8080/"
        },
        "id": "AgCCGqn5OF9_",
        "outputId": "f560b6c3-534c-4fa3-f29b-ef5a78305abf"
      },
      "execution_count": 52,
      "outputs": [
        {
          "output_type": "execute_result",
          "data": {
            "text/plain": [
              "0.6666666666666666"
            ]
          },
          "metadata": {},
          "execution_count": 52
        }
      ]
    },
    {
      "cell_type": "code",
      "source": [],
      "metadata": {
        "id": "jdkA3s1CngMK"
      },
      "execution_count": null,
      "outputs": []
    },
    {
      "cell_type": "markdown",
      "metadata": {
        "id": "JTWT9V0u8y9N"
      },
      "source": [
        "###**ACTIVITY**: Tarea opcional.\n",
        "\n",
        "**1.** Write a python script that calculates the double precision number represented by a 64-bits binary.\n",
        "\n",
        "    \n",
        "**2.** What is the number represented by:\n",
        "\n",
        "0 10000000011 1011100100001111111111111111111111111111111111111111\n",
        "\n",
        "<font color='white'>\n",
        "    **ANSWER:**  27.56640625"
      ]
    },
    {
      "cell_type": "code",
      "source": [
        "print('In 64 bits ', 2/3)\n",
        "\n",
        "print('In 32-bits',np.float32(2/3.))"
      ],
      "metadata": {
        "colab": {
          "base_uri": "https://localhost:8080/"
        },
        "id": "7g8jB4r0nzTS",
        "outputId": "83b37136-528c-4d2f-8d6e-60a244904786"
      },
      "execution_count": 55,
      "outputs": [
        {
          "output_type": "stream",
          "name": "stdout",
          "text": [
            "In 64 bits  0.6666666666666666\n",
            "In 32-bits 0.6666667\n"
          ]
        }
      ]
    },
    {
      "cell_type": "markdown",
      "metadata": {
        "id": "vhzGamRq8y9N"
      },
      "source": [
        "## Finite Arithmetic"
      ]
    },
    {
      "cell_type": "markdown",
      "metadata": {
        "id": "bRlmnq1d8y9N"
      },
      "source": [
        "The most basic arithmetic operations are addition and multiplication. Further operations such as subtraction, division and power are secondary as they can be reached by iteratively use the latter ones."
      ]
    },
    {
      "cell_type": "markdown",
      "metadata": {
        "id": "UXce-He08y9N"
      },
      "source": [
        "### Addition"
      ]
    },
    {
      "cell_type": "markdown",
      "metadata": {
        "id": "ulQrYiqs8y9N"
      },
      "source": [
        "As mentioned before, arithmetic operations are not exact in a computer due to the inherent limitations in number representing. Even when adding two already approximate numbers, say a single-precision couple of numbers, the result may not be a representable number, being necessary to apply approximation rules."
      ]
    },
    {
      "cell_type": "markdown",
      "source": [
        "$\\sum_{i=1}^{i=N}\\dfrac{1}{N}= \\dfrac{N}{N}=1$"
      ],
      "metadata": {
        "id": "-1OTFCuB_6w_"
      }
    },
    {
      "cell_type": "code",
      "source": [],
      "metadata": {
        "id": "UFPzA9x8Ow8Z"
      },
      "execution_count": null,
      "outputs": []
    },
    {
      "cell_type": "code",
      "execution_count": null,
      "metadata": {
        "scrolled": false,
        "id": "ei_NWeFd8y9N",
        "outputId": "af5fba16-707d-4f61-e0bf-a3fae270ad2b",
        "colab": {
          "base_uri": "https://localhost:8080/"
        }
      },
      "outputs": [
        {
          "output_type": "stream",
          "name": "stdout",
          "text": [
            "x= 1.001\n",
            "y= 1.0\n"
          ]
        }
      ],
      "source": [
        "N = 9\n",
        "x = 0\n",
        "y = 0\n",
        "for i in range(N):\n",
        "    x += np.float16(1.0/N)\n",
        "    y += np.float32(1.0/N)\n",
        "print('x=',x)\n",
        "print('y=',y)"
      ]
    },
    {
      "cell_type": "code",
      "source": [
        "y"
      ],
      "metadata": {
        "colab": {
          "base_uri": "https://localhost:8080/"
        },
        "id": "wU3UmjZKQXLj",
        "outputId": "2c4864ef-d72b-44e5-cb99-02f21e6ed354"
      },
      "execution_count": null,
      "outputs": [
        {
          "output_type": "execute_result",
          "data": {
            "text/plain": [
              "np.float32(1.0)"
            ]
          },
          "metadata": {},
          "execution_count": 24
        }
      ]
    },
    {
      "cell_type": "code",
      "source": [
        "N = 9\n",
        "z = 0\n",
        "for i in range(N):\n",
        "    z += 1.0/N\n",
        "print('with 64 bits','z=',z)"
      ],
      "metadata": {
        "colab": {
          "base_uri": "https://localhost:8080/"
        },
        "id": "Ry4s2khdi3Py",
        "outputId": "a80c3ef4-a108-4ba5-b07a-56aa989c6f56"
      },
      "execution_count": null,
      "outputs": [
        {
          "output_type": "stream",
          "name": "stdout",
          "text": [
            "with 64 bits z= 1.0000000000000002\n"
          ]
        }
      ]
    },
    {
      "cell_type": "code",
      "source": [
        "type(z)"
      ],
      "metadata": {
        "colab": {
          "base_uri": "https://localhost:8080/"
        },
        "id": "z7FkMhpvjNwz",
        "outputId": "19e57111-68ea-4742-e3e9-3a57b98cde83"
      },
      "execution_count": null,
      "outputs": [
        {
          "output_type": "execute_result",
          "data": {
            "text/plain": [
              "float"
            ]
          },
          "metadata": {},
          "execution_count": 22
        }
      ]
    },
    {
      "cell_type": "markdown",
      "metadata": {
        "id": "TJhk1nXy8y9N"
      },
      "source": [
        "Note that the sucessive application of rounded-off numbers produces a final result less precise.\n",
        "\n",
        "$\\dfrac{5}{7}+\\dfrac{1}{3}=\\dfrac{5\\times3+1\\times7}{21}=\\dfrac{22}{21}$"
      ]
    },
    {
      "cell_type": "code",
      "source": [
        "print(\"5/7=\", np.float32(5/7.))\n",
        "print(\"1/3=\", np.float32(1/3.),'\\n')\n",
        "print('**************')\n",
        "print(np.float32(5./7.+1./3.), 22./21.)\n",
        "\n",
        "#print(\"Error:\", np.float16(5/7.+1/3.)-22/21.)\n",
        "k = np.float32(5./7.+1/3.) - 22./21.\n",
        "#print('Error:','%.7f'% k)"
      ],
      "metadata": {
        "colab": {
          "base_uri": "https://localhost:8080/"
        },
        "id": "OC1eOENYbpi-",
        "outputId": "88bba6eb-22be-41c3-b005-b46735538448"
      },
      "execution_count": null,
      "outputs": [
        {
          "output_type": "stream",
          "name": "stdout",
          "text": [
            "5/7= 0.71428573\n",
            "1/3= 0.33333334 \n",
            "\n",
            "**************\n",
            "1.0476191 1.0476190476190477\n"
          ]
        }
      ]
    },
    {
      "cell_type": "markdown",
      "source": [
        "The final result has an error at the **seven** decimal digit."
      ],
      "metadata": {
        "id": "LcOTlajEeyjq"
      }
    },
    {
      "cell_type": "markdown",
      "metadata": {
        "id": "u65Qr1OL8y9O"
      },
      "source": [
        "Although the **float16** or half-float precision is standard according to the IEEE 754-2008, many devices do not support it well."
      ]
    },
    {
      "cell_type": "markdown",
      "metadata": {
        "id": "Iskhjppf8y9O"
      },
      "source": [
        "### Multiplication"
      ]
    },
    {
      "cell_type": "markdown",
      "metadata": {
        "id": "ro7hHD9B8y9O"
      },
      "source": [
        "For multiplication it is applied the same round-off rules as the addition, however, be aware that multiplicative errors propagate more quickly than additive errors."
      ]
    },
    {
      "cell_type": "markdown",
      "source": [
        "$\\prod_{i=1}^{N=20} 2^{(1/20)}=2$"
      ],
      "metadata": {
        "id": "UpTiHfODd3cQ"
      }
    },
    {
      "cell_type": "code",
      "source": [
        "N = 20\n",
        "x = 1\n",
        "for i in range(N):\n",
        "    x *= np.float16(2.0**(1.0/N))\n",
        "\n",
        "print(x)\n",
        "print('%.8f'% x)"
      ],
      "metadata": {
        "colab": {
          "base_uri": "https://localhost:8080/"
        },
        "id": "j_CMOfWpFVFV",
        "outputId": "08f41cb0-d48a-4f9f-d950-8021aaf733ba"
      },
      "execution_count": null,
      "outputs": [
        {
          "output_type": "stream",
          "name": "stdout",
          "text": [
            "1.994\n",
            "1.99414062\n"
          ]
        }
      ]
    },
    {
      "cell_type": "code",
      "source": [
        "N = 20\n",
        "x = 1\n",
        "for i in range(N):\n",
        "    x *= np.float32(2.0**(1.0/N))\n",
        "print(x)\n",
        "print('%.8f'% x)"
      ],
      "metadata": {
        "colab": {
          "base_uri": "https://localhost:8080/"
        },
        "id": "vQ8NceNkdO_E",
        "outputId": "2f26e060-e33a-43a6-8c14-d466d9fc66f9"
      },
      "execution_count": null,
      "outputs": [
        {
          "output_type": "stream",
          "name": "stdout",
          "text": [
            "2.0000017\n",
            "2.00000167\n"
          ]
        }
      ]
    },
    {
      "cell_type": "code",
      "source": [
        "N = 20\n",
        "x = 1\n",
        "for i in range(N):\n",
        "    x *= (2.0**(1.0/N))\n",
        "print(x)"
      ],
      "metadata": {
        "colab": {
          "base_uri": "https://localhost:8080/"
        },
        "id": "Z_sjG259IzJX",
        "outputId": "18c844e8-5307-4915-8213-6d3048b8eaeb"
      },
      "execution_count": null,
      "outputs": [
        {
          "output_type": "stream",
          "name": "stdout",
          "text": [
            "2.000000000000003\n"
          ]
        }
      ]
    },
    {
      "cell_type": "code",
      "execution_count": null,
      "metadata": {
        "scrolled": true,
        "id": "UBYn8UJi8y9O",
        "outputId": "4117cef1-8033-4806-920d-8689cd83f871"
      },
      "outputs": [
        {
          "name": "stdout",
          "output_type": "stream",
          "text": [
            "1.99580530418 0.71436\n"
          ]
        }
      ],
      "source": [
        "#in python2\n",
        "N = 20\n",
        "x = 1\n",
        "for i in range(N):\n",
        "    x *= np.float16(2.0**(1.0/N))\n",
        "print(x, np.float16(5/7.))"
      ]
    },
    {
      "cell_type": "markdown",
      "metadata": {
        "id": "0PJ9cBp18y9P"
      },
      "source": [
        "The final result has an error at the **third** decimal digit, 4 more than the case of addition."
      ]
    },
    {
      "cell_type": "markdown",
      "metadata": {
        "id": "vKaF_QGI8y9P"
      },
      "source": [
        "**ACTIVITY**: Tarea opcional\n",
        "\n",
        "Find the error associated to the finite representation in the next operations\n",
        "\n",
        "\n",
        "\n",
        "$$\n",
        "x-u, \\frac{x-u}{w}, (x-u)*v, u+v\n",
        "$$\n",
        "\n",
        "considering the values\n",
        "\n",
        "$$\n",
        "x = \\frac{5}{7}, y = \\frac{1}{3}, u = 0.71425\n",
        "$$\n",
        "\n",
        "\n",
        "\n",
        "$$\n",
        "v = 0.98765\\times 10^5, w = 0.111111\\times 10^{-4}\n",
        "$$\n"
      ]
    },
    {
      "cell_type": "code",
      "source": [],
      "metadata": {
        "id": "oXD_rlUJF-Wk"
      },
      "execution_count": null,
      "outputs": []
    }
  ],
  "metadata": {
    "kernelspec": {
      "display_name": "Python 2",
      "language": "python",
      "name": "python2"
    },
    "language_info": {
      "codemirror_mode": {
        "name": "ipython",
        "version": 2
      },
      "file_extension": ".py",
      "mimetype": "text/x-python",
      "name": "python",
      "nbconvert_exporter": "python",
      "pygments_lexer": "ipython2",
      "version": "2.7.10"
    },
    "colab": {
      "provenance": [],
      "include_colab_link": true
    }
  },
  "nbformat": 4,
  "nbformat_minor": 0
}