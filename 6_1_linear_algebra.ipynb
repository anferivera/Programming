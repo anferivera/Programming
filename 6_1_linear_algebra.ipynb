{
  "cells": [
    {
      "cell_type": "markdown",
      "metadata": {
        "id": "view-in-github",
        "colab_type": "text"
      },
      "source": [
        "<a href=\"https://colab.research.google.com/github/anferivera/Programming/blob/main/6_1_linear_algebra.ipynb\" target=\"_parent\"><img src=\"https://colab.research.google.com/assets/colab-badge.svg\" alt=\"Open In Colab\"/></a>"
      ]
    },
    {
      "cell_type": "markdown",
      "metadata": {
        "id": "wNc9QP1rZeic"
      },
      "source": [
        "# Linear Algebra\n",
        "\n",
        "based in Diego Restrepo notebooks. https://github.com/restrepo/ComputationalMethods"
      ]
    },
    {
      "cell_type": "markdown",
      "metadata": {
        "id": "fhswjPcoZeii"
      },
      "source": [
        "Linear Algebra is a discipline where vector spaces and linear mapping between them are studied. In physics and astronomy, several phenomena can be readily written in terms of linear variables, what makes Computational Linear Algebra a very important topic to be covered throughout this course. We shall cover linear systems of equations, techniques for calculating inverses and determinants and factorization methods.\n",
        "\n",
        "An interesting fact of Computational Linear Algebra is that it does not comprises numerical approaches as most of the methods are exact. The usage of a computer is then necessary because of the large number of calculations rather than the non-soluble nature of the problems. Numerical errors come then from round-off approximations.\n",
        "\n",
        "See: http://pages.cs.wisc.edu/~amos/412/lecture-notes/lecture14.pdf"
      ]
    },
    {
      "cell_type": "code",
      "execution_count": 1,
      "metadata": {
        "colab": {
          "base_uri": "https://localhost:8080/"
        },
        "id": "zHeRbVNLZein",
        "outputId": "0e21481b-8f59-48ed-dd94-4274297bada3"
      },
      "outputs": [
        {
          "output_type": "stream",
          "name": "stdout",
          "text": [
            "Populating the interactive namespace from numpy and matplotlib\n"
          ]
        }
      ],
      "source": [
        "from IPython.display import HTML, Markdown, YouTubeVideo,Latex\n",
        "%pylab inline\n",
        "\n",
        "import numpy as np\n",
        "import matplotlib.pyplot as plt\n",
        "from matplotlib import animation\n",
        "#Interpolation add-on\n",
        "import scipy.interpolate as interp\n",
        "xrange=range\n",
        "\n",
        "import sympy"
      ]
    },
    {
      "cell_type": "markdown",
      "metadata": {
        "id": "cGblhY5cjkkn"
      },
      "source": [
        "https://stackoverflow.com/a/50748163"
      ]
    },
    {
      "cell_type": "markdown",
      "metadata": {
        "id": "RBJnj7gMZei1"
      },
      "source": [
        "- - -"
      ]
    },
    {
      "cell_type": "markdown",
      "metadata": {
        "id": "6jt5J-u-ZejE",
        "tags": []
      },
      "source": [
        "## Matrices in Python"
      ]
    },
    {
      "cell_type": "markdown",
      "metadata": {
        "id": "0UZDvo9VZejG"
      },
      "source": [
        "One of the most useful advantages of high level languages like Python, is the manipulation of complex objects like matrices and vectors. For this part we are going to use advanced capabilities for handling matrices, provided by the library NumPy.\n",
        "\n",
        "NumPy, besides the extreme useful NumPy array objects, which are like tensors of any rank, also provides the Matrix objects that are overloaded with proper matrix operations."
      ]
    },
    {
      "cell_type": "markdown",
      "metadata": {
        "id": "w8DLYq-ml5I0"
      },
      "source": [
        "### Numpy arrays"
      ]
    },
    {
      "cell_type": "markdown",
      "metadata": {
        "id": "YkxB-Ahzl5I0"
      },
      "source": [
        "* A matrix can be represented by an array of two indices"
      ]
    },
    {
      "cell_type": "code",
      "execution_count": null,
      "metadata": {
        "colab": {
          "base_uri": "https://localhost:8080/"
        },
        "id": "5f_bgxEXZejI",
        "outputId": "b12afac2-ff7a-4824-c199-38964f5ff24b"
      },
      "outputs": [
        {
          "output_type": "stream",
          "name": "stdout",
          "text": [
            "M1=\n",
            " [[ 5 -4  0]\n",
            " [-4  7 -3]\n",
            " [ 0 -3  5]] with shape= (3, 3) \n",
            "\n",
            " [[ 3 -2  1]\n",
            " [-1  5  4]\n",
            " [ 1 -2  3]]\n"
          ]
        }
      ],
      "source": [
        "#NumPy Arrays\n",
        "M1 = np.array( [[ 5 ,-4, 0],\n",
        "                [-4 , 7,-3],\n",
        "                [ 0 ,-3, 5]] )\n",
        "\n",
        "M2 = np.array( [[3,-2,1],[-1,5,4],[1,-2,3]] )\n",
        "\n",
        "#print( f'M1=\\n{M1}, with shape={M1.shape},\\n\\nM2=\\n{M2}' )\n",
        "print( 'M1=\\n',M1, 'with shape=',M1.shape, '\\n\\n', M2 )"
      ]
    },
    {
      "cell_type": "markdown",
      "metadata": {
        "id": "aME23W_3l5I2"
      },
      "source": [
        "Note tha the previous definitions correspond to integer arrays.\n",
        "\n",
        "__WARNING__: Be careful with integer arrays. In the next example, a single float entry convert the full matrix from an integer array to a float array:"
      ]
    },
    {
      "cell_type": "code",
      "execution_count": null,
      "metadata": {
        "id": "Sprtn_aHl5I2",
        "outputId": "b25cd507-f094-4db9-a21b-e28d847118b7",
        "colab": {
          "base_uri": "https://localhost:8080/"
        }
      },
      "outputs": [
        {
          "output_type": "execute_result",
          "data": {
            "text/plain": [
              "array([ 5, -4,  0])"
            ]
          },
          "metadata": {},
          "execution_count": 167
        }
      ],
      "source": [
        "M1[0]"
      ]
    },
    {
      "cell_type": "markdown",
      "metadata": {
        "id": "eVj_NgBWl5I2"
      },
      "source": [
        "float"
      ]
    },
    {
      "cell_type": "code",
      "execution_count": null,
      "metadata": {
        "id": "wTBgc5j3l5I3",
        "outputId": "630a3aad-2bdd-4f9c-b68e-7f9e23a373ab",
        "colab": {
          "base_uri": "https://localhost:8080/"
        }
      },
      "outputs": [
        {
          "output_type": "execute_result",
          "data": {
            "text/plain": [
              "array([[ 5., -4.,  0.],\n",
              "       [-4.,  7., -3.],\n",
              "       [ 0., -3.,  5.]])"
            ]
          },
          "metadata": {},
          "execution_count": 4
        }
      ],
      "source": [
        "np.array([[ 5, -4,  0],\n",
        "          [-4,  7, -3.],\n",
        "          [ 0, -3,  5]])"
      ]
    },
    {
      "cell_type": "code",
      "execution_count": null,
      "metadata": {
        "id": "a9MjgNgLl5I3",
        "outputId": "a0f892e8-7cfb-4575-98ef-05af44a65ec8",
        "colab": {
          "base_uri": "https://localhost:8080/"
        }
      },
      "outputs": [
        {
          "output_type": "execute_result",
          "data": {
            "text/plain": [
              "array([[ 1.66666667, -1.33333333,  0.        ],\n",
              "       [-1.33333333,  2.33333333, -1.        ],\n",
              "       [ 0.        , -1.        ,  1.66666667]])"
            ]
          },
          "metadata": {},
          "execution_count": 7
        }
      ],
      "source": [
        "M1/3"
      ]
    },
    {
      "cell_type": "markdown",
      "metadata": {
        "id": "tfkDRtrKZejO"
      },
      "source": [
        "#### Special arrays:\n",
        "Let $n$ the range of the matrix\n",
        "* zero matrix"
      ]
    },
    {
      "cell_type": "code",
      "execution_count": null,
      "metadata": {
        "colab": {
          "base_uri": "https://localhost:8080/"
        },
        "id": "cbSjMN7MZejQ",
        "outputId": "80c1f736-811a-418b-e988-24a2e496c49a"
      },
      "outputs": [
        {
          "output_type": "execute_result",
          "data": {
            "text/plain": [
              "array([[0., 0., 0.],\n",
              "       [0., 0., 0.],\n",
              "       [0., 0., 0.]])"
            ]
          },
          "metadata": {},
          "execution_count": 8
        }
      ],
      "source": [
        "n=3\n",
        "np.zeros( (n,n) )"
      ]
    },
    {
      "cell_type": "markdown",
      "metadata": {
        "id": "Ydajo9uWZejY"
      },
      "source": [
        "* Ones matrix"
      ]
    },
    {
      "cell_type": "code",
      "execution_count": null,
      "metadata": {
        "colab": {
          "base_uri": "https://localhost:8080/"
        },
        "id": "-CCDfyscZeja",
        "outputId": "6113bedc-fd81-46df-c398-0e3cfdc7a181"
      },
      "outputs": [
        {
          "output_type": "execute_result",
          "data": {
            "text/plain": [
              "array([[1., 1., 1.],\n",
              "       [1., 1., 1.],\n",
              "       [1., 1., 1.]])"
            ]
          },
          "metadata": {},
          "execution_count": 9
        }
      ],
      "source": [
        "np.ones( (n,n) )"
      ]
    },
    {
      "cell_type": "code",
      "source": [
        "1+2j"
      ],
      "metadata": {
        "colab": {
          "base_uri": "https://localhost:8080/"
        },
        "id": "vot1olL1URub",
        "outputId": "c069531f-da25-4e0d-ff3d-0c175a5f91f1"
      },
      "execution_count": null,
      "outputs": [
        {
          "output_type": "execute_result",
          "data": {
            "text/plain": [
              "(1+2j)"
            ]
          },
          "metadata": {},
          "execution_count": 10
        }
      ]
    },
    {
      "cell_type": "code",
      "execution_count": null,
      "metadata": {
        "colab": {
          "base_uri": "https://localhost:8080/"
        },
        "id": "xKOD1f5tZejk",
        "outputId": "e6dc281a-bc7a-49f5-ddad-104fd76fd0dc"
      },
      "outputs": [
        {
          "output_type": "execute_result",
          "data": {
            "text/plain": [
              "array([[0.+1.j, 0.+1.j, 0.+1.j],\n",
              "       [0.+1.j, 0.+1.j, 0.+1.j],\n",
              "       [0.+1.j, 0.+1.j, 0.+1.j]])"
            ]
          },
          "metadata": {},
          "execution_count": 11
        }
      ],
      "source": [
        "np.ones( (n,n) )*1j"
      ]
    },
    {
      "cell_type": "markdown",
      "metadata": {
        "id": "Vgj_gCHvZej0"
      },
      "source": [
        "* Identity matrix"
      ]
    },
    {
      "cell_type": "code",
      "execution_count": null,
      "metadata": {
        "colab": {
          "base_uri": "https://localhost:8080/"
        },
        "id": "KuqUJhKkZej5",
        "outputId": "b9971d25-15bd-4e50-aeec-b06cf51386eb"
      },
      "outputs": [
        {
          "output_type": "execute_result",
          "data": {
            "text/plain": [
              "array([[1., 0., 0.],\n",
              "       [0., 1., 0.],\n",
              "       [0., 0., 1.]])"
            ]
          },
          "metadata": {},
          "execution_count": 12
        }
      ],
      "source": [
        "np.identity(n)"
      ]
    },
    {
      "cell_type": "code",
      "execution_count": null,
      "metadata": {
        "id": "kh6kjgIhl5I-",
        "outputId": "90a98295-c3ce-41f3-d887-1f250196a2f6",
        "colab": {
          "base_uri": "https://localhost:8080/"
        }
      },
      "outputs": [
        {
          "output_type": "execute_result",
          "data": {
            "text/plain": [
              "array([[1, 0, 0],\n",
              "       [0, 2, 0],\n",
              "       [0, 0, 5]])"
            ]
          },
          "metadata": {},
          "execution_count": 13
        }
      ],
      "source": [
        "np.diag([1,2,5])"
      ]
    },
    {
      "cell_type": "markdown",
      "metadata": {
        "id": "gMVeIF-ZZekA"
      },
      "source": [
        "* Random matrix with entries between 0 and 1"
      ]
    },
    {
      "cell_type": "code",
      "execution_count": null,
      "metadata": {
        "id": "7uUvmqeVl5I_",
        "outputId": "314fa462-ffa4-4af5-a62f-de77681ad0ff",
        "colab": {
          "base_uri": "https://localhost:8080/"
        }
      },
      "outputs": [
        {
          "output_type": "execute_result",
          "data": {
            "text/plain": [
              "0.15301373903335136"
            ]
          },
          "metadata": {},
          "execution_count": 14
        }
      ],
      "source": [
        "np.random.random()"
      ]
    },
    {
      "cell_type": "code",
      "execution_count": null,
      "metadata": {
        "colab": {
          "base_uri": "https://localhost:8080/"
        },
        "id": "7Y27DY_oZekG",
        "outputId": "3fac731d-c738-40a8-eab3-14181f3b7c5e"
      },
      "outputs": [
        {
          "output_type": "execute_result",
          "data": {
            "text/plain": [
              "array([[0.09188259, 0.54853816, 0.34477195],\n",
              "       [0.2452434 , 0.21062757, 0.22676683],\n",
              "       [0.98028762, 0.61177532, 0.56826749]])"
            ]
          },
          "metadata": {},
          "execution_count": 16
        }
      ],
      "source": [
        "#np.random.seed(986554575)\n",
        "np.random.random((n,n))"
      ]
    },
    {
      "cell_type": "code",
      "execution_count": null,
      "metadata": {
        "id": "qISdAnc6l5JA",
        "outputId": "8e7b8aab-fdb0-4d29-cecd-639b5e8a22d0",
        "colab": {
          "base_uri": "https://localhost:8080/"
        }
      },
      "outputs": [
        {
          "output_type": "execute_result",
          "data": {
            "text/plain": [
              "array([[2.47283229, 2.27453238, 5.80622067],\n",
              "       [1.82474751, 3.26501367, 2.40644892],\n",
              "       [0.85120197, 3.73694293, 8.17377839]])"
            ]
          },
          "metadata": {},
          "execution_count": 17
        }
      ],
      "source": [
        "np.random.uniform(0,10,(n,n))"
      ]
    },
    {
      "cell_type": "markdown",
      "metadata": {
        "id": "4AFRo-kaZekL"
      },
      "source": [
        "* Integer Random matrix"
      ]
    },
    {
      "cell_type": "code",
      "execution_count": null,
      "metadata": {
        "colab": {
          "base_uri": "https://localhost:8080/"
        },
        "id": "HFWag9_gZekN",
        "outputId": "c3bb54a1-901d-448e-fd0b-bab4d6815bd7"
      },
      "outputs": [
        {
          "output_type": "execute_result",
          "data": {
            "text/plain": [
              "array([[3, 9, 8],\n",
              "       [2, 8, 5],\n",
              "       [4, 3, 9]])"
            ]
          },
          "metadata": {},
          "execution_count": 18
        }
      ],
      "source": [
        "np.random.randint(0,10,(n,n)) #0 to 9"
      ]
    },
    {
      "cell_type": "markdown",
      "metadata": {
        "id": "5rSf6mZlZekT"
      },
      "source": [
        "#### Analytical matrices\n",
        "Some times it is necessary to work with analytical Matrices. In such a case we can use the symbolic module `Sympy`"
      ]
    },
    {
      "cell_type": "code",
      "execution_count": null,
      "metadata": {
        "id": "XxBysGh4ZekU"
      },
      "outputs": [],
      "source": [
        "import sympy\n",
        "x =sympy.Symbol('x') ## declare analytical varibles\n",
        "sympy.init_printing() ## Use LaTeX to print sympy obejects"
      ]
    },
    {
      "cell_type": "code",
      "execution_count": null,
      "metadata": {
        "id": "rlQMde6Yl5JF"
      },
      "outputs": [],
      "source": [
        "#NumPy Arrays\n",
        "M1 = np.array( [[ 5 ,-4, 0],\n",
        "                [-4 , 7,-3],\n",
        "                [ 0 ,-3, 5]] )\n",
        "M2 = np.array( [[3,-2,1],[-1,5,4],[1,-2,3]] )"
      ]
    },
    {
      "cell_type": "code",
      "source": [
        "M2"
      ],
      "metadata": {
        "colab": {
          "base_uri": "https://localhost:8080/"
        },
        "id": "qepQoVFRWfFD",
        "outputId": "baa103b9-d931-48aa-84b4-ad2b8d1cdb0a"
      },
      "execution_count": null,
      "outputs": [
        {
          "output_type": "execute_result",
          "data": {
            "text/plain": [
              "array([[ 3, -2,  1],\n",
              "       [-1,  5,  4],\n",
              "       [ 1, -2,  3]])"
            ]
          },
          "metadata": {},
          "execution_count": 170
        }
      ]
    },
    {
      "cell_type": "code",
      "source": [
        "M2[1,1]"
      ],
      "metadata": {
        "colab": {
          "base_uri": "https://localhost:8080/"
        },
        "id": "R7gUVSzrYwSw",
        "outputId": "c50423d6-037e-4747-eb1b-8f2572bfa1b4"
      },
      "execution_count": null,
      "outputs": [
        {
          "output_type": "execute_result",
          "data": {
            "text/plain": [
              "np.int64(5)"
            ]
          },
          "metadata": {},
          "execution_count": 22
        }
      ]
    },
    {
      "cell_type": "code",
      "execution_count": null,
      "metadata": {
        "id": "iqppd3mBZekb",
        "collapsed": true,
        "colab": {
          "base_uri": "https://localhost:8080/",
          "height": 78
        },
        "outputId": "bad7d3eb-e45c-4ebb-8d2a-d4c6fce11b9d"
      },
      "outputs": [
        {
          "output_type": "execute_result",
          "data": {
            "text/plain": [
              "⎡3   -2  1⎤\n",
              "⎢         ⎥\n",
              "⎢-1  5   4⎥\n",
              "⎢         ⎥\n",
              "⎣1   -2  3⎦"
            ],
            "text/latex": "$\\displaystyle \\left[\\begin{matrix}3 & -2 & 1\\\\-1 & 5 & 4\\\\1 & -2 & 3\\end{matrix}\\right]$"
          },
          "metadata": {},
          "execution_count": 172
        }
      ],
      "source": [
        "sympy.Matrix(M2)"
      ]
    },
    {
      "cell_type": "code",
      "source": [
        "kk[1,1]"
      ],
      "metadata": {
        "colab": {
          "base_uri": "https://localhost:8080/",
          "height": 37
        },
        "id": "_c2XrmFNY25q",
        "outputId": "ce11eb71-65d7-42f8-a2a8-20274502ec7c"
      },
      "execution_count": null,
      "outputs": [
        {
          "output_type": "execute_result",
          "data": {
            "text/plain": [
              "5"
            ],
            "text/latex": "$\\displaystyle 5$"
          },
          "metadata": {},
          "execution_count": 24
        }
      ]
    },
    {
      "cell_type": "markdown",
      "metadata": {
        "id": "YOx4-QiaZekn"
      },
      "source": [
        "In the following we will focus only in numerical matrices as `numpy` arrays, but also use `sympy` to print the matrices in a more readable way\n",
        "#### Matrix operations (numpy)\n",
        "Both as functions or array's methods\n",
        "* Transpose"
      ]
    },
    {
      "cell_type": "markdown",
      "metadata": {
        "id": "APjqrWupl5JL"
      },
      "source": [
        "$M_2^{\\rm T}=$"
      ]
    },
    {
      "cell_type": "code",
      "execution_count": null,
      "metadata": {
        "id": "iVlb_926l5JM"
      },
      "outputs": [],
      "source": [
        "from IPython import display"
      ]
    },
    {
      "cell_type": "code",
      "execution_count": null,
      "metadata": {
        "id": "QMqnfkYGZekv",
        "outputId": "f0381bff-344e-4cf7-d999-51711b1c4b65",
        "colab": {
          "base_uri": "https://localhost:8080/",
          "height": 78
        }
      },
      "outputs": [
        {
          "output_type": "execute_result",
          "data": {
            "text/plain": [
              "⎡3   -1  1 ⎤\n",
              "⎢          ⎥\n",
              "⎢-2  5   -2⎥\n",
              "⎢          ⎥\n",
              "⎣1   4   3 ⎦"
            ],
            "text/latex": "$\\displaystyle \\left[\\begin{matrix}3 & -1 & 1\\\\-2 & 5 & -2\\\\1 & 4 & 3\\end{matrix}\\right]$"
          },
          "metadata": {},
          "execution_count": 174
        }
      ],
      "source": [
        "sympy.Matrix( M2.transpose())"
      ]
    },
    {
      "cell_type": "markdown",
      "metadata": {
        "id": "aVPNFxHfZek5"
      },
      "source": [
        "* Matrix addition"
      ]
    },
    {
      "cell_type": "code",
      "execution_count": null,
      "metadata": {
        "id": "PASina7Kl5JM",
        "outputId": "2a7faeef-9603-4884-ed73-8867f9c5dadd",
        "colab": {
          "base_uri": "https://localhost:8080/",
          "height": 78
        }
      },
      "outputs": [
        {
          "output_type": "execute_result",
          "data": {
            "text/plain": [
              "⎡5   -4  0 ⎤\n",
              "⎢          ⎥\n",
              "⎢-4  7   -3⎥\n",
              "⎢          ⎥\n",
              "⎣0   -3  5 ⎦"
            ],
            "text/latex": "$\\displaystyle \\left[\\begin{matrix}5 & -4 & 0\\\\-4 & 7 & -3\\\\0 & -3 & 5\\end{matrix}\\right]$"
          },
          "metadata": {},
          "execution_count": 175
        }
      ],
      "source": [
        "sympy.Matrix(M1)"
      ]
    },
    {
      "cell_type": "code",
      "execution_count": null,
      "metadata": {
        "id": "6MlnYKcKl5JN",
        "outputId": "630c2bfd-348f-4670-ac39-204046413271",
        "colab": {
          "base_uri": "https://localhost:8080/",
          "height": 78
        }
      },
      "outputs": [
        {
          "output_type": "execute_result",
          "data": {
            "text/plain": [
              "⎡3   -2  1⎤\n",
              "⎢         ⎥\n",
              "⎢-1  5   4⎥\n",
              "⎢         ⎥\n",
              "⎣1   -2  3⎦"
            ],
            "text/latex": "$\\displaystyle \\left[\\begin{matrix}3 & -2 & 1\\\\-1 & 5 & 4\\\\1 & -2 & 3\\end{matrix}\\right]$"
          },
          "metadata": {},
          "execution_count": 28
        }
      ],
      "source": [
        "sympy.Matrix(M2)"
      ]
    },
    {
      "cell_type": "code",
      "execution_count": null,
      "metadata": {
        "id": "tuXj_6GqZek5",
        "outputId": "80e58b30-5045-4a20-fe71-352ff7b8d764",
        "colab": {
          "base_uri": "https://localhost:8080/",
          "height": 78
        }
      },
      "outputs": [
        {
          "output_type": "execute_result",
          "data": {
            "text/plain": [
              "⎡8   -6  1⎤\n",
              "⎢         ⎥\n",
              "⎢-5  12  1⎥\n",
              "⎢         ⎥\n",
              "⎣1   -5  8⎦"
            ],
            "text/latex": "$\\displaystyle \\left[\\begin{matrix}8 & -6 & 1\\\\-5 & 12 & 1\\\\1 & -5 & 8\\end{matrix}\\right]$"
          },
          "metadata": {},
          "execution_count": 29
        }
      ],
      "source": [
        "sympy.Matrix( M1+M2 )"
      ]
    },
    {
      "cell_type": "markdown",
      "metadata": {
        "id": "1svJtjQgZelD"
      },
      "source": [
        "Complex arrays are allowed"
      ]
    },
    {
      "cell_type": "code",
      "execution_count": null,
      "metadata": {
        "id": "hLK3EMWEZelF",
        "outputId": "b233589c-591b-4656-d300-d6739240a317",
        "colab": {
          "base_uri": "https://localhost:8080/",
          "height": 78
        }
      },
      "outputs": [
        {
          "output_type": "execute_result",
          "data": {
            "text/plain": [
              "⎡5.0 + 3.0⋅ⅈ   -4.0 - 2.0⋅ⅈ     1.0⋅ⅈ    ⎤\n",
              "⎢                                        ⎥\n",
              "⎢-4.0 - 1.0⋅ⅈ  7.0 + 5.0⋅ⅈ   -3.0 + 4.0⋅ⅈ⎥\n",
              "⎢                                        ⎥\n",
              "⎣   1.0⋅ⅈ      -3.0 - 2.0⋅ⅈ  5.0 + 3.0⋅ⅈ ⎦"
            ],
            "text/latex": "$\\displaystyle \\left[\\begin{matrix}5.0 + 3.0 i & -4.0 - 2.0 i & 1.0 i\\\\-4.0 - 1.0 i & 7.0 + 5.0 i & -3.0 + 4.0 i\\\\1.0 i & -3.0 - 2.0 i & 5.0 + 3.0 i\\end{matrix}\\right]$"
          },
          "metadata": {},
          "execution_count": 176
        }
      ],
      "source": [
        "Mc=M1+M2*1j\n",
        "sympy.Matrix( M1+M2*1j )"
      ]
    },
    {
      "cell_type": "markdown",
      "metadata": {
        "id": "ZWcRwqnmZelK"
      },
      "source": [
        "with the corresponding complex matrix operations"
      ]
    },
    {
      "cell_type": "code",
      "execution_count": null,
      "metadata": {
        "id": "TrrfJp2jZelL",
        "outputId": "e6878e3d-6ff7-4a23-a9d9-9ea17483ce87",
        "colab": {
          "base_uri": "https://localhost:8080/",
          "height": 78
        }
      },
      "outputs": [
        {
          "output_type": "execute_result",
          "data": {
            "text/plain": [
              "⎡5.0 - 3.0⋅ⅈ   -4.0 + 2.0⋅ⅈ     -1.0⋅ⅈ   ⎤\n",
              "⎢                                        ⎥\n",
              "⎢-4.0 + 1.0⋅ⅈ  7.0 - 5.0⋅ⅈ   -3.0 - 4.0⋅ⅈ⎥\n",
              "⎢                                        ⎥\n",
              "⎣   -1.0⋅ⅈ     -3.0 + 2.0⋅ⅈ  5.0 - 3.0⋅ⅈ ⎦"
            ],
            "text/latex": "$\\displaystyle \\left[\\begin{matrix}5.0 - 3.0 i & -4.0 + 2.0 i & - 1.0 i\\\\-4.0 + 1.0 i & 7.0 - 5.0 i & -3.0 - 4.0 i\\\\- 1.0 i & -3.0 + 2.0 i & 5.0 - 3.0 i\\end{matrix}\\right]$"
          },
          "metadata": {},
          "execution_count": 177
        }
      ],
      "source": [
        "sympy.Matrix(  Mc.conjugate() )\n",
        "#display ( sympy.Matrix(  Mc.conjugate().transpose() ) ) ## hermitian-conjugate"
      ]
    },
    {
      "cell_type": "markdown",
      "metadata": {
        "id": "p9FLKGt7ZelP"
      },
      "source": [
        "* Matrix multiplication\n",
        "![MP](https://upload.wikimedia.org/wikipedia/commons/thumb/e/eb/Matrix_multiplication_diagram_2.svg/200px-Matrix_multiplication_diagram_2.svg.png)"
      ]
    },
    {
      "cell_type": "markdown",
      "metadata": {
        "id": "MYcNFpUwl5JO"
      },
      "source": [
        "```python\n",
        "dot(a, b, out=None)\n",
        "```\n",
        "\n",
        "Dot product of two arrays. Specifically,\n",
        "\n",
        "- If both `a` and `b` are 1-D arrays, it is inner product of vectors\n",
        "  (without complex conjugation).\n",
        "\n",
        "- If both `a` and `b` are 2-D arrays, it is matrix multiplication,\n",
        "  but using :func:`matmul` or ``a @ b`` is preferred.\n",
        "\n",
        "- If either `a` or `b` is 0-D (scalar), it is equivalent to :func:`multiply`\n",
        "  and using ``numpy.multiply(a, b)`` or ``a * b`` is preferred.\n",
        "\n",
        "- ..."
      ]
    },
    {
      "cell_type": "code",
      "execution_count": null,
      "metadata": {
        "id": "Y-lCLZ89l5JP"
      },
      "outputs": [],
      "source": [
        "M1 = np.array( [[ 5 ,-4, 0],\n",
        "                [-4 , 7,-3],\n",
        "                [ 0 ,-3, 5]] )\n",
        "M2 = np.array( [[3,-2,1],\n",
        "                [-1,5,4],\n",
        "                [1,-2,3]] )"
      ]
    },
    {
      "cell_type": "code",
      "source": [
        "np.dot( M1, M2 )"
      ],
      "metadata": {
        "colab": {
          "base_uri": "https://localhost:8080/"
        },
        "id": "aP6vvpTDY3qh",
        "outputId": "1de48cd4-e7fc-4209-c390-d0db896d6f1c"
      },
      "execution_count": null,
      "outputs": [
        {
          "output_type": "execute_result",
          "data": {
            "text/plain": [
              "array([[ 19, -30, -11],\n",
              "       [-22,  49,  15],\n",
              "       [  8, -25,   3]])"
            ]
          },
          "metadata": {},
          "execution_count": 34
        }
      ]
    },
    {
      "cell_type": "code",
      "execution_count": null,
      "metadata": {
        "id": "4zqQDuSBZelQ",
        "outputId": "d97f9b1d-c1b2-49df-a432-2e551157b61d",
        "colab": {
          "base_uri": "https://localhost:8080/",
          "height": 78
        }
      },
      "outputs": [
        {
          "output_type": "execute_result",
          "data": {
            "text/plain": [
              "⎡19   -30  -11⎤\n",
              "⎢             ⎥\n",
              "⎢-22  49   15 ⎥\n",
              "⎢             ⎥\n",
              "⎣ 8   -25   3 ⎦"
            ],
            "text/latex": "$\\displaystyle \\left[\\begin{matrix}19 & -30 & -11\\\\-22 & 49 & 15\\\\8 & -25 & 3\\end{matrix}\\right]$"
          },
          "metadata": {},
          "execution_count": 33
        }
      ],
      "source": [
        "#Multiplication\n",
        "sympy.Matrix( np.dot( M1, M2 ) )"
      ]
    },
    {
      "cell_type": "code",
      "execution_count": null,
      "metadata": {
        "id": "zQ8-P0RVl5JP",
        "outputId": "b77b51ed-a624-4f24-ef12-a4d39447bfe0",
        "colab": {
          "base_uri": "https://localhost:8080/",
          "height": 78
        }
      },
      "outputs": [
        {
          "output_type": "execute_result",
          "data": {
            "text/plain": [
              "⎡19   -30  -11⎤\n",
              "⎢             ⎥\n",
              "⎢-22  49   15 ⎥\n",
              "⎢             ⎥\n",
              "⎣ 8   -25   3 ⎦"
            ],
            "text/latex": "$\\displaystyle \\left[\\begin{matrix}19 & -30 & -11\\\\-22 & 49 & 15\\\\8 & -25 & 3\\end{matrix}\\right]$"
          },
          "metadata": {},
          "execution_count": 35
        }
      ],
      "source": [
        "sympy.Matrix( M1.dot(M2) )"
      ]
    },
    {
      "cell_type": "markdown",
      "metadata": {
        "id": "m5PxW7ZTl5JQ"
      },
      "source": [
        "Recommended way"
      ]
    },
    {
      "cell_type": "code",
      "execution_count": null,
      "metadata": {
        "id": "S1IUeEVjl5JR",
        "outputId": "731d036f-05a6-47c7-b2ae-69509b71fb0d",
        "colab": {
          "base_uri": "https://localhost:8080/",
          "height": 78
        }
      },
      "outputs": [
        {
          "output_type": "execute_result",
          "data": {
            "text/plain": [
              "⎡19   -30  -11⎤\n",
              "⎢             ⎥\n",
              "⎢-22  49   15 ⎥\n",
              "⎢             ⎥\n",
              "⎣ 8   -25   3 ⎦"
            ],
            "text/latex": "$\\displaystyle \\left[\\begin{matrix}19 & -30 & -11\\\\-22 & 49 & 15\\\\8 & -25 & 3\\end{matrix}\\right]$"
          },
          "metadata": {},
          "execution_count": 36
        }
      ],
      "source": [
        "sympy.Matrix(M1@M2)"
      ]
    },
    {
      "cell_type": "code",
      "execution_count": null,
      "metadata": {
        "id": "OPpgxHkHl5JS",
        "outputId": "08ec8898-7592-46d7-db7f-979523b059ee",
        "colab": {
          "base_uri": "https://localhost:8080/",
          "height": 78
        }
      },
      "outputs": [
        {
          "output_type": "execute_result",
          "data": {
            "text/plain": [
              "⎡23   -29  11⎤\n",
              "⎢            ⎥\n",
              "⎢-25  27   5 ⎥\n",
              "⎢            ⎥\n",
              "⎣13   -27  21⎦"
            ],
            "text/latex": "$\\displaystyle \\left[\\begin{matrix}23 & -29 & 11\\\\-25 & 27 & 5\\\\13 & -27 & 21\\end{matrix}\\right]$"
          },
          "metadata": {},
          "execution_count": 38
        }
      ],
      "source": [
        "#Multiplication is not commutative\n",
        "sympy.Matrix ( M2@M1 )"
      ]
    },
    {
      "cell_type": "markdown",
      "metadata": {
        "id": "iOMa5hV9ZelX"
      },
      "source": [
        "* Complex matrices"
      ]
    },
    {
      "cell_type": "code",
      "execution_count": null,
      "metadata": {
        "id": "A15yIsCIZelY",
        "outputId": "e7b14cd0-1d74-4a7b-ccc1-f828ba635e7b",
        "colab": {
          "base_uri": "https://localhost:8080/",
          "height": 58
        }
      },
      "outputs": [
        {
          "output_type": "execute_result",
          "data": {
            "text/plain": [
              "⎡  0    -1.0⋅ⅈ⎤\n",
              "⎢             ⎥\n",
              "⎣1.0⋅ⅈ    0   ⎦"
            ],
            "text/latex": "$\\displaystyle \\left[\\begin{matrix}0 & - 1.0 i\\\\1.0 i & 0\\end{matrix}\\right]$"
          },
          "metadata": {},
          "execution_count": 178
        }
      ],
      "source": [
        "σ_2=np.array(\n",
        "    [[0,-1j],\n",
        "     [1j,0]])\n",
        "sympy.Matrix(σ_2)"
      ]
    },
    {
      "cell_type": "markdown",
      "metadata": {
        "id": "KBsxGjj8Zele"
      },
      "source": [
        "* Trace"
      ]
    },
    {
      "cell_type": "code",
      "execution_count": null,
      "metadata": {
        "id": "BeBa5q51Zele",
        "outputId": "6a33cd12-4133-4b62-ae72-995548564ca6",
        "colab": {
          "base_uri": "https://localhost:8080/"
        }
      },
      "outputs": [
        {
          "output_type": "execute_result",
          "data": {
            "text/plain": [
              "np.complex128(0j)"
            ]
          },
          "metadata": {},
          "execution_count": 42
        }
      ],
      "source": [
        "np.trace(σ_2)"
      ]
    },
    {
      "cell_type": "markdown",
      "metadata": {
        "id": "dSP1p2ggZelh"
      },
      "source": [
        "* Determinant"
      ]
    },
    {
      "cell_type": "code",
      "execution_count": null,
      "metadata": {
        "id": "MCQFjjTrZeli",
        "outputId": "b887353a-4d8d-4cf3-d1d4-390c2a5f47cf",
        "colab": {
          "base_uri": "https://localhost:8080/"
        }
      },
      "outputs": [
        {
          "output_type": "execute_result",
          "data": {
            "text/plain": [
              "np.complex128(-1+0j)"
            ]
          },
          "metadata": {},
          "execution_count": 44
        }
      ],
      "source": [
        "np.linalg.det(σ_2)"
      ]
    },
    {
      "cell_type": "markdown",
      "source": [
        "Raise a square matrix to the (integer) power `n`."
      ],
      "metadata": {
        "id": "Mjd3qIWSZelv"
      }
    },
    {
      "cell_type": "code",
      "execution_count": null,
      "metadata": {
        "id": "sJH3W0TfZelp",
        "outputId": "118b6453-a184-477d-f758-4492a63ed6b5",
        "colab": {
          "base_uri": "https://localhost:8080/",
          "height": 58
        }
      },
      "outputs": [
        {
          "output_type": "execute_result",
          "data": {
            "text/plain": [
              "⎡1.0   0 ⎤\n",
              "⎢        ⎥\n",
              "⎣ 0   1.0⎦"
            ],
            "text/latex": "$\\displaystyle \\left[\\begin{matrix}1.0 & 0\\\\0 & 1.0\\end{matrix}\\right]$"
          },
          "metadata": {},
          "execution_count": 179
        }
      ],
      "source": [
        "sympy.Matrix ( np.linalg.matrix_power(σ_2,2) )"
      ]
    },
    {
      "cell_type": "code",
      "source": [
        "sympy.Matrix ( np.linalg.matrix_power(σ_2,3) )"
      ],
      "metadata": {
        "colab": {
          "base_uri": "https://localhost:8080/",
          "height": 58
        },
        "id": "Bg8EGUZ0aFNJ",
        "outputId": "2954e5d7-a7fd-4730-8b16-f3325261d0e8"
      },
      "execution_count": null,
      "outputs": [
        {
          "output_type": "execute_result",
          "data": {
            "text/plain": [
              "⎡  0    -1.0⋅ⅈ⎤\n",
              "⎢             ⎥\n",
              "⎣1.0⋅ⅈ    0   ⎦"
            ],
            "text/latex": "$\\displaystyle \\left[\\begin{matrix}0 & - 1.0 i\\\\1.0 i & 0\\end{matrix}\\right]$"
          },
          "metadata": {},
          "execution_count": 46
        }
      ]
    },
    {
      "cell_type": "code",
      "execution_count": null,
      "metadata": {
        "id": "Fzsti3vkl5JV",
        "outputId": "da8bef3b-c209-41fe-cee4-67cdbffad6ae",
        "colab": {
          "base_uri": "https://localhost:8080/"
        }
      },
      "outputs": [
        {
          "output_type": "stream",
          "name": "stderr",
          "text": [
            "/tmp/ipython-input-48-501469815.py:1: ComplexWarning: Casting complex values to real discards the imaginary part\n",
            "  (σ_2@σ_2).astype(float)\n"
          ]
        },
        {
          "output_type": "execute_result",
          "data": {
            "text/plain": [
              "array([[1., 0.],\n",
              "       [0., 1.]])"
            ]
          },
          "metadata": {},
          "execution_count": 48
        }
      ],
      "source": [
        "(σ_2@σ_2).astype(float)"
      ]
    },
    {
      "cell_type": "markdown",
      "metadata": {
        "id": "B5MgYxnhl5JV"
      },
      "source": [
        "odd power"
      ]
    },
    {
      "cell_type": "code",
      "execution_count": null,
      "metadata": {
        "id": "0eXAmWwul5JW",
        "outputId": "6b2861a8-5b36-4fa1-ecf9-2d38230a27f7",
        "colab": {
          "base_uri": "https://localhost:8080/",
          "height": 58
        }
      },
      "outputs": [
        {
          "output_type": "execute_result",
          "data": {
            "text/plain": [
              "⎡  0    -1.0⋅ⅈ⎤\n",
              "⎢             ⎥\n",
              "⎣1.0⋅ⅈ    0   ⎦"
            ],
            "text/latex": "$\\displaystyle \\left[\\begin{matrix}0 & - 1.0 i\\\\1.0 i & 0\\end{matrix}\\right]$"
          },
          "metadata": {},
          "execution_count": 49
        }
      ],
      "source": [
        "sympy.Matrix ( np.linalg.matrix_power(σ_2,7) )"
      ]
    },
    {
      "cell_type": "markdown",
      "metadata": {
        "id": "YxkRJCrMl5JW"
      },
      "source": [
        "even power"
      ]
    },
    {
      "cell_type": "code",
      "execution_count": null,
      "metadata": {
        "id": "gFfCUIqAl5JW",
        "outputId": "ccd421aa-40b2-4a0d-f935-9d666f93cae9",
        "colab": {
          "base_uri": "https://localhost:8080/",
          "height": 58
        }
      },
      "outputs": [
        {
          "output_type": "execute_result",
          "data": {
            "text/plain": [
              "⎡1.0   0 ⎤\n",
              "⎢        ⎥\n",
              "⎣ 0   1.0⎦"
            ],
            "text/latex": "$\\displaystyle \\left[\\begin{matrix}1.0 & 0\\\\0 & 1.0\\end{matrix}\\right]$"
          },
          "metadata": {},
          "execution_count": 50
        }
      ],
      "source": [
        "sympy.Matrix ( np.linalg.matrix_power(σ_2,14) )"
      ]
    },
    {
      "cell_type": "markdown",
      "metadata": {
        "id": "Qiq4O9SAl5JW"
      },
      "source": [
        "Inverse of a matrix"
      ]
    },
    {
      "cell_type": "code",
      "source": [
        "sympy.Matrix(M2)"
      ],
      "metadata": {
        "colab": {
          "base_uri": "https://localhost:8080/",
          "height": 78
        },
        "id": "smSkAdaAakpO",
        "outputId": "9f8fbdab-4a52-482b-e5a9-6af9606217eb"
      },
      "execution_count": null,
      "outputs": [
        {
          "output_type": "execute_result",
          "data": {
            "text/plain": [
              "⎡3   -2  1⎤\n",
              "⎢         ⎥\n",
              "⎢-1  5   4⎥\n",
              "⎢         ⎥\n",
              "⎣1   -2  3⎦"
            ],
            "text/latex": "$\\displaystyle \\left[\\begin{matrix}3 & -2 & 1\\\\-1 & 5 & 4\\\\1 & -2 & 3\\end{matrix}\\right]$"
          },
          "metadata": {},
          "execution_count": 180
        }
      ]
    },
    {
      "cell_type": "code",
      "execution_count": null,
      "metadata": {
        "id": "O0phiCrXZely",
        "outputId": "5dce1de3-b1b8-465f-d270-585046b3542d",
        "colab": {
          "base_uri": "https://localhost:8080/",
          "height": 78
        }
      },
      "outputs": [
        {
          "output_type": "execute_result",
          "data": {
            "text/plain": [
              "⎡ 0.442307692307692   0.0769230769230769  -0.25⎤\n",
              "⎢                                              ⎥\n",
              "⎢ 0.134615384615385   0.153846153846154   -0.25⎥\n",
              "⎢                                              ⎥\n",
              "⎣-0.0576923076923077  0.0769230769230769  0.25 ⎦"
            ],
            "text/latex": "$\\displaystyle \\left[\\begin{matrix}0.442307692307692 & 0.0769230769230769 & -0.25\\\\0.134615384615385 & 0.153846153846154 & -0.25\\\\-0.0576923076923077 & 0.0769230769230769 & 0.25\\end{matrix}\\right]$"
          },
          "metadata": {},
          "execution_count": 51
        }
      ],
      "source": [
        "sympy.Matrix( np.linalg.inv(M2) )"
      ]
    },
    {
      "cell_type": "code",
      "execution_count": null,
      "metadata": {
        "id": "LVJ9jJ7el5JX",
        "outputId": "46210198-0498-4618-ebd9-72155b39cd00",
        "colab": {
          "base_uri": "https://localhost:8080/",
          "height": 78
        }
      },
      "outputs": [
        {
          "output_type": "execute_result",
          "data": {
            "text/plain": [
              "⎡1.0  0.0  0.0⎤\n",
              "⎢             ⎥\n",
              "⎢0.0  1.0  0.0⎥\n",
              "⎢             ⎥\n",
              "⎣0.0  0.0  1.0⎦"
            ],
            "text/latex": "$\\displaystyle \\left[\\begin{matrix}1.0 & 0.0 & 0.0\\\\0.0 & 1.0 & 0.0\\\\0.0 & 0.0 & 1.0\\end{matrix}\\right]$"
          },
          "metadata": {},
          "execution_count": 56
        }
      ],
      "source": [
        "sympy.Matrix ( ( M2@np.linalg.inv(M2) ).round(3) )"
      ]
    },
    {
      "cell_type": "code",
      "execution_count": null,
      "metadata": {
        "id": "4Z6r_5RFZemL",
        "outputId": "eab6fa22-fe82-4612-a049-13765865ce56",
        "colab": {
          "base_uri": "https://localhost:8080/",
          "height": 78
        }
      },
      "outputs": [
        {
          "output_type": "execute_result",
          "data": {
            "text/plain": [
              "⎡1  0  0⎤\n",
              "⎢       ⎥\n",
              "⎢0  1  0⎥\n",
              "⎢       ⎥\n",
              "⎣0  0  1⎦"
            ],
            "text/latex": "$\\displaystyle \\left[\\begin{matrix}1 & 0 & 0\\\\0 & 1 & 0\\\\0 & 0 & 1\\end{matrix}\\right]$"
          },
          "metadata": {},
          "execution_count": 58
        }
      ],
      "source": [
        "sympy.Matrix ( ( M2@np.linalg.inv(M2) ).round(3).astype(int) )"
      ]
    },
    {
      "cell_type": "markdown",
      "metadata": {
        "id": "F9oa0NBZZemN"
      },
      "source": [
        "#### Element by element operations"
      ]
    },
    {
      "cell_type": "code",
      "execution_count": null,
      "metadata": {
        "id": "ZojXqc5Cl5JZ",
        "outputId": "a27efe7e-ad1b-43d3-d988-86398c3a45e6",
        "colab": {
          "base_uri": "https://localhost:8080/"
        }
      },
      "outputs": [
        {
          "output_type": "stream",
          "name": "stdout",
          "text": [
            "[[ 5 -4  0]\n",
            " [-4  7 -3]\n",
            " [ 0 -3  5]]\n"
          ]
        },
        {
          "output_type": "execute_result",
          "data": {
            "text/plain": [
              "array([[ 3, -2,  1],\n",
              "       [-1,  5,  4],\n",
              "       [ 1, -2,  3]])"
            ]
          },
          "metadata": {},
          "execution_count": 59
        }
      ],
      "source": [
        "print(M1)\n",
        "M2"
      ]
    },
    {
      "cell_type": "code",
      "execution_count": null,
      "metadata": {
        "id": "TIGu3voBZemO",
        "outputId": "526de507-d6b2-4338-e335-84027f3895bc",
        "colab": {
          "base_uri": "https://localhost:8080/"
        }
      },
      "outputs": [
        {
          "output_type": "execute_result",
          "data": {
            "text/plain": [
              "array([[ 15,   8,   0],\n",
              "       [  4,  35, -12],\n",
              "       [  0,   6,  15]])"
            ]
          },
          "metadata": {},
          "execution_count": 60
        }
      ],
      "source": [
        "M1*M2"
      ]
    },
    {
      "cell_type": "code",
      "execution_count": null,
      "metadata": {
        "id": "uJp7UV6jZemW",
        "outputId": "c61be254-8e3e-42f6-d2e1-15b0b310c484",
        "colab": {
          "base_uri": "https://localhost:8080/"
        }
      },
      "outputs": [
        {
          "output_type": "stream",
          "name": "stdout",
          "text": [
            "[[ 5 -4  0]\n",
            " [-4  7 -3]\n",
            " [ 0 -3  5]] \n",
            "\n",
            " [[ 3 -2  1]\n",
            " [-1  5  4]\n",
            " [ 1 -2  3]] \n",
            "\n",
            " [[ 1.66666667  2.          0.        ]\n",
            " [ 4.          1.4        -0.75      ]\n",
            " [ 0.          1.5         1.66666667]]\n"
          ]
        }
      ],
      "source": [
        "#Division\n",
        "print( M1,'\\n\\n', M2,'\\n\\n', M1/M2 )"
      ]
    },
    {
      "cell_type": "markdown",
      "source": [
        "realiza una división entre los elementos de las matrices que se encuentran en la misma posición."
      ],
      "metadata": {
        "id": "8F5D9Gx7dD9_"
      }
    },
    {
      "cell_type": "markdown",
      "metadata": {
        "id": "vGLt_0GCl5Ja"
      },
      "source": [
        "#### Submatrix from matrix:"
      ]
    },
    {
      "cell_type": "code",
      "execution_count": null,
      "metadata": {
        "id": "awmG1UkJl5Ja"
      },
      "outputs": [],
      "source": [
        "M1 = np.array( [[ 5 ,-4, 0],\n",
        "                [-4 , 7,-3],\n",
        "                [ 0 ,-3, 5]] )"
      ]
    },
    {
      "cell_type": "markdown",
      "metadata": {
        "id": "D0ezdmXIl5Ja"
      },
      "source": [
        "Elements of the matrix"
      ]
    },
    {
      "cell_type": "code",
      "execution_count": null,
      "metadata": {
        "id": "QlhF-Zhbl5Jb",
        "outputId": "a1330703-7d0c-44a6-8ca5-1dff34b4f3e6",
        "colab": {
          "base_uri": "https://localhost:8080/"
        }
      },
      "outputs": [
        {
          "output_type": "execute_result",
          "data": {
            "text/plain": [
              "np.int64(-3)"
            ]
          },
          "metadata": {},
          "execution_count": 182
        }
      ],
      "source": [
        "M1[1,2]"
      ]
    },
    {
      "cell_type": "markdown",
      "metadata": {
        "id": "TXH4Mnoml5Jb"
      },
      "source": [
        "#### Extract rows"
      ]
    },
    {
      "cell_type": "code",
      "execution_count": null,
      "metadata": {
        "id": "Sj6ShRCwl5Jb",
        "outputId": "d0c60c40-7aa5-4a23-94cb-1e5c4be0350b",
        "colab": {
          "base_uri": "https://localhost:8080/"
        }
      },
      "outputs": [
        {
          "output_type": "execute_result",
          "data": {
            "text/plain": [
              "array([-4,  7, -3])"
            ]
          },
          "metadata": {},
          "execution_count": 188
        }
      ],
      "source": [
        "M1[1,:]"
      ]
    },
    {
      "cell_type": "markdown",
      "metadata": {
        "id": "PiaJn3dQl5Jb"
      },
      "source": [
        "or"
      ]
    },
    {
      "cell_type": "code",
      "execution_count": null,
      "metadata": {
        "id": "JZs8XtvNl5Jb",
        "outputId": "800b8487-3780-4e7b-ec3a-f2abf88c4a1e",
        "colab": {
          "base_uri": "https://localhost:8080/"
        }
      },
      "outputs": [
        {
          "output_type": "execute_result",
          "data": {
            "text/plain": [
              "array([-4,  7, -3])"
            ]
          },
          "metadata": {},
          "execution_count": 74
        }
      ],
      "source": [
        "M1[1]"
      ]
    },
    {
      "cell_type": "markdown",
      "metadata": {
        "id": "jNdganfLl5Jb"
      },
      "source": [
        "In general:\n",
        "`M1[list of rows to extract]`"
      ]
    },
    {
      "cell_type": "code",
      "execution_count": null,
      "metadata": {
        "id": "EZRQY-9cl5Jc",
        "outputId": "5112d3c2-b7ee-41a9-aa27-3309d24695a3",
        "colab": {
          "base_uri": "https://localhost:8080/"
        }
      },
      "outputs": [
        {
          "output_type": "execute_result",
          "data": {
            "text/plain": [
              "array([[-4,  7, -3]])"
            ]
          },
          "metadata": {},
          "execution_count": 75
        }
      ],
      "source": [
        "M1[[1]]"
      ]
    },
    {
      "cell_type": "code",
      "execution_count": null,
      "metadata": {
        "id": "FV6Xj6Bul5Jc"
      },
      "outputs": [],
      "source": [
        "M1 = np.array( [[ 5 ,-4, 0],\n",
        "                [-4 , 7,-3],\n",
        "                [ 0 ,-3, 5]] )"
      ]
    },
    {
      "cell_type": "code",
      "execution_count": null,
      "metadata": {
        "id": "k9oX92ZYl5Jc",
        "outputId": "917e6741-a5fa-41b2-da08-d5eb4bdb9a5c",
        "colab": {
          "base_uri": "https://localhost:8080/"
        }
      },
      "outputs": [
        {
          "output_type": "execute_result",
          "data": {
            "text/plain": [
              "array([[ 5, -4,  0],\n",
              "       [ 0, -3,  5]])"
            ]
          },
          "metadata": {},
          "execution_count": 77
        }
      ],
      "source": [
        "M1[[0,2]]"
      ]
    },
    {
      "cell_type": "markdown",
      "metadata": {
        "id": "eTlFaTbrl5Jc"
      },
      "source": [
        "#### Extract columns"
      ]
    },
    {
      "cell_type": "code",
      "execution_count": null,
      "metadata": {
        "id": "Rr8VMi_Ll5Jc",
        "outputId": "87bc8725-83ef-4148-ff78-3913cd44d4b4",
        "colab": {
          "base_uri": "https://localhost:8080/"
        }
      },
      "outputs": [
        {
          "output_type": "execute_result",
          "data": {
            "text/plain": [
              "array([-4,  7, -3])"
            ]
          },
          "metadata": {},
          "execution_count": 78
        }
      ],
      "source": [
        "M1[:,1]"
      ]
    },
    {
      "cell_type": "markdown",
      "metadata": {
        "id": "Z7r9ESwdl5Jc"
      },
      "source": [
        "and convert back into a column"
      ]
    },
    {
      "cell_type": "code",
      "execution_count": null,
      "metadata": {
        "id": "Kp6A6hL2l5Jd",
        "outputId": "688ba47c-14cd-4580-b8e2-8c5b9e09a139",
        "colab": {
          "base_uri": "https://localhost:8080/"
        }
      },
      "outputs": [
        {
          "output_type": "execute_result",
          "data": {
            "text/plain": [
              "array([[-4],\n",
              "       [ 7],\n",
              "       [-3]])"
            ]
          },
          "metadata": {},
          "execution_count": 79
        }
      ],
      "source": [
        "np.c_[M1[:,1]]"
      ]
    },
    {
      "cell_type": "markdown",
      "metadata": {
        "id": "hjWjOiVel5Jd"
      },
      "source": [
        "#### Reordering"
      ]
    },
    {
      "cell_type": "code",
      "execution_count": null,
      "metadata": {
        "id": "k1CwCcYql5Jd"
      },
      "outputs": [],
      "source": [
        "M1 = np.array( [[ 5 ,-4, 0],\n",
        "                [-4 , 7,-3],\n",
        "                [ 0 ,-3, 5]] )"
      ]
    },
    {
      "cell_type": "markdown",
      "metadata": {
        "id": "UFUAEQf9l5Jd"
      },
      "source": [
        "Reverse row order to 2,1,0"
      ]
    },
    {
      "cell_type": "code",
      "execution_count": null,
      "metadata": {
        "id": "wH75n5Kcl5Je",
        "outputId": "057f95f1-a60b-4b4f-b3fa-9c553b97a21e",
        "colab": {
          "base_uri": "https://localhost:8080/"
        }
      },
      "outputs": [
        {
          "output_type": "execute_result",
          "data": {
            "text/plain": [
              "array([[ 0, -3,  5],\n",
              "       [-4,  7, -3],\n",
              "       [ 5, -4,  0]])"
            ]
          },
          "metadata": {},
          "execution_count": 81
        }
      ],
      "source": [
        "M1[[2,1,0]]"
      ]
    },
    {
      "cell_type": "markdown",
      "metadata": {
        "id": "eJ4K7p4ml5Je"
      },
      "source": [
        "or"
      ]
    },
    {
      "cell_type": "code",
      "execution_count": null,
      "metadata": {
        "id": "7v6-UHPSl5Je",
        "outputId": "44906993-4997-4642-dbda-9436a42e0694",
        "colab": {
          "base_uri": "https://localhost:8080/"
        }
      },
      "outputs": [
        {
          "output_type": "execute_result",
          "data": {
            "text/plain": [
              "array([[ 0, -3,  5],\n",
              "       [-4,  7, -3],\n",
              "       [ 5, -4,  0]])"
            ]
          },
          "metadata": {},
          "execution_count": 82
        }
      ],
      "source": [
        "np.r_[[M1[2]],[M1[1]],[M1[0]]]"
      ]
    },
    {
      "cell_type": "markdown",
      "metadata": {
        "id": "qYqtmYWpl5Je"
      },
      "source": [
        "Reverse column order to 2,1,0"
      ]
    },
    {
      "cell_type": "code",
      "execution_count": null,
      "metadata": {
        "id": "KbWjbcc6l5Je",
        "outputId": "751784ce-eae2-4b9c-dd05-cb06f16e7958",
        "colab": {
          "base_uri": "https://localhost:8080/"
        }
      },
      "outputs": [
        {
          "output_type": "execute_result",
          "data": {
            "text/plain": [
              "array([[ 0, -4,  5],\n",
              "       [-3,  7, -4],\n",
              "       [ 5, -3,  0]])"
            ]
          },
          "metadata": {},
          "execution_count": 83
        }
      ],
      "source": [
        "np.c_[ M1[:,2],M1[:,1],M1[:,0]  ]"
      ]
    },
    {
      "cell_type": "markdown",
      "metadata": {
        "id": "YI4ubPJ5l5Jf"
      },
      "source": [
        "#### It is possible to reasign a full set of rows to a matrix"
      ]
    },
    {
      "cell_type": "code",
      "execution_count": null,
      "metadata": {
        "id": "UrBA022Vl5Jf"
      },
      "outputs": [],
      "source": [
        "M1 = np.array( [[ 5,-4, 0],\n",
        "                [-4, 7,-3],\n",
        "                [ 0,-3, 5]] )"
      ]
    },
    {
      "cell_type": "code",
      "execution_count": null,
      "metadata": {
        "id": "AxQ8y6_Al5Jf",
        "outputId": "a36463f8-f2e6-42ef-c4c2-fdb6d7593db0",
        "colab": {
          "base_uri": "https://localhost:8080/"
        }
      },
      "outputs": [
        {
          "output_type": "execute_result",
          "data": {
            "text/plain": [
              "array([[ 0,  1,  0],\n",
              "       [-4,  7, -3],\n",
              "       [ 0,  0,  0]])"
            ]
          },
          "metadata": {},
          "execution_count": 87
        }
      ],
      "source": [
        "M1[[0,2]]=[[0  ,1,0.3],\n",
        "           [0.3,0,0  ]]\n",
        "M1"
      ]
    },
    {
      "cell_type": "markdown",
      "metadata": {
        "id": "KgXKvmt2l5Jf"
      },
      "source": [
        "Note that because `M1` has only integer numbers, it is assumed to be an _integer matrix_. In order to allow float assignments, it is first necessary to convert to a _float matrix_:"
      ]
    },
    {
      "cell_type": "code",
      "execution_count": null,
      "metadata": {
        "id": "qUY1y0F3l5Jf",
        "outputId": "03c93e3c-18b2-44b5-af33-6c83d42ee053",
        "colab": {
          "base_uri": "https://localhost:8080/"
        }
      },
      "outputs": [
        {
          "output_type": "execute_result",
          "data": {
            "text/plain": [
              "array([[ 0. ,  0. ,  0.3],\n",
              "       [-4. ,  7. , -3. ],\n",
              "       [ 0.3,  0. ,  0. ]])"
            ]
          },
          "metadata": {},
          "execution_count": 88
        }
      ],
      "source": [
        "M1=M1.astype(float)\n",
        "M1[[0,2]]=[[0  ,0,0.3],\n",
        "           [0.3,0,0  ]]\n",
        "M1"
      ]
    },
    {
      "cell_type": "markdown",
      "metadata": {
        "id": "LWL1z20uZemq"
      },
      "source": [
        "__WARNING__<br/>\n",
        "In some cases a  reasignment of a list or array points to the same space in memory. To really copy an array to other variable it is always recommended to use the `.copy()` method."
      ]
    },
    {
      "cell_type": "code",
      "execution_count": null,
      "metadata": {
        "id": "8ytAzCysl5Jg",
        "outputId": "9ead6c2e-ac50-4acc-ec84-4bdf4aa20197",
        "colab": {
          "base_uri": "https://localhost:8080/"
        }
      },
      "outputs": [
        {
          "output_type": "execute_result",
          "data": {
            "text/plain": [
              "array([1, 2])"
            ]
          },
          "metadata": {},
          "execution_count": 189
        }
      ],
      "source": [
        "A=np.array([1,2])\n",
        "A"
      ]
    },
    {
      "cell_type": "markdown",
      "metadata": {
        "id": "EsssKgDcl5Jg"
      },
      "source": [
        "Reassign memory space"
      ]
    },
    {
      "cell_type": "code",
      "execution_count": null,
      "metadata": {
        "id": "qopygONkl5Jg",
        "outputId": "c6d546de-3f21-4e97-ead1-f11f4489a42a",
        "colab": {
          "base_uri": "https://localhost:8080/"
        }
      },
      "outputs": [
        {
          "output_type": "execute_result",
          "data": {
            "text/plain": [
              "array([1, 2])"
            ]
          },
          "metadata": {},
          "execution_count": 190
        }
      ],
      "source": [
        "C=A\n",
        "C"
      ]
    },
    {
      "cell_type": "markdown",
      "metadata": {
        "id": "w5eohL4ll5Jg"
      },
      "source": [
        "A change is reflected in both variables"
      ]
    },
    {
      "cell_type": "code",
      "execution_count": null,
      "metadata": {
        "id": "grXFn5Dol5Jg",
        "outputId": "34042d9d-124a-45f7-a0d3-764427927805",
        "colab": {
          "base_uri": "https://localhost:8080/"
        }
      },
      "outputs": [
        {
          "output_type": "stream",
          "name": "stdout",
          "text": [
            "A=[5 2] → C=[5 2]\n"
          ]
        }
      ],
      "source": [
        "C[0]=5\n",
        "print(f'A={A} → C={C}')"
      ]
    },
    {
      "cell_type": "code",
      "execution_count": null,
      "metadata": {
        "id": "n9jyZfHcl5Jg",
        "outputId": "4cb82d63-e723-41fc-cf42-50c3a08aef0d",
        "colab": {
          "base_uri": "https://localhost:8080/"
        }
      },
      "outputs": [
        {
          "output_type": "stream",
          "name": "stdout",
          "text": [
            "A=[5 8] → C=[5 8]\n"
          ]
        }
      ],
      "source": [
        "A[1]=8\n",
        "print(f'A={A} → C={C}')"
      ]
    },
    {
      "cell_type": "markdown",
      "metadata": {
        "id": "dbgXP08gl5Jh"
      },
      "source": [
        "To keep the first memory space"
      ]
    },
    {
      "cell_type": "code",
      "execution_count": null,
      "metadata": {
        "id": "Yj3w6fRHl5Ji",
        "outputId": "7686d423-35b7-4247-cb5a-358f08327be1",
        "colab": {
          "base_uri": "https://localhost:8080/"
        }
      },
      "outputs": [
        {
          "output_type": "stream",
          "name": "stdout",
          "text": [
            "A = [5 2]\n",
            "B = [4 2]\n"
          ]
        }
      ],
      "source": [
        "B=A.copy() ## two different memory spaces\n",
        "B[0]=4\n",
        "print('A =',A)\n",
        "print('B =',B)"
      ]
    },
    {
      "cell_type": "markdown",
      "metadata": {
        "id": "0YRT7LXBl5Ji"
      },
      "source": [
        "## Matrix object"
      ]
    },
    {
      "cell_type": "markdown",
      "metadata": {
        "id": "UGdC-tLyZemY"
      },
      "source": [
        "numpy also has a Matrix object with simplified operations. However it is recommended to use the general array object even for specific matrix operations. This helps to avoid incompatibilities with usual array operations. For example, as shown below the multiplication symbol, `*`, behaves different for arrays that for matrices, and could induce to errors."
      ]
    },
    {
      "cell_type": "code",
      "execution_count": null,
      "metadata": {
        "id": "hLihVr9xZemZ",
        "outputId": "6d588093-d17b-4e3c-967a-c6cb6fc7e5cd",
        "colab": {
          "base_uri": "https://localhost:8080/"
        }
      },
      "outputs": [
        {
          "output_type": "stream",
          "name": "stdout",
          "text": [
            "[[ 5 -4  0]\n",
            " [-4  7 -3]\n",
            " [ 0 -3  5]] \n",
            "\n",
            "[[ 3 -2  1]\n",
            " [-1  5  4]\n",
            " [ 1 -2  3]]\n"
          ]
        }
      ],
      "source": [
        "#NumPy Matrix\n",
        "M1 = np.matrix( [[5,-4,0],[-4,7,-3],[0,-3,5]] )\n",
        "M2 = np.matrix( [[3,-2,1],[-1,5,4],[1,-2,3]] )\n",
        "\n",
        "print (M1, \"\\n\")\n",
        "print (M2)"
      ]
    },
    {
      "cell_type": "code",
      "execution_count": null,
      "metadata": {
        "id": "G1mmh3XZZemg",
        "outputId": "4c3d711a-c1ef-4ce8-9378-a9116423aca3",
        "colab": {
          "base_uri": "https://localhost:8080/",
          "height": 78
        }
      },
      "outputs": [
        {
          "output_type": "execute_result",
          "data": {
            "text/plain": [
              "⎡8   -6  1⎤\n",
              "⎢         ⎥\n",
              "⎢-5  12  1⎥\n",
              "⎢         ⎥\n",
              "⎣1   -5  8⎦"
            ],
            "text/latex": "$\\displaystyle \\left[\\begin{matrix}8 & -6 & 1\\\\-5 & 12 & 1\\\\1 & -5 & 8\\end{matrix}\\right]$"
          },
          "metadata": {},
          "execution_count": 102
        }
      ],
      "source": [
        "#Addition\n",
        "sympy.Matrix( M1+M2 )"
      ]
    },
    {
      "cell_type": "markdown",
      "metadata": {
        "id": "ZBEp-JGml5Jk"
      },
      "source": [
        "![MP](https://upload.wikimedia.org/wikipedia/commons/thumb/e/eb/Matrix_multiplication_diagram_2.svg/200px-Matrix_multiplication_diagram_2.svg.png)"
      ]
    },
    {
      "cell_type": "code",
      "execution_count": null,
      "metadata": {
        "id": "RUIC_PgKZemj",
        "outputId": "2f62af6a-0e9d-4702-f26f-d79f7eb3ceae",
        "colab": {
          "base_uri": "https://localhost:8080/",
          "height": 78
        }
      },
      "outputs": [
        {
          "output_type": "execute_result",
          "data": {
            "text/plain": [
              "⎡19   -30  -11⎤\n",
              "⎢             ⎥\n",
              "⎢-22  49   15 ⎥\n",
              "⎢             ⎥\n",
              "⎣ 8   -25   3 ⎦"
            ],
            "text/latex": "$\\displaystyle \\left[\\begin{matrix}19 & -30 & -11\\\\-22 & 49 & 15\\\\8 & -25 & 3\\end{matrix}\\right]$"
          },
          "metadata": {},
          "execution_count": 103
        }
      ],
      "source": [
        "#Multiplication\n",
        "sympy.Matrix( M1*M2 )"
      ]
    },
    {
      "cell_type": "markdown",
      "metadata": {
        "id": "1bTZjPRGZeml"
      },
      "source": [
        "## Basic operations with matrices"
      ]
    },
    {
      "cell_type": "markdown",
      "metadata": {
        "id": "-iW4rEeeZemm"
      },
      "source": [
        "In order to simplify the following methods, we introduce here 3 basic operations over linear systems:\n",
        "\n",
        "1. The $i$-th row $E_i$ can be multiplied by a non-zero constant $\\lambda$, and then a new row used in place of $E_i$, i.e. $(E_i)\\rightarrow (\\lambda E_i)$. We denote this operation as $\\operatorname{Lamb}(E_i,\\lambda)$.\n",
        "2. The $j$-th row $E_j$ can be multiplied by a non-zero constant $\\lambda$ and added to some row $E_i$. The resulting value take the place of $E_i$, i.e. $(E_i) \\rightarrow (E_i + \\lambda E_j)$. We denote this operation as $\\operatorname{Comb}(E_i,E_j,\\lambda)$.\n",
        "3. Finally, we define a swapping of two rows as $(E_i)\\leftrightarrow (E_j)$, denoted as $\\operatorname{Swap}(E_i,E_j)$"
      ]
    },
    {
      "cell_type": "markdown",
      "metadata": {
        "id": "0RGhUwogZemm"
      },
      "source": [
        "#### Extract rows from an array"
      ]
    },
    {
      "cell_type": "markdown",
      "metadata": {
        "id": "4X53NZ-oZemn"
      },
      "source": [
        "## <font color='red'>     **Activity** </font>"
      ]
    },
    {
      "cell_type": "markdown",
      "metadata": {
        "id": "EAkZ93kZZemo"
      },
      "source": [
        "Write three routines that perform, given a matrix $A$, the previous operations over matrices:"
      ]
    },
    {
      "cell_type": "markdown",
      "metadata": {
        "id": "8XBhFQGSZemq"
      },
      "source": [
        "* `row_lamb(i, λ, A)`: `i` is the row to be changed, `λ` the multiplicative factor and `A` the matrix. This function should return the new matrix with the performed operation $(E_i)\\rightarrow (\\lambda E_i)$.\n",
        "* `row_comb(i, j, λ, A)`: `i` is the row to be changed, `j` the row to be added, `λ` the multiplicative factor and `A` the matrix. This function should return the new matrix with the performed operation $(E_i) \\rightarrow  (E_i + \\lambda E_j)$.\n",
        "* `row_swap(i, j, A)`: `i` and `j` are the rows to be swapped. This function should return the new matrix with the performed operation $(E_i)\\leftrightarrow (E_j)$.\n",
        "\n",
        "... Check the next implementation"
      ]
    },
    {
      "cell_type": "code",
      "metadata": {
        "id": "t8aEoevvZem_"
      },
      "source": [
        "import numbers\n",
        "\n",
        "#Combination function\n",
        "#Force the matrix to has type float\n",
        "def row_lamb( i, λ, A ):\n",
        "    B = A.copy()\n",
        "    if isinstance(B[0,0],numbers.Integral):\n",
        "        B=B.astype(float)\n",
        "    B[i] = λ*B[i]\n",
        "    return B\n",
        "\n",
        "def row_comb( i, j, λ, A ):\n",
        "    B = A.copy()\n",
        "    if isinstance(B[0,0],numbers.Integral):\n",
        "        B=B.astype(float)\n",
        "    B[i] = λ*B[j] + B[i]\n",
        "    return B\n",
        "\n",
        "def row_swap( i, j, A ):\n",
        "    B = A.copy()\n",
        "    B[[i,j]] = B[[j,i]]\n",
        "    return B"
      ],
      "execution_count": null,
      "outputs": []
    },
    {
      "cell_type": "code",
      "execution_count": 8,
      "metadata": {
        "id": "tEq4vbtSl5Jm"
      },
      "outputs": [],
      "source": [
        "def row_sawp(i,j,A):\n",
        "    '''\n",
        "    i and j are the rows to be swapped\n",
        "    '''\n",
        "    B=A.copy()\n",
        "    B[[i,j]]=B[[j,i]]\n",
        "    return B\n",
        "\n",
        "def row_comb(i,j,λ,A):\n",
        "    '''\n",
        "    `i` is the row to be changed,\n",
        "    `j` the row to be added\n",
        "    `λ` the multiplicative factor\n",
        "    `A` the matrix.\n",
        "    operation\n",
        "    ---------\n",
        "    E_i→ E_i+λ*E_j\n",
        "    '''\n",
        "    B=A.copy()\n",
        "    if B.dtype==np.dtype('int64'):\n",
        "        B=B.astype(float)\n",
        "    B[i]=B[i]+λ*B[j]\n",
        "    return B\n",
        "\n",
        "def row_lamb(i,λ,A):\n",
        "    '''\n",
        "    `i` is the row to be changed,\n",
        "    `λ` the multiplicative factor\n",
        "    `A` the matrix.\n",
        "    operation\n",
        "    ---------\n",
        "    λ → λ*E_i\n",
        "    '''\n",
        "    B=A.copy()\n",
        "    if B.dtype==np.dtype('int64'):\n",
        "        B=B.astype(float)\n",
        "    B[i]=λ*B[i]\n",
        "    return B"
      ]
    },
    {
      "cell_type": "markdown",
      "metadata": {
        "id": "JxCyyDCtl5Jm"
      },
      "source": [
        "Check with"
      ]
    },
    {
      "cell_type": "code",
      "execution_count": null,
      "metadata": {
        "id": "bV5NW5IHl5Jm"
      },
      "outputs": [],
      "source": [
        "import numpy as np\n",
        "import sympy"
      ]
    },
    {
      "cell_type": "code",
      "execution_count": null,
      "metadata": {
        "id": "hOQIxpL2l5Jn",
        "outputId": "87a0e0e8-9d3f-474f-eacb-bd67f70a91d3",
        "colab": {
          "base_uri": "https://localhost:8080/"
        }
      },
      "outputs": [
        {
          "output_type": "execute_result",
          "data": {
            "text/plain": [
              "array([[ 5, -4,  0],\n",
              "       [-4,  7, -3],\n",
              "       [ 0, -3,  5]])"
            ]
          },
          "metadata": {},
          "execution_count": 42
        }
      ],
      "source": [
        "M1=np.array( [[5,-4,0],[-4,7,-3],[0,-3,5]] )\n",
        "M1"
      ]
    },
    {
      "cell_type": "code",
      "execution_count": null,
      "metadata": {
        "id": "x8k3rJKVl5Jn",
        "outputId": "7c888673-433a-49ab-bd7f-d83ede2666c3",
        "colab": {
          "base_uri": "https://localhost:8080/"
        }
      },
      "outputs": [
        {
          "output_type": "execute_result",
          "data": {
            "text/plain": [
              "array([[  5. ,  -4. ,   0. ],\n",
              "       [-13.6,  23.8, -10.2],\n",
              "       [  0. ,  -3. ,   5. ]])"
            ]
          },
          "metadata": {},
          "execution_count": 197
        }
      ],
      "source": [
        "row_lamb(1,3.4,M1)"
      ]
    },
    {
      "cell_type": "code",
      "execution_count": null,
      "metadata": {
        "id": "3mp7Scfcl5Jn",
        "outputId": "50d5dde5-e78c-4f13-b69f-2d6488588950",
        "colab": {
          "base_uri": "https://localhost:8080/"
        }
      },
      "outputs": [
        {
          "output_type": "execute_result",
          "data": {
            "text/plain": [
              "array([[ 0.  ,  4.75, -3.75],\n",
              "       [-4.  ,  7.  , -3.  ],\n",
              "       [ 0.  , -3.  ,  5.  ]])"
            ]
          },
          "metadata": {},
          "execution_count": 198
        }
      ],
      "source": [
        "row_comb(0,1,5/4,M1)"
      ]
    },
    {
      "cell_type": "code",
      "execution_count": null,
      "metadata": {
        "id": "NGqyEEQ1l5Jn",
        "outputId": "7a2497ba-e257-49b5-ffdf-d76ae2467a5a",
        "colab": {
          "base_uri": "https://localhost:8080/"
        }
      },
      "outputs": [
        {
          "output_type": "execute_result",
          "data": {
            "text/plain": [
              "array([[-4,  7, -3],\n",
              "       [ 5, -4,  0],\n",
              "       [ 0, -3,  5]])"
            ]
          },
          "metadata": {},
          "execution_count": 137
        }
      ],
      "source": [
        "row_sawp(0,1,M1)"
      ]
    },
    {
      "cell_type": "markdown",
      "metadata": {
        "id": "Q8nfRt1uZenB",
        "tags": []
      },
      "source": [
        "## **Gaussian Elimination**"
      ]
    },
    {
      "cell_type": "markdown",
      "metadata": {
        "id": "IO5SMLhJZejA"
      },
      "source": [
        "### Example 1"
      ]
    },
    {
      "cell_type": "markdown",
      "metadata": {
        "id": "0K83kD95ZejD"
      },
      "source": [
        "Using Kirchhoff's circuit laws, it is possible to solve the next system:\n",
        "\n",
        "![](https://raw.githubusercontent.com/sbustamante/ComputationalMethods/master/material/figures/circuit.png)\n",
        "\n",
        "obtaining the next equations:\n",
        "\n",
        "\\begin{align}\n",
        "A:&&I_A( R+4R ) - I_B( 4R ) =& E \\\\\n",
        "C:&&-I_A( 4R ) + I_B( 4R + 3R ) - I_C(3R) =& 0 \\\\\n",
        "B:&&-I_B( 3R ) + I_C(3R+2R) =& -2E\\,\n",
        "\\end{align}\n",
        "or\n",
        "\\begin{align}\n",
        "5\\frac{I_A R }{E} - 4\\frac{I_B R }{E} =& 1 \\\\\n",
        "-4 \\frac{I_A R }{E} + 7\\frac{I_B R }{E} - 3 \\frac{I_C R }{E} =& 0 \\\\\n",
        "-3 \\frac{I_B R }{E} + 5 \\frac{I_C R }{E} =& -2\\,.\n",
        "\\end{align}\n",
        "\n",
        "Defining the variables $x_1 = R I_A/E$, $x_2 = R I_B/E$ and $x_3 = R I_C/E$ we have\n",
        "\\begin{align}\n",
        "5x_1 - 4x_2 =& 1 \\\\\n",
        "-4 x_1 + 7x_2 - 3 x_3 =& 0 \\\\\n",
        "-3x_2 + 5 x_3 =& -2\\,.\n",
        "\\end{align}\n"
      ]
    },
    {
      "cell_type": "markdown",
      "metadata": {
        "id": "lAUkwCy3l5Jo"
      },
      "source": [
        "A first method to solve linear systems of equations is the Gaussian elimination. This procedure consists of a set of recursive steps performed in order to diagonalise the matrix of the problem. A suitable way to introduce this method is applying it to some basic problem. To do so, let's take the result of the [Example 1](#Example-1):\n",
        "\n",
        "$$ \\left[ \\matrix{\n",
        "5 & -4 & 0 \\\\\n",
        "-4 & 7 & -3 \\\\\n",
        "0 & -3 & 5\n",
        "}\\right]\n",
        "\\left[ \\matrix{\n",
        "x_{1} \\\\\n",
        "x_{2} \\\\\n",
        "x_{3}\n",
        "}\\right]  =\n",
        "\\left[ \\matrix{\n",
        "1 \\\\\n",
        "0 \\\\\n",
        "-2\n",
        "}\\right]$$\n",
        "\n",
        "Constructing the associated augmented matrix, we obtain\n",
        "\n",
        "$$ \\left[ \\matrix{\n",
        "5 & -4 & 0 & \\vdots & 1 \\\\\n",
        "-4 & 7 & -3 & \\vdots & 0 \\\\\n",
        "0 & -3 & 5 & \\vdots & -2\n",
        "}\\right] $$"
      ]
    },
    {
      "cell_type": "markdown",
      "metadata": {
        "id": "Q_hPrF_ol5Jo"
      },
      "source": [
        "#### <span style=\"color:red\"> Activity </span>\n",
        "Use numpy functions to build the augmented matrix M1"
      ]
    },
    {
      "cell_type": "code",
      "execution_count": 2,
      "metadata": {
        "id": "NpdNNvRUZenP",
        "outputId": "8667654a-54f6-4773-c3cf-6a9632813e7f",
        "colab": {
          "base_uri": "https://localhost:8080/",
          "height": 78
        }
      },
      "outputs": [
        {
          "output_type": "execute_result",
          "data": {
            "text/plain": [
              "Matrix([\n",
              "[ 5, -4,  0],\n",
              "[-4,  7, -3],\n",
              "[ 0, -3,  5]])"
            ],
            "text/latex": "$\\displaystyle \\left[\\begin{matrix}5 & -4 & 0\\\\-4 & 7 & -3\\\\0 & -3 & 5\\end{matrix}\\right]$"
          },
          "metadata": {},
          "execution_count": 2
        }
      ],
      "source": [
        "M1 = np.array( [[5,-4,0],[-4,7,-3],[0,-3,5]] )\n",
        "sympy.Matrix(M1)"
      ]
    },
    {
      "cell_type": "code",
      "execution_count": 3,
      "metadata": {
        "id": "Az9MIJmcl5Jp",
        "outputId": "b7518e31-48ec-4cec-ae7a-0dcdf30c6176",
        "colab": {
          "base_uri": "https://localhost:8080/"
        }
      },
      "outputs": [
        {
          "output_type": "execute_result",
          "data": {
            "text/plain": [
              "array([[ 1],\n",
              "       [ 0],\n",
              "       [-2]])"
            ]
          },
          "metadata": {},
          "execution_count": 3
        }
      ],
      "source": [
        "np.array( [[1],[0],[-2]] )"
      ]
    },
    {
      "cell_type": "code",
      "execution_count": 4,
      "metadata": {
        "id": "Ia53Vyjcl5Jp",
        "outputId": "2eb71dbc-a638-484d-d9dc-1bcbcef6f6d6",
        "colab": {
          "base_uri": "https://localhost:8080/",
          "height": 78
        }
      },
      "outputs": [
        {
          "output_type": "execute_result",
          "data": {
            "text/plain": [
              "Matrix([\n",
              "[ 5, -4,  0,  1],\n",
              "[-4,  7, -3,  0],\n",
              "[ 0, -3,  5, -2]])"
            ],
            "text/latex": "$\\displaystyle \\left[\\begin{matrix}5 & -4 & 0 & 1\\\\-4 & 7 & -3 & 0\\\\0 & -3 & 5 & -2\\end{matrix}\\right]$"
          },
          "metadata": {},
          "execution_count": 4
        }
      ],
      "source": [
        "M1_aug=np.c_[ M1, [[1],[0],[-2]] ]\n",
        "sympy.Matrix(M1_aug)"
      ]
    },
    {
      "cell_type": "markdown",
      "metadata": {
        "id": "cm8Qb04Rl5Jq"
      },
      "source": [
        "or"
      ]
    },
    {
      "cell_type": "code",
      "execution_count": 5,
      "metadata": {
        "id": "HFlAWnoOl5Jq",
        "outputId": "fb9eebcc-ee52-430b-8461-8d8e9afc2efa",
        "colab": {
          "base_uri": "https://localhost:8080/",
          "height": 78
        }
      },
      "outputs": [
        {
          "output_type": "execute_result",
          "data": {
            "text/plain": [
              "Matrix([\n",
              "[ 5, -4,  0,  1],\n",
              "[-4,  7, -3,  0],\n",
              "[ 0, -3,  5, -2]])"
            ],
            "text/latex": "$\\displaystyle \\left[\\begin{matrix}5 & -4 & 0 & 1\\\\-4 & 7 & -3 & 0\\\\0 & -3 & 5 & -2\\end{matrix}\\right]$"
          },
          "metadata": {},
          "execution_count": 5
        }
      ],
      "source": [
        "M1_aug=np.hstack( (M1,[[1],[0],[-2]]))\n",
        "sympy.Matrix(M1_aug)"
      ]
    },
    {
      "cell_type": "markdown",
      "metadata": {
        "id": "j11DZypkl5Jq"
      },
      "source": [
        "At this point, we can eliminate the coefficients of the variable $x_1$ in the second and third equations. For this, we apply the operations $\\operatorname{Comb}(E_2,E_1,4/5)$.\n",
        "\n",
        "$E_2$ → `[-4,7,-3⋮0]+[4,-16/5,0⋮4/5]=[0,19/5,-3⋮4/5]`\n",
        "\n",
        "\n",
        "The coefficient in the third equation is already null. We then obtain:\n",
        "\n",
        "$$ \\left[ \\matrix{\n",
        "5 & -4 & 0 & \\vdots & 1 \\\\\n",
        "0 & 19/5 & -3 & \\vdots & 4/5 \\\\\n",
        "0 & -3 & 5 & \\vdots & -2\n",
        "}\\right] $$"
      ]
    },
    {
      "cell_type": "code",
      "execution_count": 9,
      "metadata": {
        "id": "luGRvl74l5Jq",
        "outputId": "19d9ae53-8da1-491c-8ecc-329c6785d3b4",
        "colab": {
          "base_uri": "https://localhost:8080/"
        }
      },
      "outputs": [
        {
          "output_type": "execute_result",
          "data": {
            "text/plain": [
              "array([[ 5. , -4. ,  0. ,  1. ],\n",
              "       [ 0. ,  3.8, -3. ,  0.8],\n",
              "       [ 0. , -3. ,  5. , -2. ]])"
            ]
          },
          "metadata": {},
          "execution_count": 9
        }
      ],
      "source": [
        "M1_LU=row_comb(1,0,4/5,M1_aug)\n",
        "M1_LU"
      ]
    },
    {
      "cell_type": "markdown",
      "metadata": {
        "id": "B9sMGpvNl5Jr"
      },
      "source": [
        "Now, we proceed to eliminate the coefficient of $x_2$ in the third equation. For this, we apply again $\\operatorname{Comb}(E_3,E_2,3\\cdot 5/19)$\n",
        "\n",
        "$E_3$ → `[0,-3,5⋮-2]+[0,(3*5/19)*(19/5),-(3*5/19)*3⋮(3*5/19)*4/5]→[0,0,50/19⋮-26/19]`\n",
        "\n",
        "\n",
        "$$ \\left[ \\matrix{\n",
        "5 & -4 & 0 & \\vdots & 1 \\\\\n",
        "0 & 16/5 & -3 & \\vdots & 4/5 \\\\\n",
        "0 & 0 & 50/19 & \\vdots & -26/19\n",
        "}\\right] $$"
      ]
    },
    {
      "cell_type": "code",
      "execution_count": 10,
      "metadata": {
        "id": "YYjKzqAMl5Jr",
        "outputId": "598cf3af-4ec0-44e5-9dd0-c01d31159e43",
        "colab": {
          "base_uri": "https://localhost:8080/"
        }
      },
      "outputs": [
        {
          "output_type": "execute_result",
          "data": {
            "text/plain": [
              "array([[ 5.        , -4.        ,  0.        ,  1.        ],\n",
              "       [ 0.        ,  3.8       , -3.        ,  0.8       ],\n",
              "       [ 0.        ,  0.        ,  2.63157895, -1.36842105]])"
            ]
          },
          "metadata": {},
          "execution_count": 10
        }
      ],
      "source": [
        "M1_LU=row_comb(2,1,3*5/19,M1_LU)\n",
        "M1_LU"
      ]
    },
    {
      "cell_type": "markdown",
      "metadata": {
        "id": "sQt7A74qZenC"
      },
      "source": [
        "The final step is to solve for $x_3$ in the last equation, doing the operation $\\operatorname{Lamb}(E_3,19/50)$, yielding:\n",
        "\n",
        "$$ \\left[ \\matrix{\n",
        "5 & -4 & 0 & \\vdots & 1 \\\\\n",
        "0 & 3.8 & -3 & \\vdots & 0.8 \\\\\n",
        "0 & 0 & 1 & \\vdots & -26/50\n",
        "}\\right] $$\n",
        "\n",
        "From this, it is direct to conclude that $x_3 = -26/50=-0.52$, for $x_2$ and $x_1$ it is only necessary to replace the found value of $x_3$."
      ]
    },
    {
      "cell_type": "code",
      "execution_count": 11,
      "metadata": {
        "id": "gDihvDi7l5Js",
        "colab": {
          "base_uri": "https://localhost:8080/"
        },
        "outputId": "0ac6a072-dacb-4eb5-9d02-1b1065d74667"
      },
      "outputs": [
        {
          "output_type": "execute_result",
          "data": {
            "text/plain": [
              "array([[ 5.  , -4.  ,  0.  ,  1.  ],\n",
              "       [ 0.  ,  3.8 , -3.  ,  0.8 ],\n",
              "       [ 0.  ,  0.  ,  1.  , -0.52]])"
            ]
          },
          "metadata": {},
          "execution_count": 11
        }
      ],
      "source": [
        "M1_LU = row_lamb(2,19/50,M1_LU)\n",
        "M1_LU"
      ]
    },
    {
      "cell_type": "code",
      "source": [
        "M1_LU"
      ],
      "metadata": {
        "colab": {
          "base_uri": "https://localhost:8080/"
        },
        "id": "lGFyXqBCxcpW",
        "outputId": "0a7388bd-1621-4647-ac1b-989cfae50204"
      },
      "execution_count": 12,
      "outputs": [
        {
          "output_type": "execute_result",
          "data": {
            "text/plain": [
              "array([[ 5.  , -4.  ,  0.  ,  1.  ],\n",
              "       [ 0.  ,  3.8 , -3.  ,  0.8 ],\n",
              "       [ 0.  ,  0.  ,  1.  , -0.52]])"
            ]
          },
          "metadata": {},
          "execution_count": 12
        }
      ]
    },
    {
      "cell_type": "code",
      "source": [
        "M1_LU = row_comb(1,2,3,M1_LU)\n",
        "M1_LU"
      ],
      "metadata": {
        "colab": {
          "base_uri": "https://localhost:8080/"
        },
        "id": "_YIIQoi4xcVL",
        "outputId": "0e7979e0-fc02-4586-b9d6-9eac93211dcb"
      },
      "execution_count": 13,
      "outputs": [
        {
          "output_type": "execute_result",
          "data": {
            "text/plain": [
              "array([[ 5.  , -4.  ,  0.  ,  1.  ],\n",
              "       [ 0.  ,  3.8 ,  0.  , -0.76],\n",
              "       [ 0.  ,  0.  ,  1.  , -0.52]])"
            ]
          },
          "metadata": {},
          "execution_count": 13
        }
      ]
    },
    {
      "cell_type": "code",
      "source": [
        "M1_LU = row_lamb(1,1/(3.8),M1_LU)\n",
        "M1_LU"
      ],
      "metadata": {
        "colab": {
          "base_uri": "https://localhost:8080/"
        },
        "id": "WnZ583p7x8i6",
        "outputId": "e33cb634-ecfa-43df-ab18-6b94d6240815"
      },
      "execution_count": 14,
      "outputs": [
        {
          "output_type": "execute_result",
          "data": {
            "text/plain": [
              "array([[ 5.  , -4.  ,  0.  ,  1.  ],\n",
              "       [ 0.  ,  1.  ,  0.  , -0.2 ],\n",
              "       [ 0.  ,  0.  ,  1.  , -0.52]])"
            ]
          },
          "metadata": {},
          "execution_count": 14
        }
      ]
    },
    {
      "cell_type": "code",
      "source": [
        "M1_LU = row_lamb(0,1/5,M1_LU)\n",
        "M1_LU"
      ],
      "metadata": {
        "colab": {
          "base_uri": "https://localhost:8080/"
        },
        "id": "JRXkO6pYy1tK",
        "outputId": "5c4e528c-8577-4cbc-dd87-41d0992f0ea5"
      },
      "execution_count": 15,
      "outputs": [
        {
          "output_type": "execute_result",
          "data": {
            "text/plain": [
              "array([[ 1.  , -0.8 ,  0.  ,  0.2 ],\n",
              "       [ 0.  ,  1.  ,  0.  , -0.2 ],\n",
              "       [ 0.  ,  0.  ,  1.  , -0.52]])"
            ]
          },
          "metadata": {},
          "execution_count": 15
        }
      ]
    },
    {
      "cell_type": "code",
      "source": [
        "M1_LU = row_comb(0,1,0.8,M1_LU)\n",
        "np.round(M1_LU,3)"
      ],
      "metadata": {
        "colab": {
          "base_uri": "https://localhost:8080/"
        },
        "id": "IDsi0ZAuy1ed",
        "outputId": "43a9828d-9fcf-4031-8dea-e5311640d8bf"
      },
      "execution_count": 16,
      "outputs": [
        {
          "output_type": "execute_result",
          "data": {
            "text/plain": [
              "array([[ 1.  , -0.  ,  0.  ,  0.04],\n",
              "       [ 0.  ,  1.  ,  0.  , -0.2 ],\n",
              "       [ 0.  ,  0.  ,  1.  , -0.52]])"
            ]
          },
          "metadata": {},
          "execution_count": 16
        }
      ]
    },
    {
      "cell_type": "code",
      "source": [
        "np.round(M1_LU,3)\n",
        "sympy.Matrix(np.round(M1_LU,3))"
      ],
      "metadata": {
        "colab": {
          "base_uri": "https://localhost:8080/",
          "height": 78
        },
        "id": "JjUfCg1lxcJ7",
        "outputId": "7673bbd1-5a16-4302-f3da-7245bfe5975c"
      },
      "execution_count": 18,
      "outputs": [
        {
          "output_type": "execute_result",
          "data": {
            "text/plain": [
              "Matrix([\n",
              "[1.0, 0.0, 0.0,  0.04],\n",
              "[0.0, 1.0, 0.0,  -0.2],\n",
              "[0.0, 0.0, 1.0, -0.52]])"
            ],
            "text/latex": "$\\displaystyle \\left[\\begin{matrix}1.0 & 0.0 & 0.0 & 0.04\\\\0.0 & 1.0 & 0.0 & -0.2\\\\0.0 & 0.0 & 1.0 & -0.52\\end{matrix}\\right]$"
          },
          "metadata": {},
          "execution_count": 18
        }
      ]
    },
    {
      "cell_type": "markdown",
      "source": [
        "$x_1=0.04$,. $x_2=-0.2$, $x_3=-0.52$"
      ],
      "metadata": {
        "id": "tkNw3MENzlfB"
      }
    },
    {
      "cell_type": "markdown",
      "metadata": {
        "id": "iWuDJ8xYl5Js"
      },
      "source": [
        "## <font color='red'> Implementation in numpy\n",
        "with `np.linalg.solve`"
      ]
    },
    {
      "cell_type": "code",
      "execution_count": null,
      "metadata": {
        "id": "T-I4PYdkl5Js"
      },
      "outputs": [],
      "source": [
        "np.linalg.solve?"
      ]
    },
    {
      "cell_type": "code",
      "source": [
        "M1 = np.array( [[5,-4,0],[-4,7,-3],[0,-3,5]] )\n",
        "sympy.Matrix(M1)"
      ],
      "metadata": {
        "colab": {
          "base_uri": "https://localhost:8080/",
          "height": 78
        },
        "id": "nA-N1ZV40Dxz",
        "outputId": "235ee239-bc7c-4927-dc9c-55e6e0c1b407"
      },
      "execution_count": null,
      "outputs": [
        {
          "output_type": "execute_result",
          "data": {
            "text/plain": [
              "Matrix([\n",
              "[ 5, -4,  0],\n",
              "[-4,  7, -3],\n",
              "[ 0, -3,  5]])"
            ],
            "text/latex": "$\\displaystyle \\left[\\begin{matrix}5 & -4 & 0\\\\-4 & 7 & -3\\\\0 & -3 & 5\\end{matrix}\\right]$"
          },
          "metadata": {},
          "execution_count": 7
        }
      ]
    },
    {
      "cell_type": "code",
      "execution_count": null,
      "metadata": {
        "id": "lf9TzDAFl5Js",
        "outputId": "4589388c-52ed-4090-acef-c09e539d5bd7",
        "colab": {
          "base_uri": "https://localhost:8080/"
        }
      },
      "outputs": [
        {
          "output_type": "execute_result",
          "data": {
            "text/plain": [
              "array([ 0.04, -0.2 , -0.52])"
            ]
          },
          "metadata": {},
          "execution_count": 8
        }
      ],
      "source": [
        "np.linalg.solve(M1,[1,0,-2])"
      ]
    },
    {
      "cell_type": "code",
      "source": [
        "np.linalg.lu(M1)"
      ],
      "metadata": {
        "colab": {
          "base_uri": "https://localhost:8080/",
          "height": 141
        },
        "id": "iTJ64fyTbdd5",
        "outputId": "48268af3-d3a1-4365-9889-1cb032b57e83"
      },
      "execution_count": null,
      "outputs": [
        {
          "output_type": "error",
          "ename": "AttributeError",
          "evalue": "module 'numpy.linalg' has no attribute 'lu'",
          "traceback": [
            "\u001b[0;31m---------------------------------------------------------------------------\u001b[0m",
            "\u001b[0;31mAttributeError\u001b[0m                            Traceback (most recent call last)",
            "\u001b[0;32m/tmp/ipython-input-10-1712987839.py\u001b[0m in \u001b[0;36m<cell line: 0>\u001b[0;34m()\u001b[0m\n\u001b[0;32m----> 1\u001b[0;31m \u001b[0mnp\u001b[0m\u001b[0;34m.\u001b[0m\u001b[0mlinalg\u001b[0m\u001b[0;34m.\u001b[0m\u001b[0mlu\u001b[0m\u001b[0;34m(\u001b[0m\u001b[0mM1\u001b[0m\u001b[0;34m)\u001b[0m\u001b[0;34m\u001b[0m\u001b[0;34m\u001b[0m\u001b[0m\n\u001b[0m",
            "\u001b[0;31mAttributeError\u001b[0m: module 'numpy.linalg' has no attribute 'lu'"
          ]
        }
      ]
    },
    {
      "cell_type": "markdown",
      "metadata": {
        "id": "6Jp7iXYHZei2",
        "tags": []
      },
      "source": [
        "## Linear Systems of Equations"
      ]
    },
    {
      "cell_type": "markdown",
      "metadata": {
        "id": "2ZEA0FwkZei4"
      },
      "source": [
        "A linear system is a set of equations of $n$ variables that can be written in a general form:\n",
        "\n",
        "$$ a_{11}x_1 + a_{12}x_2 + \\cdots +a_{1n}x_n = b_1 $$\n",
        "$$\\vdots$$\n",
        "$$ a_{m1}x_1 + a_{m2}x_2 + \\cdots +a_{mn}x_n = b_n $$\n",
        "\n",
        "where $n$ is, again, the number of variables, and $m$ the number of equations.\n",
        "\n",
        "A linear system has solution if and only if $m\\geq n$. This leads us to the main objetive of a linear system, find the set $\\{x_i\\}_{i=0}^n$ that fulfills all the equations.\n",
        "\n",
        "Although there is an intuitive way to solve this type of systems, by just adding and subtracting equations until reaching the desire result, the large number of variables of some systems found in physics and astronomy makes necessary to develop iterative and general approaches. Next, we shall introduce matrix and vector notation and some basic operations that will be the basis of the methods to be developed in this section."
      ]
    },
    {
      "cell_type": "markdown",
      "metadata": {
        "id": "uahDSxiBZei7"
      },
      "source": [
        "### Matrices and vectors"
      ]
    },
    {
      "cell_type": "markdown",
      "metadata": {
        "id": "17lrFAoiZei8"
      },
      "source": [
        "A $m\\times n$ matrix can be defined as a set of numbers arranged in columns and rows such as:\n",
        "\n",
        "$$ A = [a_{ij}] = \\left[ \\matrix{\n",
        "a_{11} & a_{12} & \\cdots & a_{1n} \\\\\n",
        "a_{21} & a_{22} & \\cdots & a_{2n} \\\\\n",
        "\\vdots & \\vdots & & \\vdots\\\\\n",
        "a_{m1} & a_{m2} & \\cdots & a_{mn}\n",
        "}\\right] $$\n",
        "\n",
        "In the same way, it is possible to define a $n$-dimensional column vector as\n",
        "\n",
        "$$ \\boldsymbol{x} =  \\left[ \\matrix{\n",
        "x_{1} \\\\\n",
        "x_{2} \\\\\n",
        "\\vdots\\\\\n",
        "x_{n}\n",
        "}\\right] $$\n",
        "\n",
        "and a column vector of constant coefficients\n",
        "\n",
        "$$ \\boldsymbol{b} = \\left[ \\matrix{\n",
        "b_{1} \\\\\n",
        "b_{2} \\\\\n",
        "\\vdots \\\\\n",
        "b_{n}\n",
        "}\\right] $$"
      ]
    },
    {
      "cell_type": "markdown",
      "metadata": {
        "id": "mRMZJiYNZei_"
      },
      "source": [
        "The system of equations\n",
        "\n",
        "$$ a_{11}x_1 + a_{12}x_2 + \\cdots a_{1n}x_n = b_1 $$\n",
        "$$\\vdots$$\n",
        "$$ a_{m1}x_1 + a_{m2}x_2 + \\cdots a_{mn}x_n = b_n $$\n",
        "\n",
        "can be then written in a more convenient way as\n",
        "\n",
        "$$ A \\textbf{x} =  \\left[ \\matrix{\n",
        "a_{11} & a_{12} & \\cdots & a_{1n} \\\\\n",
        "a_{21} & a_{22} & \\cdots & a_{2n} \\\\\n",
        "\\vdots & \\vdots & & \\vdots\\\\\n",
        "a_{m1} & a_{m2} & \\cdots & a_{mn}\n",
        "}\\right]\n",
        "\\left[ \\matrix{\n",
        "x_{1} \\\\\n",
        "x_{2} \\\\\n",
        "\\vdots\\\\\n",
        "x_{n}\n",
        "}\\right]  = \\boldsymbol{b} =\n",
        "\\left[ \\matrix{\n",
        "b_{1} \\\\\n",
        "b_{2} \\\\\n",
        "\\vdots\\\\\n",
        "b_{n}\n",
        "}\\right]$$\n",
        "\n",
        "We can also introducing the $n\\times (n+1)$ **augmented matrix** as\n",
        "\n",
        "$$[A:\\textbf{b}] =  \\left[ \\matrix{\n",
        "a_{11} & a_{12} & \\cdots & a_{1n} & \\vdots & b_1 \\\\\n",
        "a_{21} & a_{22} & \\cdots & a_{2n} & \\vdots & b_2 \\\\\n",
        "\\vdots & \\vdots & & \\vdots & \\vdots & \\vdots \\\\\n",
        "a_{m1} & a_{n2} & \\cdots & a_{nn} & \\vdots & b_n\n",
        "}\\right]$$"
      ]
    },
    {
      "cell_type": "markdown",
      "metadata": {
        "id": "Cus4F61ul5Ju"
      },
      "source": [
        "#### Implementation in Scipy"
      ]
    },
    {
      "cell_type": "code",
      "execution_count": null,
      "metadata": {
        "id": "FZ8Ygsw9l5Jv"
      },
      "outputs": [],
      "source": [
        "import scipy.linalg as linalg\n",
        "import sympy"
      ]
    },
    {
      "cell_type": "code",
      "execution_count": null,
      "metadata": {
        "id": "G4cBgPHul5Jv",
        "outputId": "232dc02f-8ee2-4d23-c0e1-6e5133979d87",
        "colab": {
          "base_uri": "https://localhost:8080/"
        }
      },
      "outputs": [
        {
          "output_type": "stream",
          "name": "stdout",
          "text": [
            "Object `linalg.lu` not found.\n"
          ]
        }
      ],
      "source": [
        "linalg.lu?"
      ]
    },
    {
      "cell_type": "code",
      "execution_count": null,
      "metadata": {
        "id": "X3mv8xSvl5Jv",
        "outputId": "7f7a48e1-4097-49ac-a437-6cb27fca4191",
        "colab": {
          "base_uri": "https://localhost:8080/",
          "height": 78
        }
      },
      "outputs": [
        {
          "output_type": "execute_result",
          "data": {
            "text/plain": [
              "Matrix([\n",
              "[ 5, -4,  0,  1],\n",
              "[-4,  7, -3,  0],\n",
              "[ 0, -3,  5, -2]])"
            ],
            "text/latex": "$\\displaystyle \\left[\\begin{matrix}5 & -4 & 0 & 1\\\\-4 & 7 & -3 & 0\\\\0 & -3 & 5 & -2\\end{matrix}\\right]$"
          },
          "metadata": {},
          "execution_count": 12
        }
      ],
      "source": [
        "M1 = np.array( [[5,-4,0],[-4,7,-3],[0,-3,5]] )\n",
        "M1_aug=np.c_[ M1, [[1],[0],[-2]] ]\n",
        "sympy.Matrix(M1_aug)"
      ]
    },
    {
      "cell_type": "code",
      "source": [
        "linalg.lu(M1_aug)"
      ],
      "metadata": {
        "colab": {
          "base_uri": "https://localhost:8080/"
        },
        "id": "pjd3w0elaO1s",
        "outputId": "2f22f251-3b3f-4eb2-b2d7-cf89fe08b730"
      },
      "execution_count": null,
      "outputs": [
        {
          "output_type": "execute_result",
          "data": {
            "text/plain": [
              "(array([[1., 0., 0.],\n",
              "        [0., 1., 0.],\n",
              "        [0., 0., 1.]]),\n",
              " array([[ 1.        ,  0.        ,  0.        ],\n",
              "        [-0.8       ,  1.        ,  0.        ],\n",
              "        [ 0.        , -0.78947368,  1.        ]]),\n",
              " array([[ 5.        , -4.        ,  0.        ,  1.        ],\n",
              "        [ 0.        ,  3.8       , -3.        ,  0.8       ],\n",
              "        [ 0.        ,  0.        ,  2.63157895, -1.36842105]]))"
            ]
          },
          "metadata": {},
          "execution_count": 13
        }
      ]
    },
    {
      "cell_type": "code",
      "execution_count": null,
      "metadata": {
        "id": "CDlCuoTeZene"
      },
      "outputs": [],
      "source": [
        "P,L,U=linalg.lu(M1_aug)"
      ]
    },
    {
      "cell_type": "code",
      "source": [
        "np.linalg.solve(M1_aug)"
      ],
      "metadata": {
        "colab": {
          "base_uri": "https://localhost:8080/",
          "height": 141
        },
        "id": "WbM6rujjb0MR",
        "outputId": "e59e4bd6-8eb3-4bc3-ca9b-5c642dac2a54"
      },
      "execution_count": null,
      "outputs": [
        {
          "output_type": "error",
          "ename": "TypeError",
          "evalue": "solve() missing 1 required positional argument: 'b'",
          "traceback": [
            "\u001b[0;31m---------------------------------------------------------------------------\u001b[0m",
            "\u001b[0;31mTypeError\u001b[0m                                 Traceback (most recent call last)",
            "\u001b[0;32m/tmp/ipython-input-40-3602464028.py\u001b[0m in \u001b[0;36m<cell line: 0>\u001b[0;34m()\u001b[0m\n\u001b[0;32m----> 1\u001b[0;31m \u001b[0mnp\u001b[0m\u001b[0;34m.\u001b[0m\u001b[0mlinalg\u001b[0m\u001b[0;34m.\u001b[0m\u001b[0msolve\u001b[0m\u001b[0;34m(\u001b[0m\u001b[0mM1_aug\u001b[0m\u001b[0;34m)\u001b[0m\u001b[0;34m\u001b[0m\u001b[0;34m\u001b[0m\u001b[0m\n\u001b[0m",
            "\u001b[0;31mTypeError\u001b[0m: solve() missing 1 required positional argument: 'b'"
          ]
        }
      ]
    },
    {
      "cell_type": "code",
      "source": [
        "M1_aug[:,:-1]"
      ],
      "metadata": {
        "colab": {
          "base_uri": "https://localhost:8080/"
        },
        "id": "1U7TbVQYcVgU",
        "outputId": "4d0f1b8a-190e-4f0e-cd5a-e03bae374555"
      },
      "execution_count": null,
      "outputs": [
        {
          "output_type": "execute_result",
          "data": {
            "text/plain": [
              "array([[ 5, -4,  0],\n",
              "       [-4,  7, -3],\n",
              "       [ 0, -3,  5]])"
            ]
          },
          "metadata": {},
          "execution_count": 49
        }
      ]
    },
    {
      "cell_type": "code",
      "source": [
        "M1_aug[:,len(M1_aug)]"
      ],
      "metadata": {
        "colab": {
          "base_uri": "https://localhost:8080/"
        },
        "id": "ZamXZjMSc9Zv",
        "outputId": "52e55766-2f55-4c59-c73e-6292b4c3b1c6"
      },
      "execution_count": null,
      "outputs": [
        {
          "output_type": "execute_result",
          "data": {
            "text/plain": [
              "array([ 1,  0, -2])"
            ]
          },
          "metadata": {},
          "execution_count": 45
        }
      ]
    },
    {
      "cell_type": "code",
      "source": [
        "M1_aug"
      ],
      "metadata": {
        "colab": {
          "base_uri": "https://localhost:8080/"
        },
        "id": "THtgeeEagDoX",
        "outputId": "e7835c25-d46e-4b59-ee4b-20a0dec0b59f"
      },
      "execution_count": null,
      "outputs": [
        {
          "output_type": "execute_result",
          "data": {
            "text/plain": [
              "array([[ 5, -4,  0,  1],\n",
              "       [-4,  7, -3,  0],\n",
              "       [ 0, -3,  5, -2]])"
            ]
          },
          "metadata": {},
          "execution_count": 47
        }
      ]
    },
    {
      "cell_type": "code",
      "source": [
        "x=[]\n",
        "for i in range(0,len(M1_aug)):\n",
        "  #print(M1_aug[i,3])\n",
        "  x.append(M1_aug[i,3])\n",
        "x = np.array(x)\n",
        "\n",
        "x"
      ],
      "metadata": {
        "colab": {
          "base_uri": "https://localhost:8080/"
        },
        "id": "8-r4kwMZdIeo",
        "outputId": "e553c444-d1b2-40aa-d29b-46cae1b8c3ca"
      },
      "execution_count": null,
      "outputs": [
        {
          "output_type": "execute_result",
          "data": {
            "text/plain": [
              "array([ 1,  0, -2])"
            ]
          },
          "metadata": {},
          "execution_count": 29
        }
      ]
    },
    {
      "cell_type": "code",
      "source": [
        "np.linalg.solve(M1_aug[:,:-1], M1_aug[:,len(M1_aug)])"
      ],
      "metadata": {
        "colab": {
          "base_uri": "https://localhost:8080/"
        },
        "id": "JHck93V5cbRh",
        "outputId": "4819b4d5-8ba4-4270-cdc5-7fda3f4ee99f"
      },
      "execution_count": null,
      "outputs": [
        {
          "output_type": "execute_result",
          "data": {
            "text/plain": [
              "array([ 0.04, -0.2 , -0.52])"
            ]
          },
          "metadata": {},
          "execution_count": 50
        }
      ]
    },
    {
      "cell_type": "code",
      "source": [
        "M1_aug"
      ],
      "metadata": {
        "colab": {
          "base_uri": "https://localhost:8080/"
        },
        "id": "GpmdOVOggf_Y",
        "outputId": "15aa7ff4-6e45-47f7-8c61-19abf8cdcedf"
      },
      "execution_count": null,
      "outputs": [
        {
          "output_type": "execute_result",
          "data": {
            "text/plain": [
              "array([[ 5, -4,  0,  1],\n",
              "       [-4,  7, -3,  0],\n",
              "       [ 0, -3,  5, -2]])"
            ]
          },
          "metadata": {},
          "execution_count": 51
        }
      ]
    },
    {
      "cell_type": "code",
      "source": [
        "row_sawp(0,1,M1_aug)"
      ],
      "metadata": {
        "colab": {
          "base_uri": "https://localhost:8080/"
        },
        "id": "rIRZt5XCgxuH",
        "outputId": "05e5ceb4-53ff-458e-9a75-7d97d16e16d6"
      },
      "execution_count": null,
      "outputs": [
        {
          "output_type": "execute_result",
          "data": {
            "text/plain": [
              "array([[-4,  7, -3,  0],\n",
              "       [ 5, -4,  0,  1],\n",
              "       [ 0, -3,  5, -2]])"
            ]
          },
          "metadata": {},
          "execution_count": 52
        }
      ]
    },
    {
      "cell_type": "code",
      "source": [],
      "metadata": {
        "id": "EIISVH0Fgxcu"
      },
      "execution_count": null,
      "outputs": []
    },
    {
      "cell_type": "code",
      "source": [
        "linalg.lu(row_sawp(0,1,M1_aug))"
      ],
      "metadata": {
        "colab": {
          "base_uri": "https://localhost:8080/"
        },
        "id": "dhOy4ShFcAdU",
        "outputId": "8512c39d-1aac-4e8a-8285-cc3bf71276f7"
      },
      "execution_count": null,
      "outputs": [
        {
          "output_type": "execute_result",
          "data": {
            "text/plain": [
              "(array([[0., 1., 0.],\n",
              "        [1., 0., 0.],\n",
              "        [0., 0., 1.]]),\n",
              " array([[ 1.        ,  0.        ,  0.        ],\n",
              "        [-0.8       ,  1.        ,  0.        ],\n",
              "        [ 0.        , -0.78947368,  1.        ]]),\n",
              " array([[ 5.        , -4.        ,  0.        ,  1.        ],\n",
              "        [ 0.        ,  3.8       , -3.        ,  0.8       ],\n",
              "        [ 0.        ,  0.        ,  2.63157895, -1.36842105]]))"
            ]
          },
          "metadata": {},
          "execution_count": 56
        }
      ]
    },
    {
      "cell_type": "code",
      "source": [],
      "metadata": {
        "id": "rYa-IADhcA24"
      },
      "execution_count": null,
      "outputs": []
    },
    {
      "cell_type": "code",
      "execution_count": null,
      "metadata": {
        "id": "pIvZa9h5Zenf",
        "outputId": "f77ae883-1bdc-4fc9-a704-c2a7c4bf1dc2",
        "colab": {
          "base_uri": "https://localhost:8080/"
        }
      },
      "outputs": [
        {
          "output_type": "execute_result",
          "data": {
            "text/plain": [
              "array([[ 5.        , -4.        ,  0.        ,  1.        ],\n",
              "       [ 0.        ,  3.8       , -3.        ,  0.8       ],\n",
              "       [ 0.        ,  0.        ,  2.63157895, -1.36842105]])"
            ]
          },
          "metadata": {},
          "execution_count": 22
        }
      ],
      "source": [
        "U"
      ]
    },
    {
      "cell_type": "markdown",
      "metadata": {
        "id": "GPwp70IuZenp"
      },
      "source": [
        "$x_1, x_2, x_3$ are:"
      ]
    },
    {
      "cell_type": "code",
      "execution_count": null,
      "metadata": {
        "id": "908_JWdAl5Jw",
        "outputId": "97f7cdb0-53ca-4f54-addd-5712fd432074",
        "colab": {
          "base_uri": "https://localhost:8080/",
          "height": 35
        }
      },
      "outputs": [
        {
          "output_type": "execute_result",
          "data": {
            "text/plain": [
              "'x3=-26/50=-0.52'"
            ],
            "application/vnd.google.colaboratory.intrinsic+json": {
              "type": "string"
            }
          },
          "metadata": {},
          "execution_count": 51
        }
      ],
      "source": [
        "x3=U[2,3]/U[2,2]\n",
        "'x3=-26/50={:.2f}'.format(x3)"
      ]
    },
    {
      "cell_type": "code",
      "execution_count": null,
      "metadata": {
        "id": "_IlKr0g9Zen4",
        "outputId": "a9b4cbe1-ef9b-4af8-d995-37d15960056c",
        "colab": {
          "base_uri": "https://localhost:8080/",
          "height": 37
        }
      },
      "outputs": [
        {
          "output_type": "execute_result",
          "data": {
            "text/plain": [
              "np.float64(-0.2)"
            ],
            "text/latex": "$\\displaystyle -0.2$"
          },
          "metadata": {},
          "execution_count": 52
        }
      ],
      "source": [
        "x2=(U[1,3]-U[1,2]*x3)/U[1,1]\n",
        "round(x2,2)"
      ]
    },
    {
      "cell_type": "code",
      "execution_count": null,
      "metadata": {
        "id": "RGPEmwtqZen9",
        "outputId": "8371411f-39b8-46d8-d1d2-40ad7d78c3ed",
        "colab": {
          "base_uri": "https://localhost:8080/",
          "height": 37
        }
      },
      "outputs": [
        {
          "output_type": "execute_result",
          "data": {
            "text/plain": [
              "np.float64(0.04)"
            ],
            "text/latex": "$\\displaystyle 0.04$"
          },
          "metadata": {},
          "execution_count": 53
        }
      ],
      "source": [
        "x1=( U[0,3]-U[0,1]*x2-U[0,2]*x3 )/U[0,0]\n",
        "round(x1,2)"
      ]
    },
    {
      "cell_type": "code",
      "source": [
        "L"
      ],
      "metadata": {
        "colab": {
          "base_uri": "https://localhost:8080/"
        },
        "id": "GjgE72CtyMWS",
        "outputId": "35659b3c-4c0d-4e4c-953f-3b2f57d6a20d"
      },
      "execution_count": null,
      "outputs": [
        {
          "output_type": "execute_result",
          "data": {
            "text/plain": [
              "array([[ 1.        ,  0.        ,  0.        ],\n",
              "       [-0.8       ,  1.        ,  0.        ],\n",
              "       [ 0.        , -0.78947368,  1.        ]])"
            ]
          },
          "metadata": {},
          "execution_count": 21
        }
      ]
    },
    {
      "cell_type": "code",
      "source": [
        "P"
      ],
      "metadata": {
        "colab": {
          "base_uri": "https://localhost:8080/"
        },
        "id": "O_-_2klyyOEm",
        "outputId": "1608250d-5862-4f95-b672-536cd69ba73b"
      },
      "execution_count": null,
      "outputs": [
        {
          "output_type": "execute_result",
          "data": {
            "text/plain": [
              "array([[1., 0., 0.],\n",
              "       [0., 1., 0.],\n",
              "       [0., 0., 1.]])"
            ]
          },
          "metadata": {},
          "execution_count": 22
        }
      ]
    },
    {
      "cell_type": "markdown",
      "metadata": {
        "id": "NGgCWPrTZeoD"
      },
      "source": [
        "### General Gaussian elimination"
      ]
    },
    {
      "cell_type": "markdown",
      "metadata": {
        "id": "gQGl9W0-ZeoE"
      },
      "source": [
        "Now, we shall describe the general procedure for Gaussian elimination:\n",
        "\n",
        "1. Give an augmented matrix $\\hat{A}=[A:\\textbf{b}]$.\n",
        "2. Find the first non-zero coefficient $a_{i1}$ associated to $x_1$. This element is called _pivot_.\n",
        "3. Apply the operation $\\operatorname{Swap}(E_1,E_i)$. This guarantee the first row has a non-zero coefficient $a_{11}$.\n",
        "4. Apply the operation $\\operatorname{Comb}(E_j,E_1,-a_{j1}/a_{11})$. This eliminates the coefficients associated to $x_1$ in all the rows but in the first one.\n",
        "5. Repeat steps 2. to 4. but for the coefficients of $x_2$ and then $x_3$ and so up to $x_n$. When iterating the coefficients of $x_{k}$, do not take into account the first $k$-th rows as they are already sorted.\n",
        "6. Once you obtain a diagonal form of the matrix, apply the operation $\\operatorname{Lamb}(E_n,1/a_{nn})$. This will make the coefficient of $x_n$ in the last equation equal to 1.\n",
        "7. The final result should be an augmented matrix of the form:\n",
        "$$\\left[ \\matrix{\n",
        "a_{11} & a_{12} & \\cdots & a_{1(n-1)} & a_{1n} & \\vdots & \\hat b_1 \\\\\n",
        "0 & a_{22} & \\cdots & a_{2(n-1)} & a_{2n} & \\vdots & \\hat b_2 \\\\\n",
        "\\vdots & \\vdots &  & \\vdots & \\vdots & \\vdots & \\vdots \\\\\n",
        "0 & 0 & \\cdots & a_{(n-1)(n-1)} & a_{(n-1)n} & \\vdots & \\hat b_{n-1} \\\\\n",
        "0 & 0 & \\cdots & 0 & 1 & \\vdots & \\hat b_n\n",
        "}\\right]$$\n",
        "8. The solution to the problem is then obtained through backward substitutions, i.e.\n",
        "$$x_n = \\hat b_n$$\n",
        "$$ x_{n-1} =  \\frac{\\hat b_{n-1} - a_{(n-1)n}x_n}{a_{(n-1)(n-1)}}$$\n",
        "$$\\vdots$$\n",
        "$$x_i = \\frac{\\hat b_i - \\sum_{j=i+1}^n a_{ij}x_j}{a_{ii}}\\ \\ \\ \\ \\mbox{for}\\ \\ \\ i=n-1, n-2, \\cdots, 1$$"
      ]
    },
    {
      "cell_type": "markdown",
      "metadata": {
        "id": "uF8OvVe6l5Jx"
      },
      "source": [
        "'''See custom implementation of [general Gaussian elimination](./linear-algebra-extra.ipynb)'''"
      ]
    },
    {
      "cell_type": "code",
      "execution_count": null,
      "metadata": {
        "id": "RvyDffRnZeoF"
      },
      "outputs": [],
      "source": [
        "#Gaussian Elimination\n",
        "import scipy\n",
        "def Gaussian_Elimination( A0 ):\n",
        "    #Making local copy of matrix\n",
        "    P,L,A=scipy.linalg.lu(A0)\n",
        "    n = len(A)\n",
        "    #Finding solution\n",
        "    x = np.zeros( n )\n",
        "    x[n-1] = A[n-1,n]\n",
        "    for i in range( n-1, -1, -1 ):\n",
        "        x[i] = ( A[i,n] - sum(A[i,i+1:n]*x[i+1:n]) )/A[i,i]\n",
        "\n",
        "    #Upper diagonal matrix and solutions x\n",
        "    return A, x"
      ]
    },
    {
      "cell_type": "code",
      "execution_count": null,
      "metadata": {
        "id": "VCwRCQKfl5Jx",
        "outputId": "76e974ea-68b1-417d-e451-aa7d0a215cb8",
        "colab": {
          "base_uri": "https://localhost:8080/"
        }
      },
      "outputs": [
        {
          "output_type": "execute_result",
          "data": {
            "text/plain": [
              "array([[0.99174856, 0.96969702, 0.69860055, 0.81880372, 0.43107871],\n",
              "       [0.70840613, 0.90678544, 0.10940357, 0.08653251, 0.98712884],\n",
              "       [0.0615711 , 0.2089172 , 0.95038778, 0.07904933, 0.27730118],\n",
              "       [0.36021271, 0.24419333, 0.49098382, 0.98095326, 0.70975443]])"
            ]
          },
          "metadata": {},
          "execution_count": 22
        }
      ],
      "source": [
        "#np.random.seed(3)\n",
        "M =  np.random.random( (4,5) )\n",
        "M"
      ]
    },
    {
      "cell_type": "code",
      "execution_count": null,
      "metadata": {
        "id": "ye0D2D7Rl5Jx"
      },
      "outputs": [],
      "source": [
        "U,x=Gaussian_Elimination(M)"
      ]
    },
    {
      "cell_type": "markdown",
      "metadata": {
        "id": "NBGLMJ5_l5Jy"
      },
      "source": [
        "Upper triangular"
      ]
    },
    {
      "cell_type": "code",
      "execution_count": null,
      "metadata": {
        "id": "fsIgVlQ9l5Jy",
        "outputId": "683ecfcf-05f1-4415-e986-ad4d67d3c94f",
        "colab": {
          "base_uri": "https://localhost:8080/"
        }
      },
      "outputs": [
        {
          "output_type": "execute_result",
          "data": {
            "text/plain": [
              "array([[ 0.99174856,  0.96969702,  0.69860055,  0.81880372,  0.43107871],\n",
              "       [ 0.        ,  0.21413072, -0.3896069 , -0.4983391 ,  0.67920926],\n",
              "       [ 0.        ,  0.        ,  1.17760074,  0.37431487, -0.22117675],\n",
              "       [ 0.        ,  0.        ,  0.        ,  0.41924338,  0.90343217]])"
            ]
          },
          "metadata": {},
          "execution_count": 24
        }
      ],
      "source": [
        "U"
      ]
    },
    {
      "cell_type": "markdown",
      "metadata": {
        "id": "d3ZAJGeNl5Jy"
      },
      "source": [
        "solutions"
      ]
    },
    {
      "cell_type": "code",
      "execution_count": null,
      "metadata": {
        "id": "TrFayWcvl5Jy",
        "outputId": "bba7fc8f-0831-4e58-fad0-3a427aac297d",
        "colab": {
          "base_uri": "https://localhost:8080/"
        }
      },
      "outputs": [
        {
          "output_type": "execute_result",
          "data": {
            "text/plain": [
              "array([-0.62706786, -0.430983  ,  0.70562712,  1.14491033])"
            ]
          },
          "metadata": {},
          "execution_count": 14
        }
      ],
      "source": [
        "x"
      ]
    },
    {
      "cell_type": "code",
      "execution_count": null,
      "metadata": {
        "id": "96bTM7z5l5Jy",
        "outputId": "96ef9de0-9f49-46c4-8243-8ee79220c17b",
        "colab": {
          "base_uri": "https://localhost:8080/",
          "height": 78
        }
      },
      "outputs": [
        {
          "output_type": "execute_result",
          "data": {
            "text/plain": [
              "⎡5   -4  0   1 ⎤\n",
              "⎢              ⎥\n",
              "⎢-4  7   -3  0 ⎥\n",
              "⎢              ⎥\n",
              "⎣0   -3  5   -2⎦"
            ],
            "text/latex": "$\\displaystyle \\left[\\begin{matrix}5 & -4 & 0 & 1\\\\-4 & 7 & -3 & 0\\\\0 & -3 & 5 & -2\\end{matrix}\\right]$"
          },
          "metadata": {},
          "execution_count": 62
        }
      ],
      "source": [
        "M1 = np.array( [[5,-4,0],[-4,7,-3],[0,-3,5]] )\n",
        "M1_aug=np.c_[ M1, [[1],[0],[-2]] ]\n",
        "sympy.Matrix(M1_aug)"
      ]
    },
    {
      "cell_type": "code",
      "execution_count": null,
      "metadata": {
        "id": "GSeepsZkl5Jy",
        "outputId": "91fd31cb-50a4-49ba-873b-46d9677ae064",
        "colab": {
          "base_uri": "https://localhost:8080/"
        }
      },
      "outputs": [
        {
          "output_type": "execute_result",
          "data": {
            "text/plain": [
              "(array([[ 5.        , -4.        ,  0.        ,  1.        ],\n",
              "        [ 0.        ,  3.8       , -3.        ,  0.8       ],\n",
              "        [ 0.        ,  0.        ,  2.63157895, -1.36842105]]),\n",
              " array([ 0.04, -0.2 , -0.52]))"
            ]
          },
          "metadata": {},
          "execution_count": 63
        }
      ],
      "source": [
        "Gaussian_Elimination(M1_aug)"
      ]
    },
    {
      "cell_type": "markdown",
      "metadata": {
        "id": "adCyEV1hZepz"
      },
      "source": [
        "### Pivoting Strategies"
      ]
    },
    {
      "cell_type": "markdown",
      "metadata": {
        "id": "jO6qikGCZepz"
      },
      "source": [
        "The previous method of Gaussian Elimination for finding solutions of linear systems is mathematically exact, however round-off errors that appear in computational arithmetics can represent a real problem when high accuracy is required.\n",
        "\n",
        "In order to illustrate this, consider the next situation:\n",
        "\n",
        "$$ E_1: 0.00300x_1 + 59.14x_2 = 59.17 $$\n",
        "$$ E_2: 5.291x_1 - 6.130x_2 = 46.78 $$\n",
        "\n",
        "Using four-digit arithmetic we obtain:\n",
        "\n",
        "**1.** Constructing the augmented matrix:\n",
        "\n",
        "$$ \\left[ \\matrix{\n",
        "0.003 & 59.14 & \\vdots & 59.17 \\\\\n",
        "5.291 & -6.130 & \\vdots & 46.78\n",
        "}\\right] $$\n",
        "\n",
        "**2.** Applying the reduction with the first pivot, we obtain:\n",
        "\n",
        "$$(E_1 + m E_2)\\rightarrow (E_1)$$\n",
        "\n",
        "where:\n",
        "\n",
        "$$m = -\\frac{a_{21}}{a_{11}} = -\\frac{5.291}{0.003} = 1763.666\\cdots \\approx 1764$$\n",
        "\n",
        "In this step, we have taken the first four digits. This leads us to:\n",
        "\n",
        "$$ \\left[ \\matrix{\n",
        "0.003 & 59.14 & \\vdots & 59.17 \\\\\n",
        "0 & -104300 & \\vdots & -104400\n",
        "}\\right] $$\n",
        "\n",
        "The exact system is instead\n",
        "\n",
        "$$ \\left[ \\matrix{\n",
        "0.003 & 59.14 & \\vdots & 59.17 \\\\\n",
        "0 & -104309.37\\bar{6} & \\vdots & -104309.37\\bar{6}\n",
        "}\\right] $$\n",
        "\n",
        "Using the solution $x_2 \\approx 1.001$, we obtain\n",
        "\n",
        "$$ x_1 \\approx \\frac{59.17 - (59.14)(1.001)}{0.00300} = -10 $$\n",
        "\n",
        "The exact solution is however:\n",
        "\n",
        "$$ x_1 = 10.00 $$\n",
        "\n",
        "The source of such a large error is that the factor $59.14/0.00300 \\approx 20000$. This quantity is propagated through the combination steps of the Gaussian Elimination, yielding a complete wrong result."
      ]
    },
    {
      "cell_type": "markdown",
      "metadata": {
        "id": "n8B6eI0HZepn"
      },
      "source": [
        "### Computing time"
      ]
    },
    {
      "cell_type": "markdown",
      "metadata": {
        "id": "6b78wWAzZepn"
      },
      "source": [
        "As mentioned before, Algebra Linear methods do not invole numerical approximations excepting round-off errors. This implies the computing time depends on the number of involved operations (multiplications, divisions, additions and subtractions). It is possible to demonstrate that the numbers of required divisions/multiplications is given by:\n",
        "\n",
        "$$\\frac{n^3}{3}+n^2-\\frac{n}{3}$$\n",
        "\n",
        "and the required additions/subtractions:\n",
        "\n",
        "$$\\frac{n^3}{3}+\\frac{n^2}{2}-\\frac{5n}{6}$$\n",
        "\n",
        "These numbers are calculated separately as the computing time per operation for divisions and multiplications are similar and much larger than computing times for additions and subtractions. According to this, the overall computing time, for large $n$, scales as $n^3$/3."
      ]
    },
    {
      "cell_type": "markdown",
      "metadata": {
        "id": "xQgyFrSWZepo"
      },
      "source": [
        "### Example 2"
      ]
    },
    {
      "cell_type": "markdown",
      "metadata": {
        "id": "fXlqvoW6Zepo"
      },
      "source": [
        "Using the library `datetime` of python, evaluate the computing time required for `Gaussian_Elimination` to find the solution of a system of $n=20$ equations and $20$ unknowns. For this purpose you can generate random systems. For a more robust result, repeat $500$ times, give a mean value and plot an histrogram of the computing times."
      ]
    },
    {
      "cell_type": "code",
      "execution_count": null,
      "metadata": {
        "id": "jF2_-LbfZepq",
        "outputId": "3c74391d-e8e1-453f-a893-7f8f2a88a080",
        "colab": {
          "base_uri": "https://localhost:8080/",
          "height": 500
        }
      },
      "outputs": [
        {
          "output_type": "stream",
          "name": "stdout",
          "text": [
            "The mean computing time for a 20x20 matrix is: 266.342000 microseconds\n"
          ]
        },
        {
          "output_type": "execute_result",
          "data": {
            "text/plain": [
              "np.float64(266.342)"
            ]
          },
          "metadata": {},
          "execution_count": 21
        },
        {
          "output_type": "display_data",
          "data": {
            "text/plain": [
              "<Figure size 800x500 with 1 Axes>"
            ],
            "image/png": "[encoded data removed]"
          },
          "metadata": {}
        }
      ],
      "source": [
        "#Importing datatime\n",
        "from datetime import datetime\n",
        "\n",
        "#Number of repeats\n",
        "Nrep = 500\n",
        "#Size of matrix\n",
        "n = 20\n",
        "\n",
        "def Gaussian_Time( n, Nrep ):\n",
        "    #Arrays of times\n",
        "    Times = []\n",
        "    #Cicle for number of repeats\n",
        "    for i in range(Nrep):\n",
        "        #Generating random matrix\n",
        "        M = np.matrix( np.random.random( (n,n+1) ) )\n",
        "\n",
        "        #Starting time counter\n",
        "        tstart = datetime.now()\n",
        "        #Invoking Gaussian Elimination routine\n",
        "        Gaussian_Elimination(M)\n",
        "        #Killing time counter\n",
        "        tend = datetime.now()\n",
        "\n",
        "        #Saving computing time\n",
        "        Times.append( (tend-tstart).microseconds )\n",
        "\n",
        "    #Numpy Array\n",
        "    Times = np.array(Times)\n",
        "\n",
        "    print(\"The mean computing time for a %dx%d matrix is: %lf microseconds\"%(n,n,Times.mean()))\n",
        "\n",
        "    #Histrogram\n",
        "    plt.figure( figsize=(8,5) )\n",
        "    histo = plt.hist( Times, bins = 30 )\n",
        "    plt.xlabel( \"Computing Time [microseconds]\" )\n",
        "    plt.ylabel( \"Ocurrences\" )\n",
        "    plt.grid()\n",
        "\n",
        "    return Times.mean()\n",
        "\n",
        "\n",
        "Gaussian_Time( n, Nrep )"
      ]
    },
    {
      "cell_type": "markdown",
      "metadata": {
        "id": "0WYsnMsGZepu"
      },
      "source": [
        "### <span style='color:red'> Activity </span>"
      ]
    },
    {
      "cell_type": "markdown",
      "metadata": {
        "id": "QOcQ-3WAZepv"
      },
      "source": [
        "Using the previous code, estimate the computing time for random matrices of size $n=5,10,50,100,500,1000$. For each size, compute $500$ times in order to reduce spurious errors. Plot the results in a figure of $n$ vs computing time. Is it verified the some of scaling laws (Multiplication/Division or Addition/Sustraction). Note that for large values of $n$, both scaling laws converge to the same."
      ]
    },
    {
      "cell_type": "markdown",
      "metadata": {
        "id": "Yo9_a3cQZepx"
      },
      "source": [
        "- - -"
      ]
    },
    {
      "cell_type": "markdown",
      "metadata": {
        "id": "M8_l9AohZepz"
      },
      "source": [
        "### Partial pivoting"
      ]
    },
    {
      "cell_type": "markdown",
      "metadata": {
        "id": "4AAfgdZVZep0"
      },
      "source": [
        "A suitable method to reduce round-off errors is to choose a pivot more conveniently. As we saw before, a small pivot generally implies larger propagated errors as they appear usually as dividends. The partial pivoting method consists then of a choosing of the largest absolute coefficient associated to $x_i$ instead of the first non-null one, i.e.\n",
        "\n",
        "$$ |a_{ii}| = \\max_{i\\leq j\\leq n}|a_{ji}| $$\n",
        "\n",
        "This way, propagated multiplication errors would be minimized."
      ]
    },
    {
      "cell_type": "markdown",
      "metadata": {
        "id": "ZMjWc8XAZep1"
      },
      "source": [
        "### <span style='color:red'> Activity </span>"
      ]
    },
    {
      "cell_type": "markdown",
      "metadata": {
        "id": "j9L2TabEZep1"
      },
      "source": [
        "Create a new routine `Gaussian_Elimination_Pivoting` from `Gaussian_Elimination` in order to include the partial pivoting method. Compare both routines with some random matrix and with the exact solution."
      ]
    },
    {
      "cell_type": "markdown",
      "metadata": {
        "id": "egQJvknLZep2"
      },
      "source": [
        "- - -"
      ]
    },
    {
      "cell_type": "markdown",
      "metadata": {
        "id": "FqTRdCLBZep2",
        "jp-MarkdownHeadingCollapsed": true,
        "tags": []
      },
      "source": [
        "## Matrix Inversion"
      ]
    },
    {
      "cell_type": "markdown",
      "metadata": {
        "id": "xWWVcbI3Zep2"
      },
      "source": [
        "Asumming a nonsingular matrix $A$, if a matrix $A^{-1}$ exists, with $AA^{-1} = I$ and $A^{-1}A = I$, where $I$ is the identity matrix, then $A^{-1}$ is called the inverse matrix of $A$. If such a matrix does not exist, $A$ is said to be a singular matrix.\n",
        "\n",
        "A corollary of this definition is that $A$ is also the inverse matrix of $A^{-1}$.\n",
        "\n",
        "Once defined the Gaussian Elimination method, it is possible to extend it in order to find the inverse of any nonsingular matrix.\n",
        "Let's consider the next equation:\n",
        "\n",
        "$$ AA^{-1} = AB= \\left[ \\matrix{\n",
        "a_{11} & a_{12} & \\cdots & a_{1n} \\\\\n",
        "a_{21} & a_{22} & \\cdots & a_{2n} \\\\\n",
        "\\vdots & \\vdots & & \\vdots\\\\\n",
        "a_{m1} & a_{n2} & \\cdots & a_{nn}\n",
        "}\\right]\\left[ \\matrix{\n",
        "b_{11} & b_{12} & \\cdots & b_{1n} \\\\\n",
        "b_{21} & b_{22} & \\cdots & b_{2n} \\\\\n",
        "\\vdots & \\vdots & & \\vdots\\\\\n",
        "b_{n1} & b_{n2} & \\cdots & b_{nn}\n",
        "}\\right] =\n",
        "\\left[ \\matrix{\n",
        "1 & 0 & \\cdots & 0 \\\\\n",
        "0 & 1 & \\cdots & 0 \\\\\n",
        "\\vdots & \\vdots & \\ddots & \\vdots\\\\\n",
        "0 & 0 & \\cdots & 1\n",
        "}\\right]$$\n",
        "\n",
        "This can be rewritten as a set of $n$ systems of equations, i.e.\n",
        "\n",
        "$$ \\left[ \\matrix{\n",
        "a_{11} & a_{12} & \\cdots & a_{1n} \\\\\n",
        "a_{21} & a_{22} & \\cdots & a_{2n} \\\\\n",
        "\\vdots & \\vdots & & \\vdots\\\\\n",
        "a_{n1} & a_{n2} & \\cdots & a_{nn}\n",
        "}\\right]\\left[ \\matrix{\n",
        "b_{11} \\\\\n",
        "b_{21} \\\\\n",
        "\\vdots \\\\\n",
        "b_{n1}\n",
        "}\\right] =\n",
        "\\left[ \\matrix{\n",
        "1 \\\\\n",
        "0 \\\\\n",
        "\\vdots \\\\\n",
        "0\n",
        "}\\right],$$\n",
        "\n",
        "$$\\left[ \\matrix{\n",
        "a_{11} & a_{12} & \\cdots & a_{1n} \\\\\n",
        "a_{21} & a_{22} & \\cdots & a_{2n} \\\\\n",
        "\\vdots & \\vdots & & \\vdots\\\\\n",
        "a_{n1} & a_{n2} & \\cdots & a_{nn}\n",
        "}\\right]\\left[ \\matrix{\n",
        "b_{12} \\\\\n",
        "b_{22} \\\\\n",
        "\\vdots \\\\\n",
        "b_{n2}\n",
        "}\\right] =\n",
        "\\left[ \\matrix{\n",
        "0 \\\\\n",
        "1 \\\\\n",
        "\\vdots \\\\\n",
        "0\n",
        "}\\right]$$\n",
        "\n",
        "$$\\vdots$$\n",
        "$$\\left[ \\matrix{\n",
        "a_{11} & a_{12} & \\cdots & a_{1n} \\\\\n",
        "a_{21} & a_{22} & \\cdots & a_{2n} \\\\\n",
        "\\vdots & \\vdots & & \\vdots\\\\\n",
        "a_{n1} & a_{n2} & \\cdots & a_{nn}\n",
        "}\\right]\\left[ \\matrix{\n",
        "b_{1n} \\\\\n",
        "b_{2n} \\\\\n",
        "\\vdots \\\\\n",
        "b_{nn}\n",
        "}\\right] =\n",
        "\\left[ \\matrix{\n",
        "0 \\\\\n",
        "0 \\\\\n",
        "\\vdots \\\\\n",
        "1\n",
        "}\\right]$$\n",
        "\n",
        "These systems can be solved individually by using Gaussian Elimination, however we can mix all the problems, obtaining the augmented matrix:\n",
        "\n",
        "$$\\left[ \\matrix{\n",
        "a_{11} & a_{12} & \\cdots & a_{1n} & \\vdots & 1 & 0 & \\cdots & 0 \\\\\n",
        "a_{21} & a_{22} & \\cdots & a_{2n} & \\vdots & 0 & 1 & \\cdots & 0 \\\\\n",
        "\\vdots & \\vdots & & \\vdots & \\vdots & \\vdots & \\vdots & \\ddots & \\vdots\\\\\n",
        "a_{n1} & a_{n2} & \\cdots & a_{nn} & \\vdots & 0 & 0 & \\cdots & 1\n",
        "}\\right]$$\n",
        "\n",
        "Now, applying Gaussian Elimination we can obtain a upper diagonal form for the first matrix. Completing the steps using forwards elimination we can convert the first matrix into the identity matrix, obtaining\n",
        "\n",
        "$$\\left[ \\matrix{\n",
        "1 & 0 & \\cdots & 0 & \\vdots & b_{11} & b_{12} & \\cdots & b_{1n} \\\\\n",
        "0 & 1 & \\cdots & 0 & \\vdots & b_{21} & b_{22} & \\cdots & b_{2n} \\\\\n",
        "\\vdots & \\vdots & \\ddots & \\vdots & \\vdots & \\vdots & \\vdots & & \\vdots\\\\\n",
        "0 & 0 & \\cdots & 1 & \\vdots & b_{n1} & b_{n2} & \\cdots & b_{nn}\n",
        "}\\right]$$\n",
        "\n",
        "Where the second matrix is then the inverse $B=A^{-1}$."
      ]
    },
    {
      "cell_type": "markdown",
      "metadata": {
        "id": "PHRKvZk2Zep5"
      },
      "source": [
        "### <span style='color:red'> Activity </span>"
      ]
    },
    {
      "cell_type": "markdown",
      "metadata": {
        "id": "DxrVqcmtZep5"
      },
      "source": [
        "Using the previous routine `Gaussian_Elimination_Pivoting`, create a new routine `Inverse` that calculates the inverse of any given squared matrix."
      ]
    },
    {
      "cell_type": "markdown",
      "metadata": {
        "id": "4xGDvsakZep6"
      },
      "source": [
        "- - -"
      ]
    },
    {
      "cell_type": "markdown",
      "metadata": {
        "id": "LH99CU2rZep7",
        "tags": []
      },
      "source": [
        "## Determinant of a Matrix"
      ]
    },
    {
      "cell_type": "markdown",
      "metadata": {
        "id": "6qm9Bu8_Zep7"
      },
      "source": [
        "The determinant of a matrix is a scalar quantity calculated for square matrix. This provides important information about the matrix of coefficients of a system of linear of equations. For example, any system of $n$ equations and $n$ unknowns has an unique solution if the associated determinant is nonzero. This also implies the determinant allows to evaluate whether a matrix is singular or nonsingular."
      ]
    },
    {
      "cell_type": "markdown",
      "metadata": {
        "id": "vaeTK6sjZep7"
      },
      "source": [
        "### Calculating determinants"
      ]
    },
    {
      "cell_type": "markdown",
      "metadata": {
        "id": "G-U2rA3wZep8"
      },
      "source": [
        "Next, we shall define some properties of determinants that will allow us to calculate determinants by using a recursive code:\n",
        "\n",
        "**1.** If $A = [a]$ is a $1\\times 1$ matrix, its determinant is then $\\det A = a$.\n",
        "\n",
        "**2.** If $A$ is a $n\\times n$ matrix, the minor matrix $M_{ij}$ is the determinant of the $(n-1)\\times(n-1)$ matrix obtained by deleting the $i$th row and the $j$th column.\n",
        "\n",
        "**3.** The cofactor $A_{ij}$ associated with $M_{ij}$ is defined by $A_{ij} = (-1)^{i+j}M_{ij}$.\n",
        "\n",
        "**4.** The determinant of a $n\\times n$ matrix $A$ is given by:\n",
        "\n",
        "$$ \\det A = \\sum_{j=1}^n a_{ij}A_{ij} $$\n",
        "\n",
        "or\n",
        "\n",
        "$$ \\det A = \\sum_{i=1}^n a_{ij}A_{ij} $$\n",
        "\n",
        "This is, it is possible to use both, a row or a column for calculating the determinant."
      ]
    },
    {
      "cell_type": "markdown",
      "metadata": {
        "id": "JQX4y_lAZeqB"
      },
      "source": [
        "### Computing time of determinants"
      ]
    },
    {
      "cell_type": "markdown",
      "metadata": {
        "id": "XSSGIDcvZeqB"
      },
      "source": [
        "Using the previous recurrence, we can calculate the computing time of the previous algorithm. First, let's consider the number of required operations for a $2\\times 2$ matrix: let $A$ be a $2\\times 2$ matrix given by:\n",
        "\n",
        "$$ A = \\left[ \\matrix{\n",
        "a_{11} & a_{12} \\\\\n",
        "a_{21} & a_{22}}\\right]$$\n",
        "\n",
        "The determinant is then given by:\n",
        "\n",
        "$$\\det(A) = a_{11}a_{22} - a_{12}a_{21}$$\n",
        "\n",
        "the number of required multiplications was $2$ and subtractions is $1$.\n",
        "\n",
        "Now, using the previous formula for the determinant\n",
        "\n",
        "$$ \\det A = \\sum_{j=1}^n a_{ij}A_{ij} $$\n",
        "\n",
        "For a $3\\times 3$ matrix, it is necessary to calculate $3$ times $2\\times 2$ determinants. Besides, it is necessary to multiply the cofactor $A_{ij}$ with the coefficient $a_{ij}$, that leads us with $t_{n=3}=3\\times 2 + 3$ multiplications. Additions are not important as their computing time is far less than multiplications.\n",
        "\n",
        "For a $4\\times 4$ matrix, we need four deteminants of $3\\times 3$ submatrices, leading $t_{n=4} = 4\\times( 3\\times 2 + 3 ) + 4 = 4! + \\frac{4!}{2!} + \\frac{4!}{3!}$. In general, for a $n\\times n$ matrix, we have then:\n",
        "\n",
        "$$ t_{n} = \\frac{n!}{(n-1)!} + \\frac{n!}{(n-2)!} + \\cdots + \\frac{n!}{1!} = n!\\left( \\sum_{i=1}^{n-1}\\frac{1}{i!} \\right)$$\n",
        "\n",
        "If $n$ is large enough, we can approximate $t_{n}\\approx n!$\n",
        "\n",
        "In computers, this is a prohibitive computing time so other schemes have to be proposed."
      ]
    },
    {
      "cell_type": "markdown",
      "metadata": {
        "id": "Ar5GDOlQZeqC"
      },
      "source": [
        "### <span style='color:red'> Activity </span>"
      ]
    },
    {
      "cell_type": "markdown",
      "metadata": {
        "id": "8QJvgrN8ZeqC"
      },
      "source": [
        "Evaluate the computing time of the `Determinant` routine for matrix sizes of $n=1,2,3,\\cdots,10$ and doing several repeats. Plot your result ($n$ vs $t_n$). What can you conclude about the behaviour of the computing time?"
      ]
    },
    {
      "cell_type": "markdown",
      "metadata": {
        "id": "0_eLCjf2ZeqC"
      },
      "source": [
        "### Properties of determinants"
      ]
    },
    {
      "cell_type": "markdown",
      "metadata": {
        "id": "A4XiSA4qZeqC"
      },
      "source": [
        "Determinants have a set of properties that can reduce considerably computing times. Suppose $A$ is a $n\\times n$ matrix:\n",
        "\n",
        "**1.** If any row or column of $A$ has only zero entries, then $\\det A = 0$.\n",
        "\n",
        "**2.** If two rows or columns of $A$ are the same, then $\\det A = 0$.\n",
        "\n",
        "**3.** If $\\hat A$ is obtained from $A$ by using a swap operation $(E_i)\\leftrightarrow (E_j)$, then $\\det \\hat A=-\\det A$.\n",
        "\n",
        "**4.** If $\\hat A$ is obtained from $A$ by using a escalation operation $(\\lambda E_i)\\leftrightarrow (E_i)$, then $\\det \\hat A=\\lambda \\det A$.\n",
        "\n",
        "**5.** If $\\hat A$ is obtained from $A$ by using a combination operation $(E_i+\\lambda E_j) \\leftrightarrow (E_i)$, then $\\det \\hat A=\\det A$.\n",
        "\n",
        "**6.** If $B$ is also a $n\\times n$ matrix, then $\\det(AB)=(\\det A)(\\det B).$\n",
        "\n",
        "**7.** $\\det A^t=\\det A.$\n",
        "\n",
        "**8.** $\\det A^{-1}=(\\det A)^{-1}$\n",
        "\n",
        "**9.** Finally and most importantly: if $A$ is an upper, lower or diagonal matrix, then:\n",
        "\n",
        "$$ \\det A = \\prod_{i=1}^n a_{ii} $$"
      ]
    },
    {
      "cell_type": "markdown",
      "metadata": {
        "id": "GWDNQ12kZeqD"
      },
      "source": [
        "As we analysed before, Gaussian Elimination takes a computing time scaling like $n^3$ for large matrix sizes. According to the previous properties, the determinant of a upper diagonal matrix just takes $n-1$ multiplications, far less than a nondiagonal matrix. Combining these properties, we can track back and relate the determinant of the resulting upper diagonal matrix and the original one. Leading us to a computing time scaling like $n^3$, much better than the original $n!$."
      ]
    },
    {
      "cell_type": "markdown",
      "metadata": {
        "id": "q8dFyFkRZeqD"
      },
      "source": [
        "### <span style='color:red'> Activity </span>"
      ]
    },
    {
      "cell_type": "markdown",
      "metadata": {
        "id": "-nXNRpJOZeqE"
      },
      "source": [
        "Using the `Gaussian_Elimination` routine and tracking back the performed operations, construct a new routine called `Gaussian_Determinant`. Make the same analysis of the computing time as the previous activity. Compare both results."
      ]
    },
    {
      "cell_type": "markdown",
      "metadata": {
        "id": "H72wO1jel5J4"
      },
      "source": [
        "### Existence of inverse\n",
        "A matrix $A$ has an inverse if $\\det{A}\\ne 0$. See for example [here](http://www.sosmath.com/matrix/inverse/inverse.html)\n",
        "\n",
        "If the matrix $A$ has an inverse, then\n",
        "\\begin{align}\n",
        "A \\boldsymbol{x}=&\\boldsymbol{b}\\\\\n",
        "A^{-1}A\\boldsymbol{x}=&A^{-1}\\boldsymbol{b}\\\\\n",
        "\\boldsymbol{x}=&A^{-1}\\boldsymbol{b}\\,,\n",
        "\\end{align}\n",
        "\n",
        "__Example__\n",
        "From the previous example"
      ]
    },
    {
      "cell_type": "code",
      "execution_count": null,
      "metadata": {
        "id": "0Ntaufbdl5J4",
        "outputId": "eba7ff2b-e7f3-46ef-e041-d9c0034cea94"
      },
      "outputs": [
        {
          "data": {
            "text/plain": [
              "array([[0.5507979 , 0.70814782, 0.29090474, 0.51082761, 0.89294695],\n",
              "       [0.89629309, 0.12558531, 0.20724288, 0.0514672 , 0.44080984],\n",
              "       [0.02987621, 0.45683322, 0.64914405, 0.27848728, 0.6762549 ],\n",
              "       [0.59086282, 0.02398188, 0.55885409, 0.25925245, 0.4151012 ]])"
            ]
          },
          "execution_count": 74,
          "metadata": {},
          "output_type": "execute_result"
        }
      ],
      "source": [
        "np.random.seed(3)\n",
        "M =  np.random.random( (4,5) )\n",
        "M"
      ]
    },
    {
      "cell_type": "code",
      "execution_count": null,
      "metadata": {
        "id": "6WMWiD9rl5J4",
        "outputId": "fceea55c-fa88-4fce-84e3-dc4b9b59a467"
      },
      "outputs": [
        {
          "data": {
            "text/plain": [
              "array([0.5507979 , 0.89629309, 0.02987621, 0.59086282])"
            ]
          },
          "execution_count": 75,
          "metadata": {},
          "output_type": "execute_result"
        }
      ],
      "source": [
        "M[:,0]"
      ]
    },
    {
      "cell_type": "code",
      "execution_count": null,
      "metadata": {
        "id": "ICgrF0r6l5J4",
        "outputId": "2252e31c-f66d-4387-a369-606cff0c7004"
      },
      "outputs": [
        {
          "data": {
            "text/plain": [
              "array([[0.5507979 ],\n",
              "       [0.89629309],\n",
              "       [0.02987621],\n",
              "       [0.59086282]])"
            ]
          },
          "execution_count": 76,
          "metadata": {},
          "output_type": "execute_result"
        }
      ],
      "source": [
        "np.c_[M[:,0]]"
      ]
    },
    {
      "cell_type": "code",
      "execution_count": null,
      "metadata": {
        "id": "dmiVLdnGl5J4",
        "outputId": "6d8ed885-055c-4019-d5a9-c9d3f1aeac64"
      },
      "outputs": [
        {
          "data": {
            "text/plain": [
              "array([[0.5507979 , 0.70814782, 0.29090474, 0.51082761],\n",
              "       [0.89629309, 0.12558531, 0.20724288, 0.0514672 ],\n",
              "       [0.02987621, 0.45683322, 0.64914405, 0.27848728],\n",
              "       [0.59086282, 0.02398188, 0.55885409, 0.25925245]])"
            ]
          },
          "execution_count": 90,
          "metadata": {},
          "output_type": "execute_result"
        }
      ],
      "source": [
        "A=np.c_[ tuple( [ np.c_[M[:,i]]    for i in range(4) ] ) ]\n",
        "A"
      ]
    },
    {
      "cell_type": "code",
      "execution_count": null,
      "metadata": {
        "id": "CYtBn6POl5J4",
        "outputId": "b09f2124-8663-49de-bbc0-126317aafe4b"
      },
      "outputs": [
        {
          "data": {
            "text/plain": [
              "array([[0.89294695],\n",
              "       [0.44080984],\n",
              "       [0.6762549 ],\n",
              "       [0.4151012 ]])"
            ]
          },
          "execution_count": 78,
          "metadata": {},
          "output_type": "execute_result"
        }
      ],
      "source": [
        "b=np.c_[ M[:,4] ]\n",
        "b"
      ]
    },
    {
      "cell_type": "markdown",
      "metadata": {
        "id": "ufUcOaqZl5J5"
      },
      "source": [
        "such that\n",
        "\\begin{align}\n",
        "A \\boldsymbol{x}=&\\boldsymbol{b}\\,,\n",
        "\\end{align}\n",
        "\n",
        "Check that $A$ has an inverse and calculate $\\boldsymbol{x}$\n"
      ]
    },
    {
      "cell_type": "code",
      "execution_count": null,
      "metadata": {
        "id": "xx3CAli0l5J5",
        "outputId": "c370df5c-1ed0-445c-df9a-4cc74ca87d16"
      },
      "outputs": [
        {
          "data": {
            "image/png": "[encoded data removed]",
            "text/latex": [
              "$\\displaystyle -0.0967223339297434$"
            ],
            "text/plain": [
              "-0.0967223339297434"
            ]
          },
          "execution_count": 82,
          "metadata": {},
          "output_type": "execute_result"
        }
      ],
      "source": [
        "np.linalg.det(A)"
      ]
    },
    {
      "cell_type": "markdown",
      "metadata": {
        "id": "ojwcrJZ1l5J5"
      },
      "source": [
        "$\\boldsymbol{x}=$"
      ]
    },
    {
      "cell_type": "code",
      "execution_count": null,
      "metadata": {
        "id": "a8cBU2BJl5J5",
        "outputId": "117c5359-8dc9-42fe-91e2-9317fd952d9f"
      },
      "outputs": [
        {
          "data": {
            "text/latex": [
              "$\\displaystyle \\left[\\begin{matrix}0.274\\\\0.8722\\\\0.4114\\\\0.0093\\end{matrix}\\right]$"
            ],
            "text/plain": [
              "⎡0.274 ⎤\n",
              "⎢      ⎥\n",
              "⎢0.8722⎥\n",
              "⎢      ⎥\n",
              "⎢0.4114⎥\n",
              "⎢      ⎥\n",
              "⎣0.0093⎦"
            ]
          },
          "execution_count": 83,
          "metadata": {},
          "output_type": "execute_result"
        }
      ],
      "source": [
        "sympy.Matrix( np.dot( np.linalg.inv(A) , b).round(4) )"
      ]
    },
    {
      "cell_type": "markdown",
      "metadata": {
        "id": "ZReWQ3fsl5J5"
      },
      "source": [
        "#### Numpy implementation"
      ]
    },
    {
      "cell_type": "code",
      "execution_count": null,
      "metadata": {
        "id": "A8WlvZjxl5J5",
        "outputId": "ed538a50-01be-4e7e-b6f2-1ad714fe08c2"
      },
      "outputs": [
        {
          "data": {
            "text/plain": [
              "array([[0.27395594],\n",
              "       [0.8721633 ],\n",
              "       [0.41137442],\n",
              "       [0.00932074]])"
            ]
          },
          "execution_count": 79,
          "metadata": {},
          "output_type": "execute_result"
        }
      ],
      "source": [
        "np.linalg.solve(A,b)"
      ]
    },
    {
      "cell_type": "code",
      "execution_count": null,
      "metadata": {
        "id": "cQ4cRT9Ql5J6",
        "outputId": "0cea7d41-dc84-4ae7-d653-be875f8a9897"
      },
      "outputs": [
        {
          "data": {
            "text/plain": [
              "array([0.27395594, 0.8721633 , 0.41137442, 0.00932074])"
            ]
          },
          "execution_count": 91,
          "metadata": {},
          "output_type": "execute_result"
        }
      ],
      "source": [
        " np.linalg.solve(A,M[:,4])"
      ]
    },
    {
      "cell_type": "markdown",
      "metadata": {
        "id": "sbOkNC-hZep7",
        "jp-MarkdownHeadingCollapsed": true,
        "tags": []
      },
      "source": [
        "## Matrix diagonalization"
      ]
    },
    {
      "cell_type": "markdown",
      "metadata": {
        "id": "Z44mMdLlZeqF"
      },
      "source": [
        "- - -"
      ]
    },
    {
      "cell_type": "markdown",
      "metadata": {
        "id": "DqQum4S8ZeqF",
        "tags": []
      },
      "source": [
        "## LU Factorization"
      ]
    },
    {
      "cell_type": "markdown",
      "metadata": {
        "id": "CGH-xvS7ZeqG"
      },
      "source": [
        "As we saw before, the Gaussian Elimination algorithm takes a computing time scaling as $\\mathcal{O}(n^3/3)$ in order to solve a system of $n$ equations and $n$ unknowns. Let's assume a system of equations $\\mathbf{A}\\mathbf{x} = \\mathbf{b}$ where $\\mathbf{b}$ is already in upper diagonal form.\n",
        "\n",
        "$$\\left[ \\matrix{\n",
        "a_{11} & a_{12} & \\cdots & a_{1(n-1)} & a_{1n} & \\vdots & \\hat b_1 \\\\\n",
        "0 & a_{22} & \\cdots & a_{2(n-1)} & a_{2n} & \\vdots & \\hat b_2 \\\\\n",
        "\\vdots & \\vdots &  & \\vdots & \\vdots & \\vdots & \\vdots \\\\\n",
        "0 & 0 & \\cdots & a_{(n-1)(n-1)} & a_{(n-1)n} & \\vdots & \\hat b_{n-1} \\\\\n",
        "0 & 0 & \\cdots & 0 & a_{nn} & \\vdots & \\hat b_n\n",
        "}\\right]$$\n",
        "\n",
        "The Gauss-Jordan algorithm can reduce even more this problem in order to solve it directly, yielding:\n",
        "\n",
        "$$\\left[ \\matrix{\n",
        "1 & 0 & \\cdots & 0 & 0 & \\vdots & x_1 \\\\\n",
        "0 & 1 & \\cdots & 0 & 0 & \\vdots & x_2 \\\\\n",
        "\\vdots & \\vdots &  & \\vdots & \\vdots & \\vdots & \\vdots \\\\\n",
        "0 & 0 & \\cdots & 1 & 0 & \\vdots & x_{n-1} \\\\\n",
        "0 & 0 & \\cdots & 0 & 1 & \\vdots & x_n\n",
        "}\\right]$$\n",
        "\n",
        "From the upper diagonal form to the completely reduced one, it is necessary to perform $n+(n-1)+(n-2)+\\cdots\\propto n(n-1)$ backwards substitutions. The computing time for solving a upper diagonal system is then $\\mathcal{O}(n^2)$.\n",
        "\n",
        "\n",
        "Now, let $\\mathbf{A}\\mathbf{x} = \\mathbf{b}$ be a general system of equations of $n$ dimensions. Let's assume $\\mathbf{A}$ can be written as a multiplication of two matrices, one lower diagonal $\\mathbf{L}$ and other upper diagonal $\\mathbf{U}$, such that $\\mathbf{A}=\\mathbf{L}\\mathbf{U}$. Defining a vector $\\mathbf{y} = \\mathbf{U}\\mathbf{x}$, it is obtained for the original system\n",
        "\n",
        "$$ \\mathbf{A} \\mathbf{x}=\\mathbf{L}(\\mathbf{U}\\mathbf{x}) = \\mathbf{L}\\mathbf{y} = \\mathbf{b}$$\n",
        "\n",
        "For solving this system we can then:\n",
        "\n",
        "**1.** Solve the equivalent system $\\mathbf{L}\\mathbf{y} = \\mathbf{b}$, what takes a computing time of $\\mathcal{O}(n^2)$.\n",
        "\n",
        "**2.** Once we know $\\mathbf{y}$, we can solve the system $\\mathbf{U}\\mathbf{x} = \\mathbf{y}$, with a computing time of $\\mathcal{O}(n^2)$.\n",
        "\n",
        "The global computing time is then $\\mathcal{O}(2n^2)$"
      ]
    },
    {
      "cell_type": "markdown",
      "metadata": {
        "id": "h-xWNkyPZeqG"
      },
      "source": [
        "### <span style='color:red'> Activity </span>"
      ]
    },
    {
      "cell_type": "markdown",
      "metadata": {
        "id": "ftpsu6JJZeqH"
      },
      "source": [
        "In order to compare the computing time that Gaussian Elimination takes and the previous time for the LU factorization, make a plot of both computing times. What can you conclude when $n$ becomes large enough?"
      ]
    },
    {
      "cell_type": "markdown",
      "metadata": {
        "id": "ODqeEny5ZeqI"
      },
      "source": [
        "### Derivation of LU factorization"
      ]
    },
    {
      "cell_type": "markdown",
      "metadata": {
        "id": "qUcJpli0ZeqI"
      },
      "source": [
        "Although the LU factorization seems to be a far better method for solving linear systems as compared with say Gaussian Elimination, we was assuming we already knew the matrices $\\mathbf{L}$ and $\\mathbf{U}$. Now we are going to see the algorithm for perfoming this reduction takes a computing time of $\\mathcal{O}(n^3/3)$.\n",
        "\n",
        "You may wonder then, what advantage implies the use of this factorization? Well, matrices $\\mathbf{L}$ and $\\mathbf{U}$ do not depend on the specific system to be solved, i.e. there is not dependence on the $\\mathbf{b}$ vector, so once we have both matrices, we can use them to solve any system we want, just taking a $\\mathcal{O}(2n^2)$ computing time.\n",
        "\n",
        "First, let's assume a matrix $\\mathbf{A}$ with all its pivots are nonzero, so there is not need to swap rows. Now, when we want to eliminate all the coefficients associated to $x_1$, we perform the next operations:\n",
        "\n",
        "$$ (E_j-m_{j1}E_1)\\rightarrow (E_j), \\ \\ \\ \\ \\mbox{where}\\ \\ \\ \\ m_{j1} = \\frac{a^{(1)}_{j1}}{a^{(1)}_{11}} $$\n",
        "\n",
        "henceforth, $a^{(1)}_{ij}$ denotes the components of the original matrix $\\mathbf{A}=\\mathbf{A}^{(1)}$, $a^{(2)}_{ij}$ the components of the matrix after eliminating the coefficients of $x_1$, and generally, $a^{(k)}_{ij}$ the components of the matrix after eliminating the coefficients of $x_{k-1}$.\n",
        "\n",
        "The previous operation over the matrix $\\mathbf{A}$ can be also reproduced defining the matrix $\\mathbf{M}^{(1)}$\n",
        "\n",
        "$$\\mathbf{M}^{(1)} = \\left[ \\matrix{\n",
        "1 & 0 & \\cdots & 0 & 0 \\\\\n",
        "-m_{21} & 1 & \\cdots & 0 & 0 \\\\\n",
        "\\vdots & \\vdots & \\ddots & \\vdots & \\vdots \\\\\n",
        "-m_{(n-1)1} & 0 & \\cdots & 1 & 0 \\\\\n",
        "-m_{n1} & 0 & \\cdots & 0 & 1\n",
        "}\\right]$$\n",
        "\n",
        "This is called the **first Gaussian transformation matrix**. From this, we have\n",
        "\n",
        "$$ \\mathbf{A}^{(2)}\\mathbf{x} = \\mathbf{M}^{(1)}\\mathbf{A}^{(1)}\\mathbf{x} = \\mathbf{M}^{(1)}\\mathbf{b}^{(1)} = \\mathbf{b}^{(2)} $$\n",
        "\n",
        "where $\\mathbf{A}^{(2)}$ is matrix with null coefficients associated to $x_1$ but the first one.\n",
        "\n",
        "Repeating the same procedure for the next pivots, we obtain then\n",
        "\n",
        "$$ \\mathbf{A}^{(n)} = \\mathbf{M}^{(n-1)}\\mathbf{M}^{(n-2)}\\cdots \\mathbf{M}^{(1)}\\mathbf{A}^{(1)} $$\n",
        "\n",
        "where the **$k$th Gaussian transformation matrix** is defined as\n",
        "\n",
        "$$\\mathbf{M}^{(k)}_{ij} = \\left\\{ \\matrix{\n",
        "1 & \\mbox{if}\\ \\ i=j \\\\\n",
        "-m_{ij} & \\mbox{if}\\ \\ j=k\\ \\ \\mbox{and}\\ \\ k+1\\leq i \\leq n \\\\\n",
        "0 & \\mbox{otherwise}\n",
        "}  \\right.$$\n",
        "\n",
        "and\n",
        "\n",
        "$$m_{ij} = \\frac{a^{(j)}_{ij}}{a^{(j)}_{jj}} $$\n",
        "\n",
        "Note $\\mathbf{A}^{(n)}$ is a upper diagonal matrix given by\n",
        "\n",
        "$$\\mathbf{A}^{(n)} = \\left[ \\matrix{\n",
        "a_{11}^{(n)} & a_{12}^{(n)} & \\cdots & a_{1(n-1)}^{(n)} & a_{1n}^{(n)}\\\\\n",
        "0 & a_{22}^{(n)} & \\cdots & a_{2(n-1)}^{(n)} & a_{2n}^{(n)} \\\\\n",
        "\\vdots & \\vdots &  & \\vdots & \\vdots &\\\\\n",
        "0 & 0 & \\cdots & a_{(n-1)(n-1)}^{(n)} & a_{(n-1)n}^{(n)} \\\\\n",
        "0 & 0 & \\cdots & 0 & a_{nn}^{(n)}\n",
        "}\\right]$$\n",
        "\n",
        "so we can define $\\mathbf{U}\\equiv \\mathbf{A}^{(n)}$.\n",
        "\n",
        "Now, taking the equation\n",
        "\n",
        "$$ \\mathbf{A}^{(n)} = \\mathbf{M}^{(n-1)}\\mathbf{M}^{(n-2)}\\cdots \\mathbf{M}^{(1)}\\mathbf{A}^{(1)} $$\n",
        "\n",
        "and defining the inverse of $\\mathbf{M}^{(k)}$ as\n",
        "\n",
        "$$ \\mathbf{L}^{(k)}_{ij} = \\left(\\mathbf{M}^{(k)}\\right)^{-1}_{ij} =  \\left\\{ \\matrix{\n",
        "1 & \\mbox{if}\\ \\ i=j \\\\\n",
        "m_{ij} & \\mbox{if}\\ \\ j=k\\ \\ \\mbox{and}\\ \\ k+1\\leq i \\leq n \\\\\n",
        "0 & \\mbox{otherwise}\n",
        "}  \\right.$$\n",
        "\n",
        "we obtain\n",
        "\n",
        "$$ \\mathbf{L}^{(1)} \\cdots \\mathbf{L}^{(n-2)}\\mathbf{L}^{(n-1)}\\mathbf{A}^{(n)} = \\mathbf{L}^{(1)} \\cdots \\mathbf{L}^{(n-2)}\\mathbf{L}^{(n-1)}\\mathbf{M}^{(n-1)}\\mathbf{M}^{(n-2)}\\cdots \\mathbf{M}^{(1)}\\mathbf{A}^{(1)} = \\mathbf{L}\\mathbf{U} $$\n",
        "\n",
        "where the lower diagonal matrix $\\mathbf{L}$ is given by:\n",
        "\n",
        "$$ \\mathbf{L} = \\mathbf{L}^{(1)} \\cdots \\mathbf{L}^{(n-2)}\\mathbf{L}^{(n-1)} $$."
      ]
    },
    {
      "cell_type": "markdown",
      "metadata": {
        "id": "WMhljipEZeqI"
      },
      "source": [
        "### Algorithm for LU factorization"
      ]
    },
    {
      "cell_type": "markdown",
      "metadata": {
        "id": "uhhO8IHKZeqI"
      },
      "source": [
        "The algorithm is then given by:\n",
        "\n",
        "**1.** Give a square matrix $\\mathbf{A}$ where the pivots are nonzero.\n",
        "\n",
        "**2.** Apply the operation $Comb(E_j,E_1,-a^{(1)}_{j1}/aa^{(1)}_{11})$. This eliminates the coefficients associated to $x_1$ in all the rows but in the first one.\n",
        "\n",
        "**3.** Construct the matrix $\\mathbf{L}^{(1)}$ given by\n",
        "\n",
        "$$ \\mathbf{L}^{(k)}_{ij} =  \\left\\{ \\matrix{\n",
        "1 & \\mbox{if}\\ \\ i=j \\\\\n",
        "m_{ij} = \\frac{a^{(j)}_{ij}}{a^{(j)}_{jj}} & \\mbox{if}\\ \\ j=k\\ \\ \\mbox{and}\\ \\ k+1\\leq i \\leq n \\\\\n",
        "0 & \\mbox{otherwise}\n",
        "}  \\right.$$\n",
        "\n",
        "with $k=1$.\n",
        "\n",
        "**4.** Repeat the steps **2** and **3** for the next column until reaching the last one.\n",
        "\n",
        "**5.** Return the matrices $\\mathbf{U} = \\mathbf{A}^{(n)}$ and $ \\mathbf{L} = \\mathbf{L}^{(1)} \\cdots \\mathbf{L}^{(n-2)}\\mathbf{L}^{(n-1)} $."
      ]
    },
    {
      "cell_type": "markdown",
      "metadata": {
        "id": "exUdG00wZeqI"
      },
      "source": [
        "### <span style='color:red'> Activity </span>"
      ]
    },
    {
      "cell_type": "markdown",
      "metadata": {
        "id": "CRppTdmpZeqJ"
      },
      "source": [
        "Create a routine called `LU_Factorization` that, given a matrix $\\mathbf{A}$ and the previous algorithm, calculate the LU factorization of the matrix. Test your routine with a random square matrix, verify that $\\mathbf{A} = \\mathbf{L}\\mathbf{U}$."
      ]
    },
    {
      "cell_type": "markdown",
      "metadata": {
        "id": "BrzDoQSTZeqJ"
      },
      "source": [
        "- - -"
      ]
    },
    {
      "cell_type": "code",
      "execution_count": null,
      "metadata": {
        "id": "dZJPVr-PZeqL",
        "outputId": "47a5112d-441f-4949-9a2b-fcc01acdc992"
      },
      "outputs": [
        {
          "data": {
            "text/plain": [
              "array([[ 5, -4,  0],\n",
              "       [-4,  7, -3],\n",
              "       [ 0, -3,  5]])"
            ]
          },
          "execution_count": 86,
          "metadata": {},
          "output_type": "execute_result"
        }
      ],
      "source": [
        "M1"
      ]
    },
    {
      "cell_type": "code",
      "execution_count": null,
      "metadata": {
        "id": "-PnVwXJIZeqM"
      },
      "outputs": [],
      "source": [
        "import scipy"
      ]
    },
    {
      "cell_type": "code",
      "execution_count": null,
      "metadata": {
        "id": "E9pS16IBZeqO",
        "colab": {
          "base_uri": "https://localhost:8080/",
          "height": 141
        },
        "outputId": "074442e9-836a-45d7-e039-b67842905f43"
      },
      "outputs": [
        {
          "output_type": "error",
          "ename": "NameError",
          "evalue": "name 'M1' is not defined",
          "traceback": [
            "\u001b[0;31m---------------------------------------------------------------------------\u001b[0m",
            "\u001b[0;31mNameError\u001b[0m                                 Traceback (most recent call last)",
            "\u001b[0;32m/tmp/ipython-input-4-1112610677.py\u001b[0m in \u001b[0;36m<cell line: 0>\u001b[0;34m()\u001b[0m\n\u001b[0;32m----> 1\u001b[0;31m \u001b[0mP\u001b[0m\u001b[0;34m,\u001b[0m\u001b[0mL\u001b[0m\u001b[0;34m,\u001b[0m\u001b[0mU\u001b[0m\u001b[0;34m=\u001b[0m\u001b[0mscipy\u001b[0m\u001b[0;34m.\u001b[0m\u001b[0mlinalg\u001b[0m\u001b[0;34m.\u001b[0m\u001b[0mlu\u001b[0m\u001b[0;34m(\u001b[0m\u001b[0mM1\u001b[0m\u001b[0;34m)\u001b[0m\u001b[0;34m\u001b[0m\u001b[0;34m\u001b[0m\u001b[0m\n\u001b[0m",
            "\u001b[0;31mNameError\u001b[0m: name 'M1' is not defined"
          ]
        }
      ],
      "source": [
        "P,L,U=scipy.linalg.lu(M1)"
      ]
    },
    {
      "cell_type": "code",
      "execution_count": null,
      "metadata": {
        "id": "4V4KAygxZeqP",
        "outputId": "111d2324-b6cc-4d7e-903b-9f52d6c7dd36"
      },
      "outputs": [
        {
          "data": {
            "text/plain": [
              "array([[ 5.        , -4.        ,  0.        ],\n",
              "       [ 0.        ,  3.8       , -3.        ],\n",
              "       [ 0.        ,  0.        ,  2.63157895]])"
            ]
          },
          "execution_count": 89,
          "metadata": {},
          "output_type": "execute_result"
        }
      ],
      "source": [
        "U"
      ]
    },
    {
      "cell_type": "code",
      "execution_count": null,
      "metadata": {
        "id": "414tjRWmZeqQ"
      },
      "outputs": [],
      "source": [
        "The same obtained before"
      ]
    },
    {
      "cell_type": "code",
      "execution_count": null,
      "metadata": {
        "id": "2u1yGvmRZeqS"
      },
      "outputs": [],
      "source": [
        "scipy.linalg.lu?"
      ]
    },
    {
      "cell_type": "markdown",
      "metadata": {
        "id": "ZMBQ61z8ZeqU"
      },
      "source": [
        "### <span style='color:red'> Eigenvalues and Eigenvectors activity  </span>"
      ]
    },
    {
      "cell_type": "markdown",
      "metadata": {
        "id": "o2NzCnm8ZeqV"
      },
      "source": [
        "#### Electron interacting with a magnetic field\n",
        "\n",
        "An electron is placed to interact with an uniform magnetic field. To give account of the possible allowed levels of the electron in the presence of the magnetic field it is necessary to solve the next equation\n",
        "\n",
        "\\begin{equation}\n",
        "\\hat{H}|\\Psi\\rangle = E|\\Psi\\rangle\n",
        "\\end{equation}\n",
        "\n",
        "where the hamiltonian is equal to $H = -\\mu \\cdot B = -\\gamma B \\cdot S$, with the gyromagnetic ratio $\\gamma$, $\\textbf{B}$ the magnetic field and $\\textbf{S}$ the spin. It can be shown that the hamiltonian expression is transformed in\n",
        "\n",
        "\\begin{equation}\n",
        "\\hat{\\textbf{H}} = - \\frac{\\gamma \\hbar}{2} \\left( \\begin{array}{cc}\n",
        "B_z  & B_x -i B_y \\\\\n",
        "B_x + i B_y  & -B_z  \\end{array} \\right)\n",
        "\\end{equation}\n",
        "\n",
        "Then, by solving the problem $|H - EI|=0$ is found the allowed energy levels, i.e., finding the determinant of the\n",
        "matrix $H - EI$ allows to get the values $E_1$ and $E_2$.\n",
        "\n",
        "\n",
        "\n",
        "And solving the problem $\\hat{H}\\Psi$ - E$\\Psi = 0$ gives the autofunctions $\\Psi$, i.e., the column vector $\\Psi= \\{\\Psi_1, \\Psi_2\\}$.\n",
        "\n",
        "The function scipy.optimize.root can be used to get roots of a given equation. The experimental value of $\\gamma$ for the electron is 2. The order of magnitude of the magnetic field is $1g$.\n",
        "\n",
        "\n",
        "\n",
        "1)  Find the allowed energy levels.\n",
        "\n",
        "\n",
        "\n",
        "2)  Find the autofunctions and normalize them.\n",
        "\n",
        "\n",
        "\n",
        "**Hint:** An imaginary number in python can be written as 1j.  \n"
      ]
    },
    {
      "cell_type": "code",
      "execution_count": null,
      "metadata": {
        "id": "HR50E1r6l5J-"
      },
      "outputs": [],
      "source": []
    }
  ],
  "metadata": {
    "colab": {
      "provenance": [],
      "include_colab_link": true
    },
    "kernelspec": {
      "display_name": "Python 3 (ipykernel)",
      "language": "python",
      "name": "python3"
    },
    "language_info": {
      "codemirror_mode": {
        "name": "ipython",
        "version": 3
      },
      "file_extension": ".py",
      "mimetype": "text/x-python",
      "name": "python",
      "nbconvert_exporter": "python",
      "pygments_lexer": "ipython3",
      "version": "3.9.2"
    }
  },
  "nbformat": 4,
  "nbformat_minor": 0
}