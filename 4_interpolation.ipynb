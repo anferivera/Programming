{
  "cells": [
    {
      "cell_type": "markdown",
      "metadata": {
        "id": "view-in-github",
        "colab_type": "text"
      },
      "source": [
        "<a href=\"https://colab.research.google.com/github/anferivera/Programming/blob/main/4_interpolation.ipynb\" target=\"_parent\"><img src=\"https://colab.research.google.com/assets/colab-badge.svg\" alt=\"Open In Colab\"/></a>"
      ]
    },
    {
      "cell_type": "markdown",
      "metadata": {
        "id": "CxkJ2Hx3cahd"
      },
      "source": [
        "# Interpolation Methods\n",
        "\n",
        "based in Diego Restrepo notebooks. https://github.com/restrepo/ComputationalMethods"
      ]
    },
    {
      "cell_type": "markdown",
      "metadata": {
        "id": "Lkh5jI_Acahf"
      },
      "source": [
        "Due to the discrete (and sometimes sparse) nature of experiments and observations, data taking procedures will always produce discrete data as well. Even, as we have seen before, information only can be discretely presented into a computer due to the binary representation. However, when we are dealing with physical models, continuous and smooth properties are of course preferred. Interpolation techniques allow then to recover a continuous field (intermediate values) from sparse datasets. Throughout this section we shall cover some of these interpolation methods."
      ]
    },
    {
      "cell_type": "markdown",
      "metadata": {
        "id": "QsfF38f4cahh"
      },
      "source": [
        "- - -\n",
        "- [Linear Interpolation](#Linear-Interpolation)\n",
        "    - [Steps](#Steps-LI)\n",
        "    - [Example 1](#Example-1)\n",
        "- [Lagrange Polynomial](#Lagrange-Polynomial)\n",
        "    - [Derivation](#Derivation)\n",
        "    - [Steps](#Steps-LP)\n",
        "    - [Activity](#Activity-LP)\n",
        "- [Divided Differences](#Divided-Differences)\n",
        "    - [Example 2](#Example-2)\n",
        "- [Hermite Interpolation](#Hermite-Interpolation)\n",
        "    - [Derivation in terms of divided differences](#Derivation-in-terms-of-divided-differences)\n",
        "    - [Example 3](#Example-3)\n",
        "- - -"
      ]
    },
    {
      "cell_type": "code",
      "execution_count": null,
      "metadata": {
        "colab": {
          "base_uri": "https://localhost:8080/"
        },
        "id": "niBG0s_zcahi",
        "outputId": "e412eb3b-7d13-4939-91bd-8a85bfb7c7e9"
      },
      "outputs": [
        {
          "output_type": "stream",
          "name": "stdout",
          "text": [
            "Populating the interactive namespace from numpy and matplotlib\n"
          ]
        }
      ],
      "source": [
        "import numpy as np\n",
        "%pylab inline\n",
        "import matplotlib.pyplot as plt\n",
        "from matplotlib import animation\n",
        "from IPython.core.display import Image"
      ]
    },
    {
      "cell_type": "markdown",
      "metadata": {
        "id": "g4kg92iTcahj"
      },
      "source": [
        "- - -"
      ]
    },
    {
      "cell_type": "markdown",
      "metadata": {
        "id": "QmqgTfpfcahk"
      },
      "source": [
        "# Linear Interpolation"
      ]
    },
    {
      "cell_type": "markdown",
      "metadata": {
        "id": "ueA0d6Ricahl"
      },
      "source": [
        "When we have a set of discrete points of the form $(x_i, y_i)$ for $1\\leq i \\leq N$, the most natural way to obtain (approximate) any intermediate value is assuming points connected by lines. Let's assume a set of points $(x_i, y_i)$ such that $y_i = f(x_i)$ for an unknown function $f(x)$, if we want to approximate the value $f(x)$ for $x_i\\leq x \\leq x_{i+1}$, we construct an equation of a line passing through $(x_i,y_i)$ and $(x_{i+1},y_{i+1})$, yielding:\n",
        "\n",
        "$$\\frac{y-y_i}{x-x_i} = \\frac{y_{i+1}-y_i}{x_{i+1}-x_i} \\ \\ \\longrightarrow  f(x)\\approx y = \\frac{y_{i+1}-y_i}{x_{i+1}-x_i}(x-x_i) + y_i $$\n",
        "\n",
        "and this can be applied for any $x$ such that $x_0\\leq x \\leq x_N$ and where it has been assumed an ordered set $\\left\\{x_i\\right\\}_i$."
      ]
    },
    {
      "cell_type": "markdown",
      "metadata": {
        "id": "xjZNGap9cahn"
      },
      "source": [
        "## Steps LI"
      ]
    },
    {
      "cell_type": "markdown",
      "metadata": {
        "id": "S1K6zS7jcahn"
      },
      "source": [
        "Once defined the mathematical basis behind linear interpolation, we proceed to establish the algorithmic steps for an implementation.\n",
        "\n",
        "1. Establish the dataset you want to interpolate, i.e. you must provide a set of the form $(x_i,y_i)$.\n",
        "2. Give the value $x$ where you want to approximate the value $f(x)$.\n",
        "3. Find the interval $[x_i, x_{i+1}]$ in which $x$ is embedded.\n",
        "4. Use the above expression in order to find $y=f(x)$."
      ]
    },
    {
      "cell_type": "markdown",
      "metadata": {
        "id": "xC9CuVZ2caho"
      },
      "source": [
        "## Example 1"
      ]
    },
    {
      "cell_type": "markdown",
      "metadata": {
        "id": "TpiklLNncahp"
      },
      "source": [
        "Sample the function $f(x) = \\sin(x)$ between $0$ and $2\\pi$ using $N=10$ intervals. Plot both, the interpolation and the original function."
      ]
    },
    {
      "cell_type": "markdown",
      "source": [],
      "metadata": {
        "id": "wAg7yy0TSiCB"
      }
    },
    {
      "cell_type": "code",
      "execution_count": null,
      "metadata": {
        "id": "H9K46HaKcahp"
      },
      "outputs": [],
      "source": [
        "#Linear Interpolating Function\n",
        "def LinearInterpolator( x, Xn, Yn ):\n",
        "\n",
        "    #Sorting data, in case they are not\n",
        "    Yn = Yn[np.argsort(Xn)]\n",
        "    Xn = Xn[np.argsort(Xn)]\n",
        "\n",
        "    #Detecting size of x\n",
        "    try:\n",
        "        Ninter = len(x)\n",
        "    except:\n",
        "        Ninter = 1\n",
        "        x = np.array([x,])\n",
        "\n",
        "    #Constructing function for each iteration\n",
        "    term = lambda x, i: (Yn[i+1] - Yn[i])/(Xn[i+1] - Xn[i])*(x - Xn[i]) + Yn[i]\n",
        "\n",
        "    #Detecting intervals for each x, [x_i, x_i+1] and interpolating\n",
        "    y = []\n",
        "    for n in range(Ninter):\n",
        "        for i in range(len(Xn)):\n",
        "            if x[n] <= Xn[i]:\n",
        "                break\n",
        "        y.append( term(x[n],i-1) )\n",
        "\n",
        "    return np.array(y)"
      ]
    },
    {
      "cell_type": "code",
      "execution_count": null,
      "metadata": {
        "colab": {
          "base_uri": "https://localhost:8080/",
          "height": 412
        },
        "id": "kNqDAEBTcahp",
        "outputId": "b59d4fa3-2861-4ca5-fc32-58baa690c2ba"
      },
      "outputs": [
        {
          "output_type": "display_data",
          "data": {
            "text/plain": [
              "<Figure size 800x400 with 1 Axes>"
            ],
            "image/png": "[encoded data removed]"
          },
          "metadata": {}
        }
      ],
      "source": [
        "#Function\n",
        "def function(x):\n",
        "    return np.sin(x)\n",
        "\n",
        "#Number of intervals for data\n",
        "Ndat = 10\n",
        "Xn = np.linspace( 0, 2*np.pi, Ndat )\n",
        "Yn = function(Xn)\n",
        "\n",
        "#Obtaining linear interpolation\n",
        "Ninter = 100\n",
        "x = np.linspace( 0, 2*np.pi, Ninter )\n",
        "y = LinearInterpolator( x, Xn, Yn )\n",
        "f = function(x)\n",
        "\n",
        "#Plotting\n",
        "plt.figure( figsize=(8,4) )\n",
        "plt.plot( x, f, color=\"blue\", linewidth=3, label=\"real function\" )\n",
        "plt.plot( Xn, Yn, \"o\", color=\"red\", label=\"data\" )\n",
        "#plt.plot( x, y, color=\"black\", linewidth=2, label=\"linear interpolation\" )\n",
        "plt.plot( x, y, 'k.', label=\"linear interpolation\" )\n",
        "\n",
        "#Formatting\n",
        "plt.legend()\n",
        "plt.grid()\n",
        "plt.xlabel( \"x\" )\n",
        "plt.xlabel( \"y\" )\n",
        "plt.ylim( (-1.5,1.5) )\n",
        "plt.title( \"Linear interpolation of $\\sin(x)$\" )\n",
        "plt.show()"
      ]
    },
    {
      "cell_type": "markdown",
      "metadata": {
        "id": "rLuLUhvUcahq"
      },
      "source": [
        "### <font color='red'>     **Activity: Linear Interpolation** </font>\n",
        "    \n",
        "1.  In an Jupyter-notebook, use the previous code and explore the behaviour of the Linear Interpolation algorithm when varying the number of data used.\n",
        "2.  Construya la interpolación lineal para la función $f(x)=x^3$ en $x\\, ϵ\\, [-9,9]$\n"
      ]
    },
    {
      "cell_type": "markdown",
      "metadata": {
        "id": "PMY47ithcahr"
      },
      "source": [
        "- - -"
      ]
    },
    {
      "cell_type": "markdown",
      "metadata": {
        "id": "1BrXhGPLcahr"
      },
      "source": [
        "# Lagrange Polynomial"
      ]
    },
    {
      "cell_type": "markdown",
      "metadata": {
        "id": "KRHYlyeTcahr"
      },
      "source": [
        "Algebraic polynomials are very special functions as they have properties like differentiability (unlike linear interpolation) and continuity that make them useful for approximations like interpolation. A Polynomial is defined as a function given by the general expression:\n",
        "\n",
        "$$P_n(x) = a_nx^n + a_{n-1}x^{n-1} + \\cdots + a_1 x + a_0$$\n",
        "\n",
        "where $n$ is the polynomial degree.\n",
        "\n",
        "Another important property of polynomials is given by the [Weierstrass Approximation Theorem](http://en.wikipedia.org/wiki/Stone%E2%80%93Weierstrass_theorem), which states given a cotinuous function $f$ defined on a interval $[a,b]$, for all $\\epsilon >0$, there exits a polynomial $P(x)$ such that\n",
        "\n",
        "$$|f(x) - P(x)|<\\epsilon\\ \\ \\ \\ \\  \\mbox{for all }\\ x\\ \\mbox{ in }\\ [a,b].$$\n",
        "\n",
        "This theorem guarantees the existence of such a polynomial, however it is necessary to propose a scheme to build it."
      ]
    },
    {
      "cell_type": "markdown",
      "metadata": {
        "id": "7ejFC6eTcahr"
      },
      "source": [
        "## Derivation"
      ]
    },
    {
      "cell_type": "markdown",
      "metadata": {
        "id": "y7WAogCbcahr"
      },
      "source": [
        "Let's suppose a well-behaved yet unknown function $f$ and two points $(x_0,y_0)$ and $(x_1,y_1)$ for which $f(x_0) = y_0$ and $f(x_1) = y_1$. With this information we can build a first-degree polynomial that passes through both points by using the last equation in sec. [Linear Interpolation](interpolation.ipynb#Linear-Interpolation), we have\n",
        "\n",
        "$$P_1(x) = \\left[ \\frac{y_{1}-y_0}{x_{1}-x_0} \\right]x + \\left[ y_0 - \\frac{y_{1}-y_0}{x_{1}-x_0}x_0 \\right]$$\n",
        "\n",
        "We can readily rewrite this expression like:\n",
        "\n",
        "$$P_1(x) = L_0(x)f(x_0) + L_1(x)f(x_1)$$\n",
        "\n",
        "where we define the functions $L_0(x)$ and $L_1(x)$ as:\n",
        "\n",
        "$$L_0(x) = \\frac{x-x_1}{x_0-x_1} \\mbox{ and } L_1(x) = \\frac{x-x_0}{x_1-x_0}$$\n",
        "\n",
        "Note then that\n",
        "\n",
        "$$L_0(x_0) = 1,\\ \\ \\ L_0(x_1) = 0,\\ \\ \\ L_1(x_0) = 0,\\ \\ \\ L_1(x_1) = 1$$\n",
        "\n",
        "implying:\n",
        "\n",
        "$$P_1(x_0) = f(x_0) = y_0$$\n",
        "\n",
        "$$P_1(x_1) = f(x_1) = y_1$$\n",
        "\n",
        "Although all this procedure may seem unnecessary for a line, a generalization to larger datasets is direct."
      ]
    },
    {
      "cell_type": "markdown",
      "metadata": {
        "id": "VWtftkAQcahr"
      },
      "source": [
        "## General case\n",
        "Let's assume again a well-behaved and unknown function $f$ sampled by using a set of $n+1$ data $(x_m,y_m)$ ($0\\leq m \\leq n$).\n",
        "We call the set of $[x_0,x_1,\\ldots,x_n]$ as the _node_ points of the _interpolation polynomial in the Lagrange form_, $P_n(x)$, where:\n",
        "$$f(x)\\approx P_n(x)\\,,$$\n",
        "\n",
        "$$P_n(x) = \\sum_{i=0}^n f(x_i)L_{n,i}(x) = \\sum_{i=0}^n y_iL_{n,i}(x)$$\n",
        "\n",
        "\n",
        "We need to find the _Lagrange polynomials_,  $L_{n,i}(x)$, such that\n",
        "$$L_{n,i}(x_i) = 1\\,,\\qquad\\text{and}\\,,\\qquad L_{n,i}(x_j) = 0\\quad\\text{for $i\\neq j$}$$\n",
        "A function that satisfies this criterion is\n",
        "\n",
        "$$L_{n,i}(x) = \\prod_{\\begin{smallmatrix}m=0\\\\ m\\neq i\\end{smallmatrix}}^n \\frac{x-x_m}{x_i-x_m} =\\frac{(x-x_0)}{(x_i-x_0)}\\frac{(x-x_1)}{(x_i-x_1)}\\cdots \\frac{(x-x_{i-1})}{(x_i-x_{i-1})}\\underbrace{\\frac{}{}}_{m\\ne i}\n",
        "\\frac{(x-x_{i+1})}{(x_i-x_{i+1})} \\cdots \\frac{(x-x_{n-1})}{(x_i-x_{n-1})}\\frac{(x-x_n)}{(x_i-x_n)}  $$\n",
        "Please note that in the expansion the term $(x-x_i)$ does not appears in both the numerator and the denominator as stablished in the productory condition $m\\neq i$.\n",
        "\n",
        "Moreower\n",
        "$$L_{n,i}(x_i) = \\prod_{\\begin{smallmatrix}m=0\\\\ m\\neq i\\end{smallmatrix}}^n \\frac{x_i-x_m}{x_i-x_m} =1$$\n",
        "and, for $j\\ne i$\n",
        "$$L_{n,i}(x_j) = \\prod_{\\begin{smallmatrix}m=0\\\\ m\\neq i\\end{smallmatrix}}^n \\frac{x_j-x_m}{x_i-x_m} =\\frac{(x_j-x_0)}{(x_i-x_0)}\\cdots \\frac{(\\boldsymbol{x_j}-\\boldsymbol{x_j})}{(x_i-x_j)}\\cdots\\frac{(x_j-x_n)}{(x_i-x_n)}=0.$$\n",
        "\n",
        "\n",
        "Then, the polynomial of $n$th-degree $P_n(x)$ will satisfy the definitory property for a interpolating polynomial, i.e. $P_n(x_i) = y_i$ for any $i$ and it is called the _interpolation Polynomial in the Lagrange form_.\n",
        "\n",
        "**Further details at:**\n",
        "[Wikipedia](https://en.wikipedia.org/wiki/Lagrange_polynomial)"
      ]
    },
    {
      "cell_type": "markdown",
      "metadata": {
        "id": "_EDjKqQfcahs"
      },
      "source": [
        "### Example:\n",
        "Obtain the Lagrange Polynomials for a Interpolation polynomial of degree 1.\n",
        "\n",
        "$i=0$, $n=1$\n",
        "$$ L_{1,0}=\\prod_{\\begin{smallmatrix}m=0\\\\ m\\neq 0\\end{smallmatrix}}^1 \\frac{x-x_m}{x_i-x_m}=\\prod_{\\begin{smallmatrix}m=1\\end{smallmatrix}}^1 \\frac{x-x_m}{x_0-x_m}=\\frac{x-x_1}{x_0-x_1}$$\n",
        "$i=1$, $n=1$\n",
        "$$ L_{1,1}=\\prod_{\\begin{smallmatrix}m=0\\\\ m\\neq 1\\end{smallmatrix}}^1 \\frac{x-x_m}{x_i-x_m}=\\prod_{\\begin{smallmatrix}m=0\\end{smallmatrix}}^0 \\frac{x-x_m}{x_1-x_m}=\\frac{x-x_0}{x_1-x_0}$$\n",
        "\n",
        "- - -\n"
      ]
    },
    {
      "cell_type": "markdown",
      "source": [
        "**Example**:\n",
        "Let's construc the Lagrange polynomial for $f(x)=x^3$ given the three points $[0,1,2]=[x_0,x_1,x_2]$.\n",
        "\n",
        "\\begin{align}\n",
        "L_{2,0}=& \\dfrac{(x-x_1)(x-x_2)}{(x_0 - x_1)(x_0 - x_2)} = \\dfrac{(x-1)(x-2)}{2}\n",
        "\\\\\n",
        "L_{2,1}=& \\dfrac{(x-x_0)(x-x_2)}{(x_1 - x_0)(x_1 - x_2)} = \\dfrac{x(x-2)}{-1}\n",
        "\\\\\n",
        "L_{2,2}=& \\dfrac{(x-x_0)(x-x_1)}{(x_2 - x_0)(x_2 - x_1)} = \\dfrac{x(x-1)}{2}\n",
        "\\end{align}\n",
        "\n",
        "therefore:\n",
        "\n",
        "$$P_n(x) = \\sum_{i=0}^n f(x_i)L_{n,i}(x)$$\n",
        "\n",
        "$$P_2(x) = \\sum_{i=0}^2 f(x_i)L_{n,i}(x) = 3x^2-2x$$\n",
        "\n",
        "With three points the algoritm return the polynomial $p_2(x)=3x^2-2x+0,$ for the function $f(x)=x^3$.\n"
      ],
      "metadata": {
        "id": "4t8qOZgPys7d"
      }
    },
    {
      "cell_type": "markdown",
      "source": [
        "https://docs.scipy.org/doc/scipy-1.15.2/reference/generated/scipy.interpolate.lagrange.html"
      ],
      "metadata": {
        "id": "pAEG1WnJIDSE"
      }
    },
    {
      "cell_type": "code",
      "source": [
        "from scipy.interpolate import lagrange #\n",
        "from numpy.polynomial.polynomial import Polynomial # return the polinomial coeficients"
      ],
      "metadata": {
        "id": "Q339xvXx9htU"
      },
      "execution_count": null,
      "outputs": []
    },
    {
      "cell_type": "code",
      "source": [
        "#import numpy as np\n",
        "#from scipy.interpolate import lagrange\n",
        "\n",
        "lista = [0,1,2] #3 points --> P2\n",
        "lista2 = [0,0.5,1,1.5,2] #5 points --> P4\n",
        "\n",
        "Xn = np.array(lista)\n",
        "Yn = Xn**3\n",
        "xx = np.array(lista2)\n",
        "yy = xx**3\n",
        "#Lagrange Polynomial coeficients\n",
        "poly = lagrange(Xn, Yn)\n",
        "print(poly)\n",
        "poly2 = lagrange(xx, yy)\n",
        "\n",
        "#New completed array\n",
        "x = np.linspace(0, 2, 50)\n",
        "y = x**3"
      ],
      "metadata": {
        "id": "UAS_4R90FEy-",
        "colab": {
          "base_uri": "https://localhost:8080/"
        },
        "outputId": "89a3ed5b-59e2-47b3-ec1f-e5ca8c4238e4"
      },
      "execution_count": null,
      "outputs": [
        {
          "output_type": "stream",
          "name": "stdout",
          "text": [
            "   2\n",
            "3 x - 2 x\n"
          ]
        }
      ]
    },
    {
      "cell_type": "code",
      "source": [
        "plt.figure( figsize=(5,4) )\n",
        "plt.plot(Xn,Yn,'bo',label='tres puntos to interpolate')\n",
        "plt.plot(x,y,'c-',lw=4,label='function $x^3$')\n",
        "\n",
        "plt.plot(x, Polynomial(poly.coef[::-1])(x), 'r-', label=r'$P_2(x)$')\n",
        "plt.plot(x, Polynomial(poly2.coef[::-1])(x), 'm--',label=r'$P_4(x)$')\n",
        "\n",
        "#plt.plot(x,x*(-2+3*x),'r.', label='polynomio x(-2+3x)')\n",
        "\n",
        "plt.legend()\n",
        "plt.legend()\n",
        "plt.title('Lagrange Polynomial')\n",
        "plt.show()"
      ],
      "metadata": {
        "colab": {
          "base_uri": "https://localhost:8080/",
          "height": 391
        },
        "id": "f4u-gi14Jgxu",
        "outputId": "26647920-0e0f-4bbc-b015-f107880f9396"
      },
      "execution_count": null,
      "outputs": [
        {
          "output_type": "display_data",
          "data": {
            "text/plain": [
              "<Figure size 500x400 with 1 Axes>"
            ],
            "image/png": "[encoded data removed]"
          },
          "metadata": {}
        }
      ]
    },
    {
      "cell_type": "code",
      "source": [
        "print(Polynomial(poly).coef)\n",
        "print(Polynomial(poly2).coef)"
      ],
      "metadata": {
        "colab": {
          "base_uri": "https://localhost:8080/"
        },
        "id": "8TsCZrQHQZ9c",
        "outputId": "20f87145-c97d-4f43-86c0-d9e845e0c5e6"
      },
      "execution_count": null,
      "outputs": [
        {
          "output_type": "stream",
          "name": "stdout",
          "text": [
            "[ 3. -2.  0.]\n",
            "[-8.88178420e-16  1.00000000e+00 -1.77635684e-15  0.00000000e+00\n",
            "  0.00000000e+00]\n"
          ]
        }
      ]
    },
    {
      "cell_type": "markdown",
      "metadata": {
        "id": "f63U6AlKcahs"
      },
      "source": [
        "### <font color='red'>     **Activity: Lagrange Interpolation** </font>\n",
        "\n",
        "  Write your own implementation of the Lagrange interpolation algorithm during classtime.\n",
        "\n",
        "  Help: import sympy as sp, and use the variable x = sp.Symbol('x')\n"
      ]
    },
    {
      "cell_type": "code",
      "source": [
        "import sympy as sp\n",
        "#x symbol\n",
        "x = sp.Symbol('x')\n",
        "#Arrays\n",
        "Xn = np.array([0,1,2])\n",
        "Yn = Xn**3"
      ],
      "metadata": {
        "id": "kCmfPCoPwvfg"
      },
      "execution_count": null,
      "outputs": []
    },
    {
      "cell_type": "code",
      "source": [
        "#Define Ln,i(x) polynomical\n",
        "def Lni(Xn,i):\n",
        "  #ini variables\n",
        "  num, den, k = 1, 1, 0\n",
        "\n",
        "  for j in range(len(Xn)):\n",
        "    if j != i:\n",
        "      num *= (x-Xn[j])\n",
        "      den *= (Xn[i]-Xn[j])\n",
        "  return(num/den)\n",
        "\n",
        "#Lagrange polynomio\n",
        "def Pn(Xn,Yn):\n",
        "  k = 0\n",
        "  for i in range(len(Xn)):\n",
        "    k = Yn[i]*Lni(Xn,i) + k\n",
        "  return(sp.simplify(k))"
      ],
      "metadata": {
        "id": "po0EOUuNwvvy"
      },
      "execution_count": null,
      "outputs": []
    },
    {
      "cell_type": "markdown",
      "metadata": {
        "id": "oTAIbOEJcahs"
      },
      "source": [
        "- - -\n",
        "## Steps LP\n",
        "\n",
        "Once defined the formal procedure for constructing a Lagrange Polynomial, we proceed to describe the explicit algorithm:\n",
        "\n",
        "1. Give the working dataset $(x_i, y_i)$ and stablish how many points you have.\n",
        "2. Define the functions $L_{n,i}(x)$ in a general way.\n",
        "3. Add each of those terms as shown in last expression.\n",
        "4. Evaluate your result wherever you want.\n",
        "\n",
        "- - -"
      ]
    },
    {
      "cell_type": "markdown",
      "metadata": {
        "id": "fY1CNDbscahw"
      },
      "source": [
        "## Activity LP\n",
        "\n",
        "<div style=\"float: right;\" markdown=\"1\">\n",
        "    <img src=\"http://universe-review.ca/I05-28-NGC7331.jpg\">\n",
        "</div>\n",
        "\n",
        "One of the very first evidences of the existence of dark matter was the flat rotation curves of spiral galaxies. If we assume the total budget of mass of a galaxy is entirely made of luminous matter, the orbital circular velocity of stars around the galaxy plane should decay according to a keplerian potential. However this is not the case and the circular velocity barely decreases at larger radius, thus indicating the presence of a new non-visible matter component (dark matter). When it is necessary to determine how massive is the dark matter halo embedding a galaxy, an integration of the circular velocity is required. Nevertheless, due to the finite array of a CCD camera, only a discrete set of velocities can be measured and interpolation techniques are required.\n",
        "\n",
        "## <font color='red'>     **Activity** </font>\n",
        "\n",
        "In this activity we will take a discrete dataset of the circular velocity as a function of the radius for the galaxy [NGC 7331](http://es.wikipedia.org/wiki/NGC_7331) and perform both, a linear and a Lagrange interpolation. You can download the dataset from this [link](https://raw.githubusercontent.com/sbustamante/ComputationalMethods/master/data/NGC7331.dat).\n",
        "\n",
        "- - -"
      ]
    },
    {
      "cell_type": "markdown",
      "metadata": {
        "id": "ZxyJzIWUcahw"
      },
      "source": [
        "- - -"
      ]
    },
    {
      "cell_type": "markdown",
      "metadata": {
        "id": "yW8fZjnacahw"
      },
      "source": [
        "# Divided Differences"
      ]
    },
    {
      "cell_type": "markdown",
      "metadata": {
        "id": "EHV2jKQ9cahw"
      },
      "source": [
        "In spite of the good precision achieved by the Lagrange interpolating polynomials, analytical manipulation of such an expressions is rather complicated. Furthermore, when applying other polynomials-based techniques like Hermite polynomials, the algorithms present very different ways to achieve the final interpolation, making a comparison unclear.\n",
        "\n",
        "Divided differences is a way to standardize the notation for interpolating polynomials. Suppose a polynomial $P_n(x)$ and write it in the next form:\n",
        "\n",
        "$$P_n(x) = a_0 + a_1(x-x_0)+ a_2 (x-x_0)(x-x_1)+\\cdots + a_n(x-x_0)\\cdots (x-x_{n-1})$$\n",
        "\n",
        "where $a_i$ are a set of constants to be determined from the given data $(x_i, y_i)$.\n",
        "\n",
        "Note that due to the definition of an interpolant function, previous expression should satisfy:\n",
        "\n",
        "$$P_n(x_0) = a_0 = y_0$$\n",
        "\n",
        "$$P_n(x_1) = a_0 + a_1(x_1-x_0) = y_0 + a_1(x_1-x_0) = y_1 \\ \\ \\ \\longrightarrow \\ \\ \\ \\ a_1 = \\frac{f(x_1)-f(x_0)}{x_1-x_0}$$\n",
        "\n",
        "$\\cdots$ and so.\n",
        "\n",
        "Defining the **zeroth divided difference** of $x_i$ like\n",
        "\n",
        "$$D_0[x_i] = f[x_i] = f(x_i) = y_i$$\n",
        "\n",
        "the **firts divided difference** of $x_i$ like\n",
        "\n",
        "$$D_1[x_i] = f[x_i, x_{i+1}] = \\frac{f[x_{i+1}]-f[x_i]}{x_{i+1}-x_i}$$\n",
        "\n",
        "$$D_1[x_i] = \\frac{D_{0}[x_{i+1}]-D_{0}[x_{i}]}{x_{i+1}-x_i} $$\n",
        "\n",
        "successively until the **kth divided difference**\n",
        "\n",
        "$$D_k[x_i] = f[x_i, x_{i+1},\\cdots, x_{i+k-1},x_{i+k}] = \\frac{f[x_{i+1},x_{i+2}\\cdots, x_{i+k}]-f[x_i, x_{i+1},\\cdots, x_{i+k-1}]}{x_{i+k}-x_i}$$\n",
        "\n",
        "$$D_k[x_i] = \\frac{D_{k-1}[x_{i+1}]-D_{k-1}[x_{i}]}{x_{i+k}-x_i}$$\n",
        "\n",
        "These expressions are the fundamental bricks for any interpolating method."
      ]
    },
    {
      "cell_type": "code",
      "execution_count": null,
      "metadata": {
        "id": "kINqEAelcahw"
      },
      "outputs": [],
      "source": [
        "#Construction of a kth divided difference (recursive code)\n",
        "def D( i, k, Xn, Yn ):\n",
        "    #If k+i>N\n",
        "    if i+k>=len(Xn):\n",
        "        return 0\n",
        "    #Zeroth divided difference\n",
        "    elif k == 0:\n",
        "        return Yn[i]\n",
        "    #If higher divided difference\n",
        "    else:\n",
        "        return (D(i+1, k-1, Xn, Yn)-D(i, k-1, Xn, Yn))/(Xn[i+k]-Xn[i])"
      ]
    },
    {
      "cell_type": "markdown",
      "metadata": {
        "id": "9b1zS91acahx"
      },
      "source": [
        "## Example 2"
      ]
    },
    {
      "cell_type": "markdown",
      "metadata": {
        "id": "J2fPArZkcahx"
      },
      "source": [
        "As an example, Lagrange interpolation can be also derived by using divided differences, which is reached through the next equation:\n",
        "\n",
        "$$P_n(x) = D_0[x_0] + \\sum_{k=1}^n D_k[x_0] (x-x_0) \\cdots (x-x_{k-1})$$\n",
        "\n",
        "Note this expression is by far easier to be manipulated analytically as we can know the coefficients of each order."
      ]
    },
    {
      "cell_type": "markdown",
      "metadata": {
        "id": "YOyeCAn-cahx"
      },
      "source": [
        " ### <font color='red'>     **Activity: Divided difference** </font>\n",
        "1.  Using the previous expression and the defined function for divided differences construc the $P_2(x)$ for $f(x)=x^3$, $x ϵ [0,2]$ given the three points $[0,1,2]=[x_0,x_1,x_2]$.\n",
        "2.  Construc the $P_4(x)$ for $f(x)=x^3$, $x_i = [0,2]$ given the 5 points $[0,0.5,1,1.5,2]$.\n",
        "3.  Show both methods to calculate Lagrange interpolators are equivalents (opcional)...\n"
      ]
    },
    {
      "cell_type": "markdown",
      "source": [
        "Help: for $f(x)=x^3$, $x ϵ [0,2]$ given the three points $[0,1,2]=[x_0,x_1,x_2]$. $f(x_i)=[0,1,8]$, we know that $P_2(x)=3x^2-2x$. Show it!"
      ],
      "metadata": {
        "id": "320dCRzeDAlO"
      }
    },
    {
      "cell_type": "markdown",
      "metadata": {
        "id": "My8yMmLNcahx"
      },
      "source": [
        "- - -"
      ]
    },
    {
      "cell_type": "markdown",
      "metadata": {
        "id": "VDataR-Fcahz"
      },
      "source": [
        "# Hermite Interpolation"
      ]
    },
    {
      "cell_type": "markdown",
      "metadata": {
        "id": "GXYdiL8Rcah0"
      },
      "source": [
        "From calculus we know that Taylor polynomials expand a function at a specific point $x_i$, being both functions (the original one and the Taylor function) exactly equal at any derivative-order at that point. Also, as mentioned before, a Lagrange polynomial, given a set of data points, passes through all those points at the same time. However if those points come from an unknown underlying function $f(x)$, the interpolant polynomial might (surely) differ from the real function at any superior derivative-order. So we have:\n",
        "\n",
        "- **Taylor polynomials** are exact at any order, but that only remains true at a specific point.\n",
        "\n",
        "- **Lagrange polynomials** pass through all points of a give dataset, but only at zeroth-order. Derivatives are not longer equal.\n",
        "\n",
        "Once established these differences, we can introduce Hermite polynomials just as a generalization of both, Taylor and Lagrange polynomials.\n",
        "\n",
        "At first, Hermite polynomials can be approximated at any desired order at all the points, as long as one has all these information. However, for the sake of simplicity and without loss of generality, we shall assume Hermite polynomials equal to the real function at zeroth and first-derivative order.\n",
        "\n",
        "Let's suppose a dataset $\\{x_i\\}_i$ for $i = 0,1,\\cdots,n$ with the respective values $\\{f(x_i)\\}_i$ and $\\{f'(x_i)\\}_i$. If we assume two different polynomials to fit each set of data, i.e. a polynomial for $\\{f(x_i)\\}_i$ and another for $\\{f'(x_i)\\}_i$, we obtain $2n+2$ coefficients, however zeroth-order coefficients can be put together so finally there are $2n+1$ independet coefficients to be determined. In this case, we assign the respective Hermite polynimial as $H_{2n+1}(x)$."
      ]
    },
    {
      "cell_type": "markdown",
      "metadata": {
        "id": "VS8eFXUlcaiB"
      },
      "source": [
        "## Derivation in terms of divided differences"
      ]
    },
    {
      "cell_type": "markdown",
      "metadata": {
        "id": "QjgDmTdkcaiC"
      },
      "source": [
        "Remembering the divided differences expression for a Lagrange polynomial\n",
        "\n",
        "$$P_n(x) = D_0[x_0] + \\sum_{k=1}^n D_k[x_0] (x-x_0) \\cdots (x-x_{k-1})$$\n",
        "\n",
        "and by defining a new sequence $\\{z_0, z_1, \\cdots, z_{2n+1}\\}$ such that\n",
        "\n",
        "$$z_{2i} = z_{2i+1} = x_i \\mbox{ for } i = 0,1,\\cdots, n$$\n",
        "\n",
        "However, divided differences has to be modified in order to include first-order derivatives:\n",
        "\n",
        "![](https://raw.githubusercontent.com/sbustamante/ComputationalMethods/master/material/figures/table_coefficients.png)\n",
        "\n",
        "Note that $f[z_0,z_1]$ sould be originally\n",
        "\n",
        "$$f[z_0,z_1] = \\frac{f[z_1]-f[z_0]}{z_1-z_0}$$\n",
        "\n",
        "but replacing $z_0 = z_1 = x_0$ this would lead an indetermination. In order to solve this issue, this indertemination can be readily approximated to the derivative at $z_0$, so\n",
        "\n",
        "$$f[z_0,z_1] = f'(x_0)$$\n",
        "\n",
        "or using the previously defined notation\n",
        "\n",
        "$$D_1[z_0] = f'(x_0)$$\n",
        "\n",
        "Generally, for first-order divided differences we will have\n",
        "\n",
        "$$D_1[z_{2i}] = f'(x_i)$$\n",
        "\n",
        "$$D_1[z_{2i+1}] = D_1[x_i]$$\n",
        "\n",
        "Higher order divided differences are calculated as usual.\n",
        "\n",
        "Finally, the Hermite polynomial is built using the next expression\n",
        "\n",
        "$$H_{2n+1}(x) = D_0[z_0] + \\sum_{k=1}^{2n+1} D_k[z_0] (x-z_0) \\cdots (x-z_{k-1})$$\n"
      ]
    },
    {
      "cell_type": "markdown",
      "metadata": {
        "id": "cN93RdWEcaiC"
      },
      "source": [
        "## Example 3"
      ]
    },
    {
      "cell_type": "markdown",
      "metadata": {
        "id": "MT-dFyR7caiC"
      },
      "source": [
        "Define a routine to calculate divided differences for Hermite polynomials."
      ]
    },
    {
      "cell_type": "code",
      "execution_count": null,
      "metadata": {
        "id": "NlOlHp5ucaiC"
      },
      "outputs": [],
      "source": [
        "#Construction of a kth divided difference for Hermite polynomials (recursive code)\n",
        "def Dh( j, k, Zn, Yn, Ypn ):\n",
        "    #If k+j>N\n",
        "    if j+k>=len(Zn):\n",
        "        return 0\n",
        "    #Zeroth divided difference\n",
        "    elif k == 0:\n",
        "        return Yn[j/2]\n",
        "    #First order divided difference (even indexes)\n",
        "    elif k == 1 and j%2 == 0:\n",
        "        return Ypn[j/2]\n",
        "    #If higher divided difference\n",
        "    else:\n",
        "        return (Dh(j+1, k-1, Zn, Yn, Ypn)-Dh(j, k-1, Zn, Yn, Ypn))/(Zn[j+k]-Zn[j])"
      ]
    },
    {
      "cell_type": "markdown",
      "metadata": {
        "id": "OfL4zyMHcaiD"
      },
      "source": [
        "### <font color='red'> **Activity: Hermite Polynomial** </font>\n",
        "\n",
        "<font color='red'>    \n",
        "\n",
        "Calculate a routine, using the previous program for divided differences, that computes the Hermite polynomial given a dataset.\n",
        "\n",
        "Generate a set of $N$ points of the function $\\sin^2(x)$ between $0$ and $2\\pi$, including an array of $x$ positions, $y = f(x)$ and first derivative $y' = f'(x)$.\n",
        "\n",
        "Show which polynomial gives the best approximation to the real function, Hermite or Lagrange polynomial.\n",
        "\n",
        "</font>\n",
        "\n",
        "<font color='white'>\n",
        "Solution:\n",
        "\n",
        "nbviewer.ipython.org/github/sbustamante/ComputationalMethods/blob/master/activities/hermite-and-lagrange.ipynb\n",
        "</font>"
      ]
    },
    {
      "cell_type": "markdown",
      "metadata": {
        "id": "cMiUXFHNcaiD"
      },
      "source": [
        "- - -"
      ]
    },
    {
      "cell_type": "code",
      "source": [],
      "metadata": {
        "id": "Jc9Qe3n8fwph"
      },
      "execution_count": null,
      "outputs": []
    }
  ],
  "metadata": {
    "kernelspec": {
      "display_name": "Python 3",
      "language": "python",
      "name": "python3"
    },
    "language_info": {
      "codemirror_mode": {
        "name": "ipython",
        "version": 3
      },
      "file_extension": ".py",
      "mimetype": "text/x-python",
      "name": "python",
      "nbconvert_exporter": "python",
      "pygments_lexer": "ipython3",
      "version": "3.4.2"
    },
    "colab": {
      "provenance": [],
      "include_colab_link": true
    }
  },
  "nbformat": 4,
  "nbformat_minor": 0
}